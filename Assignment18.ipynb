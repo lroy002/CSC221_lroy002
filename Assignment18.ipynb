{
  "nbformat": 4,
  "nbformat_minor": 0,
  "metadata": {
    "colab": {
      "provenance": [],
      "include_colab_link": true
    },
    "kernelspec": {
      "name": "python3",
      "display_name": "Python 3"
    },
    "language_info": {
      "name": "python"
    }
  },
  "cells": [
    {
      "cell_type": "markdown",
      "metadata": {
        "id": "view-in-github",
        "colab_type": "text"
      },
      "source": [
        "<a href=\"https://colab.research.google.com/github/lroy002/CSC221_lroy002/blob/main/Assignment18.ipynb\" target=\"_parent\"><img src=\"https://colab.research.google.com/assets/colab-badge.svg\" alt=\"Open In Colab\"/></a>"
      ]
    },
    {
      "cell_type": "markdown",
      "source": [
        "# Assignment 18\n",
        "## CSC 221\n",
        "- Lily Roy\n",
        "\n",
        "### Instructions:\n",
        "Fill in each code cell below the question. We are following along in Chapter 2 of Python Distilled."
      ],
      "metadata": {
        "id": "IAOUzGWE1eDx"
      }
    },
    {
      "cell_type": "code",
      "execution_count": 2,
      "metadata": {
        "id": "Gnj3su7i5-lx",
        "colab": {
          "base_uri": "https://localhost:8080/"
        },
        "outputId": "78cbfe8c-f953-43cc-fe20-070e610bceb1"
      },
      "outputs": [
        {
          "output_type": "stream",
          "name": "stdout",
          "text": [
            "0x3bb8\n"
          ]
        }
      ],
      "source": [
        "# 2.1 Literals\n",
        "\n",
        "# Show how to compute hex 3a27 plus binary 110101111 - 30 decimal using Python literals\n",
        "\n",
        "# INSERT YOUR CODE HERE\n",
        "\n",
        "hex_value = 0x3a27\n",
        "binary_value = 0b110101111\n",
        "decimal_value = 30\n",
        "\n",
        "result = hex_value + binary_value - decimal_value\n",
        "\n",
        "print(hex(result))"
      ]
    },
    {
      "cell_type": "code",
      "source": [
        "# 2.2 Expressions\n",
        "# I'll make you a small file in the cell below. You can just run this."
      ],
      "metadata": {
        "id": "w2uYd3DO2do6"
      },
      "execution_count": null,
      "outputs": []
    },
    {
      "cell_type": "code",
      "source": [
        "%%file small_file.txt\n",
        "I am the first line of the file.\n",
        "I am the second line. I contain secrets so please don't print me!\n",
        "I am the last line.\n"
      ],
      "metadata": {
        "colab": {
          "base_uri": "https://localhost:8080/"
        },
        "id": "Aa3ylzmV2wNF",
        "outputId": "dd55d0b7-588e-4e48-9f78-ea6e3c3f0346"
      },
      "execution_count": 3,
      "outputs": [
        {
          "output_type": "stream",
          "name": "stdout",
          "text": [
            "Writing small_file.txt\n"
          ]
        }
      ]
    },
    {
      "cell_type": "code",
      "source": [
        "# Now fix the code below code and print all the lines of the file EXCEPT line 2\n",
        "file1 = open('small_file.txt', 'r')\n",
        "line_number = 0\n",
        "# FIX THE TWO LINES BELOW\n",
        "while line := file1.readline():\n",
        "  line_number += 1\n",
        "  if line_number != 2:\n",
        "    print(line)\n",
        "file1.close()"
      ],
      "metadata": {
        "id": "RcnlhAYc26bz",
        "colab": {
          "base_uri": "https://localhost:8080/"
        },
        "outputId": "d27a971f-ce39-4595-d5c7-e1a6db6a17ed"
      },
      "execution_count": 6,
      "outputs": [
        {
          "output_type": "stream",
          "name": "stdout",
          "text": [
            "I am the first line of the file.\n",
            "\n",
            "I am the last line.\n",
            "\n"
          ]
        }
      ]
    },
    {
      "cell_type": "code",
      "source": [
        "# 2.3 Standard Operators\n",
        "# Experiment with pow(x, y, modulo). What does modulo do?\n",
        "# INSERT YOUR CODE HERE\n",
        "x = 5\n",
        "y = 7\n",
        "modulo = 8\n",
        "\n",
        "result = pow(x, y, modulo)\n",
        "\n",
        "print(f\"{x}^{y} mod {modulo} = {result}\")\n",
        "# Experiment with round(x, n). What does n do? What about n=2 vs n=-2?\n",
        "# INSERT YOUR CODE HERE\n",
        "x = 23\n",
        "\n",
        "rounded_to_2_decimal_places = round(x, 5)\n",
        "rounded_to_minus_2_decimal_places = round(x, -5)\n",
        "\n",
        "print(f\"original number: {x}\")\n",
        "print(f\"rounded to 5 decimal places : {rounded_to_2_decimal_places}\")\n",
        "print(f\"rounded to -5 decimal places : {rounded_to_minus_2_decimal_places}\")"
      ],
      "metadata": {
        "id": "my7GSDpN3i0b",
        "colab": {
          "base_uri": "https://localhost:8080/"
        },
        "outputId": "dd7917f2-03fa-4685-b714-d01437e88040"
      },
      "execution_count": 15,
      "outputs": [
        {
          "output_type": "stream",
          "name": "stdout",
          "text": [
            "5^7 mod 8 = 5\n",
            "original number: 23\n",
            "rounded to 5 decimal places : 23\n",
            "rounded to -5 decimal places : 0\n"
          ]
        }
      ]
    },
    {
      "cell_type": "code",
      "source": [
        "# 2.4 In-Place Assignment\n",
        "# What should a = [1, 2, 3] followed by a += [7, 6, 5] do? Show me!\n",
        "# INSERT YOUR CODE HERE\n",
        "a = [1, 2, 3]\n",
        "a += [7, 6, 5]\n",
        "print(a)\n",
        "\n",
        "# What should a = [1, 2, 3] followed by a *= 4 do? Show me!\n",
        "# INSERT YOUR CODE HERE\n",
        "a = [1, 2, 3]\n",
        "a *= 4\n",
        "print(a)\n"
      ],
      "metadata": {
        "id": "EFrCMekW4ojR",
        "colab": {
          "base_uri": "https://localhost:8080/"
        },
        "outputId": "7d7cc44d-adb5-4311-d1b6-df2704fb7a44"
      },
      "execution_count": 19,
      "outputs": [
        {
          "output_type": "stream",
          "name": "stdout",
          "text": [
            "[1, 2, 3, 7, 6, 5]\n",
            "[1, 2, 3, 1, 2, 3, 1, 2, 3, 1, 2, 3]\n"
          ]
        }
      ]
    },
    {
      "cell_type": "code",
      "source": [
        "# 2.5 Object Comparison\n",
        "# Make an exanmple showing the difference between == and is.\n",
        "# INSERT YOUR CODE HERE\n",
        "2 == 2.0\n",
        "\n",
        "a = 2\n",
        "b = 3\n",
        "a is b"
      ],
      "metadata": {
        "id": "UWCXhW-z5la5",
        "colab": {
          "base_uri": "https://localhost:8080/"
        },
        "outputId": "faa4ed2f-c50a-41b3-b522-379f79af5f14"
      },
      "execution_count": 24,
      "outputs": [
        {
          "output_type": "execute_result",
          "data": {
            "text/plain": [
              "False"
            ]
          },
          "metadata": {},
          "execution_count": 24
        }
      ]
    },
    {
      "cell_type": "code",
      "source": [
        "# 2.7 Boolean Expressions and Truth\n",
        "# Why does the code below only output 'Ned'?\n",
        "def ned():\n",
        "    print('Ned')\n",
        "    return False\n",
        "def lecky():\n",
        "    print(\"lecky\")\n",
        "    return False;\n",
        "if ned() and lecky():\n",
        "    print('wrote this')\n",
        "\n",
        "# YOUR EXPLANATION HERE\n",
        "#the code only prints our Ned becuase the use of 'and' makes the code only look at Ned being false before it determins it only needs return the first input"
      ],
      "metadata": {
        "colab": {
          "base_uri": "https://localhost:8080/"
        },
        "id": "Fj_5lKR96FSS",
        "outputId": "8402b083-2d84-463c-da94-eeb4482f1370"
      },
      "execution_count": 27,
      "outputs": [
        {
          "output_type": "stream",
          "name": "stdout",
          "text": [
            "Ned\n"
          ]
        }
      ]
    },
    {
      "cell_type": "code",
      "source": [
        "# 2.8 Conditional Expressions\n",
        "# Convert the code called out into a one-line conditional expression...\n",
        "# And what does that format do?\n",
        "import random\n",
        "random.seed(42)\n",
        "\n",
        "def above_or_below():\n",
        "    x = random.randint(1,100)\n",
        "    # MAKE THE FOLLOWING 4 LINES INTO ONE CONDITIONAL EXPRESSION\n",
        "    #if x < 50:\n",
        "        #y = -1\n",
        "    #else:\n",
        "        #y = +1\n",
        "    y = -1 if x < 50 else + 1 #this format makes a conditional expression, the condition on the left is evaluated first then if not true else is looked at\n",
        "    return y\n",
        "\n",
        "for i in range(10):\n",
        "    # WHAT DOES THIS LINE DO?\n",
        "    print(format(above_or_below(),\"+d\"))\n",
        "#that line of code makes a loop bu usinf for, then i stands for the variables in the range of 10\n",
        "\n"
      ],
      "metadata": {
        "colab": {
          "base_uri": "https://localhost:8080/"
        },
        "id": "9GKEDK3T6cTg",
        "outputId": "3553fdd8-6609-4f4f-8280-d39acb36ccec"
      },
      "execution_count": 29,
      "outputs": [
        {
          "output_type": "stream",
          "name": "stdout",
          "text": [
            "+1\n",
            "-1\n",
            "-1\n",
            "+1\n",
            "-1\n",
            "-1\n",
            "-1\n",
            "-1\n",
            "+1\n",
            "-1\n"
          ]
        }
      ]
    },
    {
      "cell_type": "code",
      "source": [
        "# 2.9 Iterables\n",
        "# Show an example of every iterable in Table 2.5\n",
        "\n",
        "# INSERT YOUR CODE HERE\n",
        "#for vars in s:\n",
        "items = [1, 2, 3]\n",
        "for item in items:\n",
        "  print(item)\n",
        "\n",
        "#v1, v2, ... = s\n",
        "fireworks = ((5, 23, 2002), (9, 30, \"pm\"))\n",
        "(month, date, year), (hour, min, am_pm) = fireworks\n",
        "\n",
        "#x in s, x not in s\n",
        "apples = [\"fuji\", \"green\", \"red\"]\n",
        "if \"fuji\" in apples:\n",
        "    print(\"fuji is in the list.\")\n",
        "\n",
        "#[a, *s, b], (a, *s, b), {a, *s, b}\n",
        "a = 5\n",
        "s = [6, 7, 8]\n",
        "b = 9\n",
        "expanded_list = [a, *s, b]\n",
        "print(expanded_list)"
      ],
      "metadata": {
        "id": "6H9OQXgx7ecP",
        "colab": {
          "base_uri": "https://localhost:8080/"
        },
        "outputId": "24a6da18-187e-4184-b02c-394aa62200f5"
      },
      "execution_count": 36,
      "outputs": [
        {
          "output_type": "stream",
          "name": "stdout",
          "text": [
            "1\n",
            "2\n",
            "3\n",
            "fuji is in the list.\n",
            "[5, 6, 7, 8, 9]\n"
          ]
        }
      ]
    },
    {
      "cell_type": "code",
      "source": [
        "# 2.10 Operations on Sequences\n",
        "# Show that the example at the end of section 2.10 are correct\n",
        "# The code starts with\n",
        "a = [0, 1, 2, 3, 4, 5, 6, 7, 8, 9]\n",
        "print(a[2:5])\n",
        "print(a[:3])\n",
        "print(a[:-3])\n",
        "print(a[::2])\n",
        "print(a[::-2])\n",
        "print(a[0:5:2])\n",
        "print(a[5:0:-2])\n",
        "print(a[:5:1])\n",
        "print(a[:5:-1])\n",
        "print(a[5::1])\n",
        "print(a[5::-1])\n",
        "print(a[5:0:-1])\n"
      ],
      "metadata": {
        "colab": {
          "base_uri": "https://localhost:8080/"
        },
        "id": "9ZO4s4n183Dq",
        "outputId": "1929e3e3-bba1-48b2-cc14-06e14bc81b5e"
      },
      "execution_count": 40,
      "outputs": [
        {
          "output_type": "stream",
          "name": "stdout",
          "text": [
            "[2, 3, 4]\n",
            "[0, 1, 2]\n",
            "[0, 1, 2, 3, 4, 5, 6]\n",
            "[0, 2, 4, 6, 8]\n",
            "[9, 7, 5, 3, 1]\n",
            "[0, 2, 4]\n",
            "[5, 3, 1]\n",
            "[0, 1, 2, 3, 4]\n",
            "[9, 8, 7, 6]\n",
            "[5, 6, 7, 8, 9]\n",
            "[5, 4, 3, 2, 1, 0]\n",
            "[5, 4, 3, 2, 1]\n"
          ]
        }
      ]
    },
    {
      "cell_type": "code",
      "source": [
        "# 2.11 Operations on Mutable Sequences\n",
        "# Create a list with the first 2 million positive integers in it ([1, 2, 3, ... , 2,000,000])\n",
        "# Replace the centermost 1,000,000 integers with the string 'MiddleStuff'\n",
        "# Figure out some way to print this and look at len(this) to demonstrate that it works\n",
        "\n",
        "# INSERT YOUR CODE HERE\n",
        "num_elements = 2000000\n",
        "numbers_list = list(range(1, num_elements + 1))\n",
        "\n",
        "start_index = (num_elements // 2) - 500000\n",
        "end_index = (num_elements // 2) + 500000\n",
        "\n",
        "numbers_list[start_index:end_index] = ['MiddleStuff'] * 1000000\n",
        "\n",
        "print(numbers_list[:20])  # Print the first 20 elements\n",
        "print(numbers_list[-20:])  # Print the last 20 elements\n",
        "\n",
        "print(len(numbers_list))"
      ],
      "metadata": {
        "id": "Gn3VwPlD9Vj0",
        "colab": {
          "base_uri": "https://localhost:8080/"
        },
        "outputId": "09d114b4-82b2-45f7-bed0-1b784e24f8b1"
      },
      "execution_count": 41,
      "outputs": [
        {
          "output_type": "stream",
          "name": "stdout",
          "text": [
            "[1, 2, 3, 4, 5, 6, 7, 8, 9, 10, 11, 12, 13, 14, 15, 16, 17, 18, 19, 20]\n",
            "[1999981, 1999982, 1999983, 1999984, 1999985, 1999986, 1999987, 1999988, 1999989, 1999990, 1999991, 1999992, 1999993, 1999994, 1999995, 1999996, 1999997, 1999998, 1999999, 2000000]\n",
            "2000000\n"
          ]
        }
      ]
    },
    {
      "cell_type": "code",
      "source": [
        "# 2.12 Operations on Sets\n",
        "# rand1 and rand2 are two independent lists of 1000 numbers between 1 and 1000 inclusive\n",
        "# What are set1 - set4?\n",
        "# How many numbers between 1 and 1000 appear in neither list?\n",
        "import random\n",
        "random.seed(42)\n",
        "\n",
        "rand1 = [random.randint(1,1000) for i in range(1000)]\n",
        "rand2 = [random.randint(1,1000) for i in range(1000)]\n",
        "set1 = set(rand1)\n",
        "set2 = set(rand2)\n",
        "set3 = set1 | set2\n",
        "set4 = set1 & set2\n",
        "print(len(set1), len(set2), len(set3), len(set4))\n",
        "\n",
        "#set1 - set4 are all the number in rand1-rand4 (set1 wth rand1, set2 with rand2, etc)\n",
        "\n",
        "all_numbers = set(range(1, 1001))\n",
        "numbers_in_neither = all_numbers - set3\n",
        "print(len(numbers_in_neither))\n",
        "#the amount of numbers in neither is 116\n"
      ],
      "metadata": {
        "colab": {
          "base_uri": "https://localhost:8080/"
        },
        "id": "SBbTQw-n-G2D",
        "outputId": "7fab78d3-3aef-4ba3-8cba-bb7b2e80f27e"
      },
      "execution_count": 48,
      "outputs": [
        {
          "output_type": "stream",
          "name": "stdout",
          "text": [
            "637 649 884 402\n",
            "116\n"
          ]
        }
      ]
    },
    {
      "cell_type": "code",
      "source": [
        "# 2.14 List, Set, and Dictionary Comprehensions\n",
        "# Use a dictionary comprehension to create a dictionary that contains the square\n",
        "# and square root of the factorials from 0 to 100\n",
        "import math\n",
        "\n",
        "# Hint: Make a list of the first 100 factorials\n",
        "def factorial(n):\n",
        "    fact = 1\n",
        "    for i in range(1, n+1):\n",
        "        fact *= i\n",
        "    return fact\n",
        "fact_100 = [factorial(x) for x in range(1, 101)]\n",
        "print(fact_100)\n",
        "\n",
        "#dict1 = { YOUR CODE HERE }\n",
        "#print(dict1)\n",
        "dict1 = {x: (math.pow(factorial(x), 2), math.sqrt(factorial(x))) for x in range(101)}\n",
        "print(dict1)\n",
        "#i am getting an errow but i can not figure out what my mistake is...\n",
        "\n"
      ],
      "metadata": {
        "colab": {
          "base_uri": "https://localhost:8080/",
          "height": 520
        },
        "id": "NFNFO71S_D27",
        "outputId": "d920d180-3310-4662-ba98-9d1d731ac3cb"
      },
      "execution_count": 45,
      "outputs": [
        {
          "output_type": "stream",
          "name": "stdout",
          "text": [
            "[1, 2, 6, 24, 120, 720, 5040, 40320, 362880, 3628800, 39916800, 479001600, 6227020800, 87178291200, 1307674368000, 20922789888000, 355687428096000, 6402373705728000, 121645100408832000, 2432902008176640000, 51090942171709440000, 1124000727777607680000, 25852016738884976640000, 620448401733239439360000, 15511210043330985984000000, 403291461126605635584000000, 10888869450418352160768000000, 304888344611713860501504000000, 8841761993739701954543616000000, 265252859812191058636308480000000, 8222838654177922817725562880000000, 263130836933693530167218012160000000, 8683317618811886495518194401280000000, 295232799039604140847618609643520000000, 10333147966386144929666651337523200000000, 371993326789901217467999448150835200000000, 13763753091226345046315979581580902400000000, 523022617466601111760007224100074291200000000, 20397882081197443358640281739902897356800000000, 815915283247897734345611269596115894272000000000, 33452526613163807108170062053440751665152000000000, 1405006117752879898543142606244511569936384000000000, 60415263063373835637355132068513997507264512000000000, 2658271574788448768043625811014615890319638528000000000, 119622220865480194561963161495657715064383733760000000000, 5502622159812088949850305428800254892961651752960000000000, 258623241511168180642964355153611979969197632389120000000000, 12413915592536072670862289047373375038521486354677760000000000, 608281864034267560872252163321295376887552831379210240000000000, 30414093201713378043612608166064768844377641568960512000000000000, 1551118753287382280224243016469303211063259720016986112000000000000, 80658175170943878571660636856403766975289505440883277824000000000000, 4274883284060025564298013753389399649690343788366813724672000000000000, 230843697339241380472092742683027581083278564571807941132288000000000000, 12696403353658275925965100847566516959580321051449436762275840000000000000, 710998587804863451854045647463724949736497978881168458687447040000000000000, 40526919504877216755680601905432322134980384796226602145184481280000000000000, 2350561331282878571829474910515074683828862318181142924420699914240000000000000, 138683118545689835737939019720389406345902876772687432540821294940160000000000000, 8320987112741390144276341183223364380754172606361245952449277696409600000000000000, 507580213877224798800856812176625227226004528988036003099405939480985600000000000000, 31469973260387937525653122354950764088012280797258232192163168247821107200000000000000, 1982608315404440064116146708361898137544773690227268628106279599612729753600000000000000, 126886932185884164103433389335161480802865516174545192198801894375214704230400000000000000, 8247650592082470666723170306785496252186258551345437492922123134388955774976000000000000000, 544344939077443064003729240247842752644293064388798874532860126869671081148416000000000000000, 36471110918188685288249859096605464427167635314049524593701628500267962436943872000000000000000, 2480035542436830599600990418569171581047399201355367672371710738018221445712183296000000000000000, 171122452428141311372468338881272839092270544893520369393648040923257279754140647424000000000000000, 11978571669969891796072783721689098736458938142546425857555362864628009582789845319680000000000000000, 850478588567862317521167644239926010288584608120796235886430763388588680378079017697280000000000000000, 61234458376886086861524070385274672740778091784697328983823014963978384987221689274204160000000000000000, 4470115461512684340891257138125051110076800700282905015819080092370422104067183317016903680000000000000000, 330788544151938641225953028221253782145683251820934971170611926835411235700971565459250872320000000000000000, 24809140811395398091946477116594033660926243886570122837795894512655842677572867409443815424000000000000000000, 1885494701666050254987932260861146558230394535379329335672487982961844043495537923117729972224000000000000000000, 145183092028285869634070784086308284983740379224208358846781574688061991349156420080065207861248000000000000000000, 11324281178206297831457521158732046228731749579488251990048962825668835325234200766245086213177344000000000000000000, 894618213078297528685144171539831652069808216779571907213868063227837990693501860533361810841010176000000000000000000, 71569457046263802294811533723186532165584657342365752577109445058227039255480148842668944867280814080000000000000000000, 5797126020747367985879734231578109105412357244731625958745865049716390179693892056256184534249745940480000000000000000000, 475364333701284174842138206989404946643813294067993328617160934076743994734899148613007131808479167119360000000000000000000, 39455239697206586511897471180120610571436503407643446275224357528369751562996629334879591940103770870906880000000000000000000, 3314240134565353266999387579130131288000666286242049487118846032383059131291716864129885722968716753156177920000000000000000000, 281710411438055027694947944226061159480056634330574206405101912752560026159795933451040286452340924018275123200000000000000000000, 24227095383672732381765523203441259715284870552429381750838764496720162249742450276789464634901319465571660595200000000000000000000, 2107757298379527717213600518699389595229783738061356212322972511214654115727593174080683423236414793504734471782400000000000000000000, 185482642257398439114796845645546284380220968949399346684421580986889562184028199319100141244804501828416633516851200000000000000000000, 16507955160908461081216919262453619309839666236496541854913520707833171034378509739399912570787600662729080382999756800000000000000000000, 1485715964481761497309522733620825737885569961284688766942216863704985393094065876545992131370884059645617234469978112000000000000000000000, 135200152767840296255166568759495142147586866476906677791741734597153670771559994765685283954750449427751168336768008192000000000000000000000, 12438414054641307255475324325873553077577991715875414356840239582938137710983519518443046123837041347353107486982656753664000000000000000000000, 1156772507081641574759205162306240436214753229576413535186142281213246807121467315215203289516844845303838996289387078090752000000000000000000000, 108736615665674308027365285256786601004186803580182872307497374434045199869417927630229109214583415458560865651202385340530688000000000000000000000, 10329978488239059262599702099394727095397746340117372869212250571234293987594703124871765375385424468563282236864226607350415360000000000000000000000, 991677934870949689209571401541893801158183648651267795444376054838492222809091499987689476037000748982075094738965754305639874560000000000000000000000, 96192759682482119853328425949563698712343813919172976158104477319333745612481875498805879175589072651261284189679678167647067832320000000000000000000000, 9426890448883247745626185743057242473809693764078951663494238777294707070023223798882976159207729119823605850588608460429412647567360000000000000000000000, 933262154439441526816992388562667004907159682643816214685929638952175999932299156089414639761565182862536979208272237582511852109168640000000000000000000000, 93326215443944152681699238856266700490715968264381621468592963895217599993229915608941463976156518286253697920827223758251185210916864000000000000000000000000]\n"
          ]
        },
        {
          "output_type": "error",
          "ename": "OverflowError",
          "evalue": "ignored",
          "traceback": [
            "\u001b[0;31m---------------------------------------------------------------------------\u001b[0m",
            "\u001b[0;31mOverflowError\u001b[0m                             Traceback (most recent call last)",
            "\u001b[0;32m<ipython-input-45-3e004e9b58bf>\u001b[0m in \u001b[0;36m<cell line: 17>\u001b[0;34m()\u001b[0m\n\u001b[1;32m     15\u001b[0m \u001b[0;31m#dict1 = { YOUR CODE HERE }\u001b[0m\u001b[0;34m\u001b[0m\u001b[0;34m\u001b[0m\u001b[0m\n\u001b[1;32m     16\u001b[0m \u001b[0;31m#print(dict1)\u001b[0m\u001b[0;34m\u001b[0m\u001b[0;34m\u001b[0m\u001b[0m\n\u001b[0;32m---> 17\u001b[0;31m \u001b[0mdict1\u001b[0m \u001b[0;34m=\u001b[0m \u001b[0;34m{\u001b[0m\u001b[0mx\u001b[0m\u001b[0;34m:\u001b[0m \u001b[0;34m(\u001b[0m\u001b[0mmath\u001b[0m\u001b[0;34m.\u001b[0m\u001b[0mpow\u001b[0m\u001b[0;34m(\u001b[0m\u001b[0mfactorial\u001b[0m\u001b[0;34m(\u001b[0m\u001b[0mx\u001b[0m\u001b[0;34m)\u001b[0m\u001b[0;34m,\u001b[0m \u001b[0;36m2\u001b[0m\u001b[0;34m)\u001b[0m\u001b[0;34m,\u001b[0m \u001b[0mmath\u001b[0m\u001b[0;34m.\u001b[0m\u001b[0msqrt\u001b[0m\u001b[0;34m(\u001b[0m\u001b[0mfactorial\u001b[0m\u001b[0;34m(\u001b[0m\u001b[0mx\u001b[0m\u001b[0;34m)\u001b[0m\u001b[0;34m)\u001b[0m\u001b[0;34m)\u001b[0m \u001b[0;32mfor\u001b[0m \u001b[0mx\u001b[0m \u001b[0;32min\u001b[0m \u001b[0mrange\u001b[0m\u001b[0;34m(\u001b[0m\u001b[0;36m101\u001b[0m\u001b[0;34m)\u001b[0m\u001b[0;34m}\u001b[0m\u001b[0;34m\u001b[0m\u001b[0;34m\u001b[0m\u001b[0m\n\u001b[0m\u001b[1;32m     18\u001b[0m \u001b[0mprint\u001b[0m\u001b[0;34m(\u001b[0m\u001b[0mdict1\u001b[0m\u001b[0;34m)\u001b[0m\u001b[0;34m\u001b[0m\u001b[0;34m\u001b[0m\u001b[0m\n\u001b[1;32m     19\u001b[0m \u001b[0;31m#i am getting an errow but i can not figure out what my mistake is...\u001b[0m\u001b[0;34m\u001b[0m\u001b[0;34m\u001b[0m\u001b[0m\n",
            "\u001b[0;32m<ipython-input-45-3e004e9b58bf>\u001b[0m in \u001b[0;36m<dictcomp>\u001b[0;34m(.0)\u001b[0m\n\u001b[1;32m     15\u001b[0m \u001b[0;31m#dict1 = { YOUR CODE HERE }\u001b[0m\u001b[0;34m\u001b[0m\u001b[0;34m\u001b[0m\u001b[0m\n\u001b[1;32m     16\u001b[0m \u001b[0;31m#print(dict1)\u001b[0m\u001b[0;34m\u001b[0m\u001b[0;34m\u001b[0m\u001b[0m\n\u001b[0;32m---> 17\u001b[0;31m \u001b[0mdict1\u001b[0m \u001b[0;34m=\u001b[0m \u001b[0;34m{\u001b[0m\u001b[0mx\u001b[0m\u001b[0;34m:\u001b[0m \u001b[0;34m(\u001b[0m\u001b[0mmath\u001b[0m\u001b[0;34m.\u001b[0m\u001b[0mpow\u001b[0m\u001b[0;34m(\u001b[0m\u001b[0mfactorial\u001b[0m\u001b[0;34m(\u001b[0m\u001b[0mx\u001b[0m\u001b[0;34m)\u001b[0m\u001b[0;34m,\u001b[0m \u001b[0;36m2\u001b[0m\u001b[0;34m)\u001b[0m\u001b[0;34m,\u001b[0m \u001b[0mmath\u001b[0m\u001b[0;34m.\u001b[0m\u001b[0msqrt\u001b[0m\u001b[0;34m(\u001b[0m\u001b[0mfactorial\u001b[0m\u001b[0;34m(\u001b[0m\u001b[0mx\u001b[0m\u001b[0;34m)\u001b[0m\u001b[0;34m)\u001b[0m\u001b[0;34m)\u001b[0m \u001b[0;32mfor\u001b[0m \u001b[0mx\u001b[0m \u001b[0;32min\u001b[0m \u001b[0mrange\u001b[0m\u001b[0;34m(\u001b[0m\u001b[0;36m101\u001b[0m\u001b[0;34m)\u001b[0m\u001b[0;34m}\u001b[0m\u001b[0;34m\u001b[0m\u001b[0;34m\u001b[0m\u001b[0m\n\u001b[0m\u001b[1;32m     18\u001b[0m \u001b[0mprint\u001b[0m\u001b[0;34m(\u001b[0m\u001b[0mdict1\u001b[0m\u001b[0;34m)\u001b[0m\u001b[0;34m\u001b[0m\u001b[0;34m\u001b[0m\u001b[0m\n\u001b[1;32m     19\u001b[0m \u001b[0;31m#i am getting an errow but i can not figure out what my mistake is...\u001b[0m\u001b[0;34m\u001b[0m\u001b[0;34m\u001b[0m\u001b[0m\n",
            "\u001b[0;31mOverflowError\u001b[0m: math range error"
          ]
        }
      ]
    },
    {
      "cell_type": "code",
      "source": [
        "# 2.15 Generator Expression\n",
        "# Show that the code that begins with\n",
        "# Read a file\n",
        "# f = open....\n",
        "# in Section 2.15 actually print all the lines in a file that begin with a '#'\n",
        "\n",
        "# INSERT YOUR CODE HERE\n",
        "#f = open('data.txt')\n",
        "#lines = (t.strip() for t in f)\n",
        "#comments = (t for t in lines if t[0] == '#')\n",
        "#for c in comments:\n",
        "  #print(c)\n",
        "\n",
        "#gives an error because I do not hvae a file called data.txt\n"
      ],
      "metadata": {
        "id": "i901rirUBpy6"
      },
      "execution_count": 49,
      "outputs": []
    },
    {
      "cell_type": "code",
      "source": [],
      "metadata": {
        "id": "0NHgN9YR7Llc"
      },
      "execution_count": null,
      "outputs": []
    }
  ]
}