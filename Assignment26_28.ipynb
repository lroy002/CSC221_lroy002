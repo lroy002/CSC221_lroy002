{
  "nbformat": 4,
  "nbformat_minor": 0,
  "metadata": {
    "colab": {
      "provenance": [],
      "authorship_tag": "ABX9TyM+jm4CarJMvHV+X7pu4Dm7",
      "include_colab_link": true
    },
    "kernelspec": {
      "name": "python3",
      "display_name": "Python 3"
    },
    "language_info": {
      "name": "python"
    }
  },
  "cells": [
    {
      "cell_type": "markdown",
      "metadata": {
        "id": "view-in-github",
        "colab_type": "text"
      },
      "source": [
        "<a href=\"https://colab.research.google.com/github/lroy002/CSC221_lroy002/blob/main/Assignment26_28.ipynb\" target=\"_parent\"><img src=\"https://colab.research.google.com/assets/colab-badge.svg\" alt=\"Open In Colab\"/></a>"
      ]
    },
    {
      "cell_type": "code",
      "execution_count": null,
      "metadata": {
        "id": "hYIw35G0vLHk"
      },
      "outputs": [],
      "source": [
        "CSC221 Fall 2023\n",
        "Lily Roy"
      ]
    },
    {
      "cell_type": "code",
      "source": [
        "#Cell 1: Demonstrate int, float, and string\n",
        "a = 13\n",
        "b = 21.3435\n",
        "c = 'teststring'\n",
        "\n",
        "print(type(a), a, a + 7)\n",
        "print(type(b), b, b*5)\n",
        "print(type(c), c, c*5)"
      ],
      "metadata": {
        "colab": {
          "base_uri": "https://localhost:8080/"
        },
        "id": "A_z2aGWUvv3-",
        "outputId": "020582aa-fea1-4222-e87d-c9a2bb0db8aa"
      },
      "execution_count": null,
      "outputs": [
        {
          "output_type": "stream",
          "name": "stdout",
          "text": [
            "<class 'int'> 13 20\n",
            "<class 'float'> 21.3435 106.7175\n",
            "<class 'str'> teststring teststringteststringteststringteststringteststring\n"
          ]
        }
      ]
    },
    {
      "cell_type": "code",
      "source": [
        "#Cell 2: Show how an f-string works (f'Something like this with {something} in it.')\n",
        "print(f' The variable a is {a} and c*5 is {c*5}')"
      ],
      "metadata": {
        "colab": {
          "base_uri": "https://localhost:8080/"
        },
        "id": "Yu7EffcQv1WM",
        "outputId": "eaf2acde-5317-432c-bc79-26d1c807eafc"
      },
      "execution_count": null,
      "outputs": [
        {
          "output_type": "stream",
          "name": "stdout",
          "text": [
            " The variable a is 13 and c*5 is teststringteststringteststringteststringteststring\n"
          ]
        }
      ]
    },
    {
      "cell_type": "code",
      "source": [
        "#Cell 3: Demonstrate some methods of the string class\n",
        "name = 'fred flintstone'\n",
        "print(name, name.title)\n",
        "upper = name.upper()\n",
        "print(upper)\n"
      ],
      "metadata": {
        "colab": {
          "base_uri": "https://localhost:8080/"
        },
        "id": "PQy_oNBov3C0",
        "outputId": "f87836ab-e82f-4683-887b-30ed090284c8"
      },
      "execution_count": null,
      "outputs": [
        {
          "output_type": "stream",
          "name": "stdout",
          "text": [
            "fred flintstone <built-in method title of str object at 0x7cccb6a707b0>\n",
            "FRED FLINTSTONE\n"
          ]
        }
      ]
    },
    {
      "cell_type": "code",
      "source": [
        "#Cell 4: Do something with a list\n",
        "abc = [12,37,23]\n",
        "print(abc)\n",
        "for x in sorted(abc):\n",
        "  print (x)\n",
        "\n",
        "print(f'min:  {+min(abc)}')\n",
        "print(f'max:  {+max(abc)}')\n",
        "print(f'sum:  {+sum(abc)}')"
      ],
      "metadata": {
        "colab": {
          "base_uri": "https://localhost:8080/"
        },
        "id": "884CqhadwSYl",
        "outputId": "f1e1ddf1-221d-459f-e5b7-4bad5e26f0e2"
      },
      "execution_count": null,
      "outputs": [
        {
          "output_type": "stream",
          "name": "stdout",
          "text": [
            "[12, 37, 23]\n",
            "12\n",
            "23\n",
            "37\n",
            "min:  12\n",
            "max:  37\n",
            "sum:  72\n"
          ]
        }
      ]
    },
    {
      "cell_type": "code",
      "source": [
        "#Cell 5: Do something with a list of lists\n",
        "xyz = []\n",
        "xyz.append([13,12,11])\n",
        "xyz.append([12, 'asd'])\n",
        "\n",
        "print(xyz)\n",
        "\n",
        "xyz2 =[[13,12,11], [8,8], [12,'asd']]\n",
        "print(xyz)\n"
      ],
      "metadata": {
        "colab": {
          "base_uri": "https://localhost:8080/"
        },
        "id": "mqu8ocMfwdQs",
        "outputId": "d93b273e-4cf0-4df5-c275-5dc66b2cd55f"
      },
      "execution_count": null,
      "outputs": [
        {
          "output_type": "stream",
          "name": "stdout",
          "text": [
            "[[13, 12, 11], [12, 'asd']]\n",
            "[[13, 12, 11], [12, 'asd']]\n"
          ]
        }
      ]
    },
    {
      "cell_type": "code",
      "source": [
        "#Cell 6: Show how to print a list in sorted order without changing it.\n",
        "abc = [13,12,11,22]\n",
        "print(sorted(abc))\n",
        "print(abc)"
      ],
      "metadata": {
        "colab": {
          "base_uri": "https://localhost:8080/"
        },
        "id": "Dhin66icwmqf",
        "outputId": "743523ae-0ab9-4528-b5c4-154f6627dad1"
      },
      "execution_count": null,
      "outputs": [
        {
          "output_type": "stream",
          "name": "stdout",
          "text": [
            "[11, 12, 13, 22]\n",
            "[13, 12, 11, 22]\n"
          ]
        }
      ]
    },
    {
      "cell_type": "code",
      "source": [
        "#Cell 7: Printing a series of numbers using for and range\n",
        "def f1():\n",
        "  for x in range(5, 100, 2):\n",
        "    print(x, end='')\n",
        "f1()"
      ],
      "metadata": {
        "colab": {
          "base_uri": "https://localhost:8080/"
        },
        "id": "mTaSVWnrwu89",
        "outputId": "ce35ae3f-6640-4d21-de17-a66c7c4d5d98"
      },
      "execution_count": null,
      "outputs": [
        {
          "output_type": "stream",
          "name": "stdout",
          "text": [
            "579111315171921232527293133353739414345474951535557596163656769717375777981838587899193959799"
          ]
        }
      ]
    },
    {
      "cell_type": "code",
      "source": [
        "#Cell 8: Printing a series of squares of all numbers from 1 to 1000 that are not multiples of 7 using list comprehension.\n",
        "print([x*x for x in range(1,1000) if x % 7 !=0])"
      ],
      "metadata": {
        "colab": {
          "base_uri": "https://localhost:8080/"
        },
        "id": "uL5l5-aLwySx",
        "outputId": "83202835-0172-4d06-8295-05c73380b913"
      },
      "execution_count": null,
      "outputs": [
        {
          "output_type": "stream",
          "name": "stdout",
          "text": [
            "[1, 4, 9, 16, 25, 36, 64, 81, 100, 121, 144, 169, 225, 256, 289, 324, 361, 400, 484, 529, 576, 625, 676, 729, 841, 900, 961, 1024, 1089, 1156, 1296, 1369, 1444, 1521, 1600, 1681, 1849, 1936, 2025, 2116, 2209, 2304, 2500, 2601, 2704, 2809, 2916, 3025, 3249, 3364, 3481, 3600, 3721, 3844, 4096, 4225, 4356, 4489, 4624, 4761, 5041, 5184, 5329, 5476, 5625, 5776, 6084, 6241, 6400, 6561, 6724, 6889, 7225, 7396, 7569, 7744, 7921, 8100, 8464, 8649, 8836, 9025, 9216, 9409, 9801, 10000, 10201, 10404, 10609, 10816, 11236, 11449, 11664, 11881, 12100, 12321, 12769, 12996, 13225, 13456, 13689, 13924, 14400, 14641, 14884, 15129, 15376, 15625, 16129, 16384, 16641, 16900, 17161, 17424, 17956, 18225, 18496, 18769, 19044, 19321, 19881, 20164, 20449, 20736, 21025, 21316, 21904, 22201, 22500, 22801, 23104, 23409, 24025, 24336, 24649, 24964, 25281, 25600, 26244, 26569, 26896, 27225, 27556, 27889, 28561, 28900, 29241, 29584, 29929, 30276, 30976, 31329, 31684, 32041, 32400, 32761, 33489, 33856, 34225, 34596, 34969, 35344, 36100, 36481, 36864, 37249, 37636, 38025, 38809, 39204, 39601, 40000, 40401, 40804, 41616, 42025, 42436, 42849, 43264, 43681, 44521, 44944, 45369, 45796, 46225, 46656, 47524, 47961, 48400, 48841, 49284, 49729, 50625, 51076, 51529, 51984, 52441, 52900, 53824, 54289, 54756, 55225, 55696, 56169, 57121, 57600, 58081, 58564, 59049, 59536, 60516, 61009, 61504, 62001, 62500, 63001, 64009, 64516, 65025, 65536, 66049, 66564, 67600, 68121, 68644, 69169, 69696, 70225, 71289, 71824, 72361, 72900, 73441, 73984, 75076, 75625, 76176, 76729, 77284, 77841, 78961, 79524, 80089, 80656, 81225, 81796, 82944, 83521, 84100, 84681, 85264, 85849, 87025, 87616, 88209, 88804, 89401, 90000, 91204, 91809, 92416, 93025, 93636, 94249, 95481, 96100, 96721, 97344, 97969, 98596, 99856, 100489, 101124, 101761, 102400, 103041, 104329, 104976, 105625, 106276, 106929, 107584, 108900, 109561, 110224, 110889, 111556, 112225, 113569, 114244, 114921, 115600, 116281, 116964, 118336, 119025, 119716, 120409, 121104, 121801, 123201, 123904, 124609, 125316, 126025, 126736, 128164, 128881, 129600, 130321, 131044, 131769, 133225, 133956, 134689, 135424, 136161, 136900, 138384, 139129, 139876, 140625, 141376, 142129, 143641, 144400, 145161, 145924, 146689, 147456, 148996, 149769, 150544, 151321, 152100, 152881, 154449, 155236, 156025, 156816, 157609, 158404, 160000, 160801, 161604, 162409, 163216, 164025, 165649, 166464, 167281, 168100, 168921, 169744, 171396, 172225, 173056, 173889, 174724, 175561, 177241, 178084, 178929, 179776, 180625, 181476, 183184, 184041, 184900, 185761, 186624, 187489, 189225, 190096, 190969, 191844, 192721, 193600, 195364, 196249, 197136, 198025, 198916, 199809, 201601, 202500, 203401, 204304, 205209, 206116, 207936, 208849, 209764, 210681, 211600, 212521, 214369, 215296, 216225, 217156, 218089, 219024, 220900, 221841, 222784, 223729, 224676, 225625, 227529, 228484, 229441, 230400, 231361, 232324, 234256, 235225, 236196, 237169, 238144, 239121, 241081, 242064, 243049, 244036, 245025, 246016, 248004, 249001, 250000, 251001, 252004, 253009, 255025, 256036, 257049, 258064, 259081, 260100, 262144, 263169, 264196, 265225, 266256, 267289, 269361, 270400, 271441, 272484, 273529, 274576, 276676, 277729, 278784, 279841, 280900, 281961, 284089, 285156, 286225, 287296, 288369, 289444, 291600, 292681, 293764, 294849, 295936, 297025, 299209, 300304, 301401, 302500, 303601, 304704, 306916, 308025, 309136, 310249, 311364, 312481, 314721, 315844, 316969, 318096, 319225, 320356, 322624, 323761, 324900, 326041, 327184, 328329, 330625, 331776, 332929, 334084, 335241, 336400, 338724, 339889, 341056, 342225, 343396, 344569, 346921, 348100, 349281, 350464, 351649, 352836, 355216, 356409, 357604, 358801, 360000, 361201, 363609, 364816, 366025, 367236, 368449, 369664, 372100, 373321, 374544, 375769, 376996, 378225, 380689, 381924, 383161, 384400, 385641, 386884, 389376, 390625, 391876, 393129, 394384, 395641, 398161, 399424, 400689, 401956, 403225, 404496, 407044, 408321, 409600, 410881, 412164, 413449, 416025, 417316, 418609, 419904, 421201, 422500, 425104, 426409, 427716, 429025, 430336, 431649, 434281, 435600, 436921, 438244, 439569, 440896, 443556, 444889, 446224, 447561, 448900, 450241, 452929, 454276, 455625, 456976, 458329, 459684, 462400, 463761, 465124, 466489, 467856, 469225, 471969, 473344, 474721, 476100, 477481, 478864, 481636, 483025, 484416, 485809, 487204, 488601, 491401, 492804, 494209, 495616, 497025, 498436, 501264, 502681, 504100, 505521, 506944, 508369, 511225, 512656, 514089, 515524, 516961, 518400, 521284, 522729, 524176, 525625, 527076, 528529, 531441, 532900, 534361, 535824, 537289, 538756, 541696, 543169, 544644, 546121, 547600, 549081, 552049, 553536, 555025, 556516, 558009, 559504, 562500, 564001, 565504, 567009, 568516, 570025, 573049, 574564, 576081, 577600, 579121, 580644, 583696, 585225, 586756, 588289, 589824, 591361, 594441, 595984, 597529, 599076, 600625, 602176, 605284, 606841, 608400, 609961, 611524, 613089, 616225, 617796, 619369, 620944, 622521, 624100, 627264, 628849, 630436, 632025, 633616, 635209, 638401, 640000, 641601, 643204, 644809, 646416, 649636, 651249, 652864, 654481, 656100, 657721, 660969, 662596, 664225, 665856, 667489, 669124, 672400, 674041, 675684, 677329, 678976, 680625, 683929, 685584, 687241, 688900, 690561, 692224, 695556, 697225, 698896, 700569, 702244, 703921, 707281, 708964, 710649, 712336, 714025, 715716, 719104, 720801, 722500, 724201, 725904, 727609, 731025, 732736, 734449, 736164, 737881, 739600, 743044, 744769, 746496, 748225, 749956, 751689, 755161, 756900, 758641, 760384, 762129, 763876, 767376, 769129, 770884, 772641, 774400, 776161, 779689, 781456, 783225, 784996, 786769, 788544, 792100, 793881, 795664, 797449, 799236, 801025, 804609, 806404, 808201, 810000, 811801, 813604, 817216, 819025, 820836, 822649, 824464, 826281, 829921, 831744, 833569, 835396, 837225, 839056, 842724, 844561, 846400, 848241, 850084, 851929, 855625, 857476, 859329, 861184, 863041, 864900, 868624, 870489, 872356, 874225, 876096, 877969, 881721, 883600, 885481, 887364, 889249, 891136, 894916, 896809, 898704, 900601, 902500, 904401, 908209, 910116, 912025, 913936, 915849, 917764, 921600, 923521, 925444, 927369, 929296, 931225, 935089, 937024, 938961, 940900, 942841, 944784, 948676, 950625, 952576, 954529, 956484, 958441, 962361, 964324, 966289, 968256, 970225, 972196, 976144, 978121, 980100, 982081, 984064, 986049, 990025, 992016, 994009, 996004, 998001]\n"
          ]
        }
      ]
    },
    {
      "cell_type": "code",
      "source": [
        "#Cell 9: Generating all of the prime numbers from 2 to 1000 using the Sieve of Eratosthenes which I suggest you ask ChatGPT for help on.\n",
        "#thanks for chat gpt 3.5 which i asked \"how do you do Sieve of Eratosthenes in python?\"\n",
        "def sieve_of_eratosthenes(limit):\n",
        "    # Create a boolean array \"prime[0..n]\" and initialize all entries as True\n",
        "    # indicating that they are prime numbers.\n",
        "    primes = [True] * (limit + 1)\n",
        "    primes[0] = primes[1] = False  # 0 and 1 are not prime\n",
        "\n",
        "    p = 2\n",
        "    while p ** 2 <= limit:\n",
        "        # If primes[p] is still True, then it is a prime number.\n",
        "        if primes[p]:\n",
        "            # Mark all multiples of p as not prime.\n",
        "            for i in range(p ** 2, limit + 1, p):\n",
        "                primes[i] = False\n",
        "        p += 1\n",
        "\n",
        "    # Collect the prime numbers into a list.\n",
        "    prime_numbers = [i for i in range(2, limit + 1) if primes[i]]\n",
        "\n",
        "    return prime_numbers\n",
        "\n",
        "# Example usage:\n",
        "limit = 5000  # Change this to the desired limit\n",
        "prime_numbers = sieve_of_eratosthenes(limit)\n",
        "print(prime_numbers)\n"
      ],
      "metadata": {
        "colab": {
          "base_uri": "https://localhost:8080/"
        },
        "id": "yLe4clC9xFVU",
        "outputId": "5cf6a8c6-ce14-4c60-8950-dfa5407311ad"
      },
      "execution_count": null,
      "outputs": [
        {
          "output_type": "stream",
          "name": "stdout",
          "text": [
            "[2, 3, 5, 7, 11, 13, 17, 19, 23, 29, 31, 37, 41, 43, 47, 53, 59, 61, 67, 71, 73, 79, 83, 89, 97, 101, 103, 107, 109, 113, 127, 131, 137, 139, 149, 151, 157, 163, 167, 173, 179, 181, 191, 193, 197, 199, 211, 223, 227, 229, 233, 239, 241, 251, 257, 263, 269, 271, 277, 281, 283, 293, 307, 311, 313, 317, 331, 337, 347, 349, 353, 359, 367, 373, 379, 383, 389, 397, 401, 409, 419, 421, 431, 433, 439, 443, 449, 457, 461, 463, 467, 479, 487, 491, 499, 503, 509, 521, 523, 541, 547, 557, 563, 569, 571, 577, 587, 593, 599, 601, 607, 613, 617, 619, 631, 641, 643, 647, 653, 659, 661, 673, 677, 683, 691, 701, 709, 719, 727, 733, 739, 743, 751, 757, 761, 769, 773, 787, 797, 809, 811, 821, 823, 827, 829, 839, 853, 857, 859, 863, 877, 881, 883, 887, 907, 911, 919, 929, 937, 941, 947, 953, 967, 971, 977, 983, 991, 997, 1009, 1013, 1019, 1021, 1031, 1033, 1039, 1049, 1051, 1061, 1063, 1069, 1087, 1091, 1093, 1097, 1103, 1109, 1117, 1123, 1129, 1151, 1153, 1163, 1171, 1181, 1187, 1193, 1201, 1213, 1217, 1223, 1229, 1231, 1237, 1249, 1259, 1277, 1279, 1283, 1289, 1291, 1297, 1301, 1303, 1307, 1319, 1321, 1327, 1361, 1367, 1373, 1381, 1399, 1409, 1423, 1427, 1429, 1433, 1439, 1447, 1451, 1453, 1459, 1471, 1481, 1483, 1487, 1489, 1493, 1499, 1511, 1523, 1531, 1543, 1549, 1553, 1559, 1567, 1571, 1579, 1583, 1597, 1601, 1607, 1609, 1613, 1619, 1621, 1627, 1637, 1657, 1663, 1667, 1669, 1693, 1697, 1699, 1709, 1721, 1723, 1733, 1741, 1747, 1753, 1759, 1777, 1783, 1787, 1789, 1801, 1811, 1823, 1831, 1847, 1861, 1867, 1871, 1873, 1877, 1879, 1889, 1901, 1907, 1913, 1931, 1933, 1949, 1951, 1973, 1979, 1987, 1993, 1997, 1999, 2003, 2011, 2017, 2027, 2029, 2039, 2053, 2063, 2069, 2081, 2083, 2087, 2089, 2099, 2111, 2113, 2129, 2131, 2137, 2141, 2143, 2153, 2161, 2179, 2203, 2207, 2213, 2221, 2237, 2239, 2243, 2251, 2267, 2269, 2273, 2281, 2287, 2293, 2297, 2309, 2311, 2333, 2339, 2341, 2347, 2351, 2357, 2371, 2377, 2381, 2383, 2389, 2393, 2399, 2411, 2417, 2423, 2437, 2441, 2447, 2459, 2467, 2473, 2477, 2503, 2521, 2531, 2539, 2543, 2549, 2551, 2557, 2579, 2591, 2593, 2609, 2617, 2621, 2633, 2647, 2657, 2659, 2663, 2671, 2677, 2683, 2687, 2689, 2693, 2699, 2707, 2711, 2713, 2719, 2729, 2731, 2741, 2749, 2753, 2767, 2777, 2789, 2791, 2797, 2801, 2803, 2819, 2833, 2837, 2843, 2851, 2857, 2861, 2879, 2887, 2897, 2903, 2909, 2917, 2927, 2939, 2953, 2957, 2963, 2969, 2971, 2999, 3001, 3011, 3019, 3023, 3037, 3041, 3049, 3061, 3067, 3079, 3083, 3089, 3109, 3119, 3121, 3137, 3163, 3167, 3169, 3181, 3187, 3191, 3203, 3209, 3217, 3221, 3229, 3251, 3253, 3257, 3259, 3271, 3299, 3301, 3307, 3313, 3319, 3323, 3329, 3331, 3343, 3347, 3359, 3361, 3371, 3373, 3389, 3391, 3407, 3413, 3433, 3449, 3457, 3461, 3463, 3467, 3469, 3491, 3499, 3511, 3517, 3527, 3529, 3533, 3539, 3541, 3547, 3557, 3559, 3571, 3581, 3583, 3593, 3607, 3613, 3617, 3623, 3631, 3637, 3643, 3659, 3671, 3673, 3677, 3691, 3697, 3701, 3709, 3719, 3727, 3733, 3739, 3761, 3767, 3769, 3779, 3793, 3797, 3803, 3821, 3823, 3833, 3847, 3851, 3853, 3863, 3877, 3881, 3889, 3907, 3911, 3917, 3919, 3923, 3929, 3931, 3943, 3947, 3967, 3989, 4001, 4003, 4007, 4013, 4019, 4021, 4027, 4049, 4051, 4057, 4073, 4079, 4091, 4093, 4099, 4111, 4127, 4129, 4133, 4139, 4153, 4157, 4159, 4177, 4201, 4211, 4217, 4219, 4229, 4231, 4241, 4243, 4253, 4259, 4261, 4271, 4273, 4283, 4289, 4297, 4327, 4337, 4339, 4349, 4357, 4363, 4373, 4391, 4397, 4409, 4421, 4423, 4441, 4447, 4451, 4457, 4463, 4481, 4483, 4493, 4507, 4513, 4517, 4519, 4523, 4547, 4549, 4561, 4567, 4583, 4591, 4597, 4603, 4621, 4637, 4639, 4643, 4649, 4651, 4657, 4663, 4673, 4679, 4691, 4703, 4721, 4723, 4729, 4733, 4751, 4759, 4783, 4787, 4789, 4793, 4799, 4801, 4813, 4817, 4831, 4861, 4871, 4877, 4889, 4903, 4909, 4919, 4931, 4933, 4937, 4943, 4951, 4957, 4967, 4969, 4973, 4987, 4993, 4999]\n"
          ]
        }
      ]
    },
    {
      "cell_type": "code",
      "source": [
        "#Cell 10: Create a generator from your function above that you can use to print the first N prime numbers. This should look like\n",
        "def my_prime_generator(N):\n",
        "  primes = sieve_of_eratosthenes(N)\n",
        "\n",
        "  for x in primes:\n",
        "    yield x\n",
        "\n",
        "for x in my_prime_generator(200):\n",
        "  print(x, end = '')\n",
        "\n"
      ],
      "metadata": {
        "colab": {
          "base_uri": "https://localhost:8080/"
        },
        "id": "Z6N1fq0nxXQr",
        "outputId": "e21ac2fe-fe43-4e65-f56f-a407ccdb5107"
      },
      "execution_count": null,
      "outputs": [
        {
          "output_type": "stream",
          "name": "stdout",
          "text": [
            "2357111317192329313741434753596167717379838997101103107109113127131137139149151157163167173179181191193197199"
          ]
        }
      ]
    },
    {
      "cell_type": "code",
      "source": [
        "#Cell 11: Generate 1000 random integers in a list (random.randint(...)) and print their min, max, sum, and average.\n",
        "import random\n",
        "\n",
        "random_integers = [random.randint(1, 1000) for _ in range(1000)]\n",
        "\n",
        "min_value = min(random_integers)\n",
        "max_value = max(random_integers)\n",
        "total_sum = sum(random_integers)\n",
        "average = total_sum / len(random_integers)\n",
        "\n",
        "print(f\"Minimum: {min_value}\")\n",
        "print(f\"Maximum: {max_value}\")\n",
        "print(f\"Sum: {total_sum}\")\n",
        "print(f\"Average: {average}\")"
      ],
      "metadata": {
        "id": "eEjDo7O6ygoV",
        "colab": {
          "base_uri": "https://localhost:8080/"
        },
        "outputId": "573cf703-9991-4421-d247-a834121157a7"
      },
      "execution_count": 1,
      "outputs": [
        {
          "output_type": "stream",
          "name": "stdout",
          "text": [
            "Minimum: 1\n",
            "Maximum: 1000\n",
            "Sum: 490556\n",
            "Average: 490.556\n"
          ]
        }
      ]
    },
    {
      "cell_type": "code",
      "source": [
        "#Cell 12: Write a simple function that uses if, elif, and else and show that it works.\n",
        "def categorize_number(number):\n",
        "    if number < 0:\n",
        "        return \"Negative\"\n",
        "    elif number == 0:\n",
        "        return \"Zero\"\n",
        "    else:\n",
        "        return \"Positive\"\n",
        "\n",
        "print(categorize_number(-9))\n",
        "print(categorize_number(0))\n",
        "print(categorize_number(23))\n"
      ],
      "metadata": {
        "id": "q4egSbvcyjM5",
        "colab": {
          "base_uri": "https://localhost:8080/"
        },
        "outputId": "678e2a08-ebd5-46cb-e31b-db459bb98326"
      },
      "execution_count": 3,
      "outputs": [
        {
          "output_type": "stream",
          "name": "stdout",
          "text": [
            "Negative\n",
            "Zero\n",
            "Positive\n"
          ]
        }
      ]
    },
    {
      "cell_type": "code",
      "source": [
        "#Cell 13: Show me three things from PEP-8 that surprise you\n",
        "class classone:\n",
        "    pass\n",
        "    #this code suprised me because before we learned about the pass, I did not know we could skip lines like that\n",
        "\n",
        "x = 7\n",
        "if x > 5:\n",
        "    print('x is larger than 5')\n",
        "  #this code suprised me, becuase I always have litte indentation errors, and this rule kind of cleared that up for me\n",
        "\n",
        "#the third piece that suprised me about PEP-8 was commenting in general. having a little note i can go back and look at is really helpful in showing me what i was attempting to code!\n"
      ],
      "metadata": {
        "id": "Wy1Feopmymkg",
        "colab": {
          "base_uri": "https://localhost:8080/"
        },
        "outputId": "ca06b4e3-fe17-453d-d2dd-bee95362358b"
      },
      "execution_count": 10,
      "outputs": [
        {
          "output_type": "stream",
          "name": "stdout",
          "text": [
            "x is larger than 5\n"
          ]
        }
      ]
    },
    {
      "cell_type": "code",
      "source": [
        "#Cell 14:Create a file using %%file testfile.txt in Colab. The file should contain lines like the following:\n",
        "#Amy, cat\n",
        "#Fred, dog\n",
        "#Hunter, dog\n",
        "#Peena, parakeet\n",
        "#Rover, dog"
      ],
      "metadata": {
        "id": "4BLvyENCyoVy"
      },
      "execution_count": null,
      "outputs": []
    },
    {
      "cell_type": "code",
      "source": [
        "%%file testfile.txt\n",
        "Amy, cat\n",
        "Fred, dog\n",
        "Hunter, dog\n",
        "Peena, parakeet\n",
        "Rover, dog"
      ],
      "metadata": {
        "colab": {
          "base_uri": "https://localhost:8080/"
        },
        "id": "jx2aGPnA16zW",
        "outputId": "d43dfc83-c3ba-4640-fd86-2705b4845858"
      },
      "execution_count": null,
      "outputs": [
        {
          "output_type": "stream",
          "name": "stdout",
          "text": [
            "Writing testfile.txt\n"
          ]
        }
      ]
    },
    {
      "cell_type": "code",
      "source": [
        "#Cell 15: Read that file in and convert it to a dictionary. Show how you can lookup pet type by using pet name with your dictionary.\n",
        "dict1 = {}\n",
        "with open('testfile.txt', 'r') as file:\n",
        "  while line := file.readline():\n",
        "    line= line.strip()\n",
        "    key, value = line.split(',')\n",
        "    dict1[key] = value.strip()\n",
        "  print(dict1)"
      ],
      "metadata": {
        "colab": {
          "base_uri": "https://localhost:8080/"
        },
        "id": "XD7kHPHeyxRr",
        "outputId": "faf8cb64-5b35-4067-b1e7-99243375724e"
      },
      "execution_count": null,
      "outputs": [
        {
          "output_type": "stream",
          "name": "stdout",
          "text": [
            "{'Amy': 'cat', 'Fred': 'dog', 'Hunter': 'dog', 'Peena': 'parakeet', 'Rover': 'dog'}\n"
          ]
        }
      ]
    },
    {
      "cell_type": "code",
      "source": [
        "#Cell 16: Generate a list of all the unique pet types in the dictionary. Use a set to make this happen.\n",
        "print(dict1.values())\n",
        "pet_types = set(dict1.values())\n",
        "print(pet_types)"
      ],
      "metadata": {
        "colab": {
          "base_uri": "https://localhost:8080/"
        },
        "id": "gUpMXJFcy7Wh",
        "outputId": "4b25a978-87bd-47b5-d16b-99f562f433f0"
      },
      "execution_count": null,
      "outputs": [
        {
          "output_type": "stream",
          "name": "stdout",
          "text": [
            "dict_values(['cat', 'dog', 'dog', 'parakeet', 'dog'])\n",
            "{'cat', 'dog', 'parakeet'}\n"
          ]
        }
      ]
    },
    {
      "cell_type": "code",
      "source": [
        "#Cell 17: Use a while loop to print the numbers from 80 down to 16 by 8. Do not use for or range.\n",
        "n = 80\n",
        "while n >= 16:\n",
        "  print(n)\n",
        "  n -=8"
      ],
      "metadata": {
        "colab": {
          "base_uri": "https://localhost:8080/"
        },
        "id": "9mHWnDKpy-gC",
        "outputId": "cd4e0fdb-3c31-42fc-899e-006bca735ed5"
      },
      "execution_count": null,
      "outputs": [
        {
          "output_type": "stream",
          "name": "stdout",
          "text": [
            "80\n",
            "72\n",
            "64\n",
            "56\n",
            "48\n",
            "40\n",
            "32\n",
            "24\n",
            "16\n"
          ]
        }
      ]
    },
    {
      "cell_type": "code",
      "source": [
        "#Cell 18: Write a function that takes three numbers and returns their min, max, and sum as a tuple.\n",
        "def f1(n1, n2, n3):\n",
        "  max_n = max(n1, n2, n3)\n",
        "  min_n = min(n1, n2, n3)\n",
        "  sum_n = sum([n1, n2, n3])\n",
        "\n",
        "  return min_n, max_n, sum_n\n",
        "\n",
        "print(f1(13, 21,4))"
      ],
      "metadata": {
        "colab": {
          "base_uri": "https://localhost:8080/"
        },
        "id": "5hU815NUzA6d",
        "outputId": "3670b9a8-c7dd-4ece-bdfd-003ea089fdca"
      },
      "execution_count": null,
      "outputs": [
        {
          "output_type": "stream",
          "name": "stdout",
          "text": [
            "(4, 21, 38)\n"
          ]
        }
      ]
    },
    {
      "cell_type": "code",
      "source": [
        "#Cell 19: Write a function that takes any number of numbers and returns their min, max, and sum as a tuple.\n",
        "def f2(*n):\n",
        "    max_n = max(n)\n",
        "    min_n = min(n)\n",
        "    sum_n = sum(n)\n",
        "\n",
        "    return min_n, max_n, sum_n\n",
        "\n",
        "print(f2(13, 21, 4, 81, -5, 30, 12))\n",
        ""
      ],
      "metadata": {
        "colab": {
          "base_uri": "https://localhost:8080/"
        },
        "id": "3yXvwLVEzDJb",
        "outputId": "3a97bcfd-9a2e-4832-d477-62f2e6950391"
      },
      "execution_count": 4,
      "outputs": [
        {
          "output_type": "stream",
          "name": "stdout",
          "text": [
            "(-5, 81, 156)\n"
          ]
        }
      ]
    },
    {
      "cell_type": "code",
      "source": [
        "#Cell 20: Create a decorator called traceroo and use it to print messages showing how your function above executes.\n",
        "def traceroo(func):\n",
        "    def newfunc(*args, **kwargs):\n",
        "        print(f'TRACEROO {func.__name__} {args} {kwargs}')\n",
        "        return func(*args, **kwargs)\n",
        "    return newfunc\n",
        "\n",
        "f1d = traceroo(f1)\n",
        "print(f1(3, 2, 1))\n",
        "print(f1d(3, 2, 1))\n",
        "\n",
        "@traceroo\n",
        "def f4():\n",
        "    print(\"Hi... I'm f4\")\n",
        "\n",
        "f4()\n",
        "\n",
        "     #i followed what you did in class and am still getting an error..."
      ],
      "metadata": {
        "colab": {
          "base_uri": "https://localhost:8080/",
          "height": 250
        },
        "id": "uBZ4CScfzGja",
        "outputId": "dc1605b3-958a-433e-f930-bcd2e498c9f4"
      },
      "execution_count": 7,
      "outputs": [
        {
          "output_type": "error",
          "ename": "NameError",
          "evalue": "ignored",
          "traceback": [
            "\u001b[0;31m---------------------------------------------------------------------------\u001b[0m",
            "\u001b[0;31mNameError\u001b[0m                                 Traceback (most recent call last)",
            "\u001b[0;32m<ipython-input-7-852afea54d6c>\u001b[0m in \u001b[0;36m<cell line: 8>\u001b[0;34m()\u001b[0m\n\u001b[1;32m      6\u001b[0m     \u001b[0;32mreturn\u001b[0m \u001b[0mnewfunc\u001b[0m\u001b[0;34m\u001b[0m\u001b[0;34m\u001b[0m\u001b[0m\n\u001b[1;32m      7\u001b[0m \u001b[0;34m\u001b[0m\u001b[0m\n\u001b[0;32m----> 8\u001b[0;31m \u001b[0mf1d\u001b[0m \u001b[0;34m=\u001b[0m \u001b[0mtraceroo\u001b[0m\u001b[0;34m(\u001b[0m\u001b[0mf1\u001b[0m\u001b[0;34m)\u001b[0m\u001b[0;34m\u001b[0m\u001b[0;34m\u001b[0m\u001b[0m\n\u001b[0m\u001b[1;32m      9\u001b[0m \u001b[0mprint\u001b[0m\u001b[0;34m(\u001b[0m\u001b[0mf1\u001b[0m\u001b[0;34m(\u001b[0m\u001b[0;36m3\u001b[0m\u001b[0;34m,\u001b[0m \u001b[0;36m2\u001b[0m\u001b[0;34m,\u001b[0m \u001b[0;36m1\u001b[0m\u001b[0;34m)\u001b[0m\u001b[0;34m)\u001b[0m\u001b[0;34m\u001b[0m\u001b[0;34m\u001b[0m\u001b[0m\n\u001b[1;32m     10\u001b[0m \u001b[0mprint\u001b[0m\u001b[0;34m(\u001b[0m\u001b[0mf1d\u001b[0m\u001b[0;34m(\u001b[0m\u001b[0;36m3\u001b[0m\u001b[0;34m,\u001b[0m \u001b[0;36m2\u001b[0m\u001b[0;34m,\u001b[0m \u001b[0;36m1\u001b[0m\u001b[0;34m)\u001b[0m\u001b[0;34m)\u001b[0m\u001b[0;34m\u001b[0m\u001b[0;34m\u001b[0m\u001b[0m\n",
            "\u001b[0;31mNameError\u001b[0m: name 'f1' is not defined"
          ]
        }
      ]
    },
    {
      "cell_type": "code",
      "source": [
        "#Cell 21: Create a class that uses __init__, __repr__, __str__, and __add__. #Demonstrate that all of the methods work.\n",
        "class Point:\n",
        "    def __init__(self, x=0, y=0):\n",
        "        self.x, self.y = x, y\n",
        "\n",
        "    def __repr__(self):\n",
        "        return f\"Point({self.x}, {self.y})\"\n",
        "\n",
        "    def __str__(self):\n",
        "        return f\"({self.x}, {self.y})\"\n",
        "\n",
        "    def __add__(self, other):\n",
        "        if isinstance(other, Point):\n",
        "            return Point(self.x + other.x, self.y + other.y)\n",
        "        return NotImplemented\n",
        "\n",
        "point1 = Point(2, 3)\n",
        "point2 = Point(4, 5)\n",
        "\n",
        "print(\"point1:\", point1)\n",
        "print(\"point2:\", point2)\n",
        "print(\"repr(point1):\", repr(point1))\n",
        "print(\"point1 + point2:\", point1 + point2)"
      ],
      "metadata": {
        "id": "dIwN0SyNzIYV",
        "colab": {
          "base_uri": "https://localhost:8080/"
        },
        "outputId": "9443c086-eccc-4cb1-ca7c-19098d14dd1d"
      },
      "execution_count": 8,
      "outputs": [
        {
          "output_type": "stream",
          "name": "stdout",
          "text": [
            "point1: (2, 3)\n",
            "point2: (4, 5)\n",
            "repr(point1): Point(2, 3)\n",
            "point1 + point2: (6, 8)\n"
          ]
        }
      ]
    },
    {
      "cell_type": "code",
      "source": [
        "#Cell 22: Is your birth date included in the digits of pi? Where? Feel free to use the code from Chapter 10.\n",
        "\n",
        "#Off to VS Code... although you can do this in the Colab if you know how!\n",
        "\n",
        "#Perform the following functions in files stored in a folder called Assignment26-28. You must post the folder to your GitHub unless you know how to do all of this right in Colab!\n",
        "\n",
        "#Put three of your above functions in a file called final_functions.py. Show that they work using python final_functions.py from the command line.\n",
        "#Hint, from Colab, you can use %%file final_functions.py in one cell and then use !python final_functions.py in the next!\n",
        "#Add a file final.py that imports final_functions.py and exercises them a bit using python final.py from the command line.\n",
        "#Add a file test_final.py and use pytest from the command line to test the functions. Show that the tests pass.\n",
        "#Put a bug in one of your functions. Show that your pytest tests now fail!"
      ],
      "metadata": {
        "id": "nP4ymxa2zKqM"
      },
      "execution_count": null,
      "outputs": []
    },
    {
      "cell_type": "code",
      "source": [
        "%%file functions.py\n",
        "def f5(a):\n",
        "    ret = a+5\n",
        "    print(ret)\n",
        "    return ret\n",
        "\n",
        "\n",
        "def f6(a,b):\n",
        "  return a+b"
      ],
      "metadata": {
        "colab": {
          "base_uri": "https://localhost:8080/"
        },
        "id": "87Q7VcA15ro6",
        "outputId": "443676ed-0413-443e-de2f-961d57c128f5"
      },
      "execution_count": null,
      "outputs": [
        {
          "output_type": "stream",
          "name": "stdout",
          "text": [
            "Overwriting functions.py\n"
          ]
        }
      ]
    },
    {
      "cell_type": "code",
      "source": [
        "%%file test_functions.py\n",
        "import functions as ff\n",
        "\n",
        "def test_test1():\n",
        "  assert ff == a+5\n",
        "  assert ff.f6(5,7)"
      ],
      "metadata": {
        "colab": {
          "base_uri": "https://localhost:8080/"
        },
        "id": "kM1rV4gR51N3",
        "outputId": "a68a1d7c-3fc4-40ae-c140-368c8b16bec3"
      },
      "execution_count": null,
      "outputs": [
        {
          "output_type": "stream",
          "name": "stdout",
          "text": [
            "Writing test_functions.py\n"
          ]
        }
      ]
    },
    {
      "cell_type": "code",
      "source": [
        "#!pytest"
      ],
      "metadata": {
        "id": "w0vahg8B6Q_w"
      },
      "execution_count": 9,
      "outputs": []
    },
    {
      "cell_type": "markdown",
      "source": [
        "\n"
      ],
      "metadata": {
        "id": "xXvJO4QNvRjF"
      }
    }
  ]
}