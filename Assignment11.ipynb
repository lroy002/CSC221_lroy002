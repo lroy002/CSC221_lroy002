{
  "nbformat": 4,
  "nbformat_minor": 0,
  "metadata": {
    "colab": {
      "provenance": [],
      "authorship_tag": "ABX9TyNngC5tVx8bc02B5xjH53In",
      "include_colab_link": true
    },
    "kernelspec": {
      "name": "python3",
      "display_name": "Python 3"
    },
    "language_info": {
      "name": "python"
    }
  },
  "cells": [
    {
      "cell_type": "markdown",
      "metadata": {
        "id": "view-in-github",
        "colab_type": "text"
      },
      "source": [
        "<a href=\"https://colab.research.google.com/github/lroy002/CSC221_lroy002/blob/main/Assignment11.ipynb\" target=\"_parent\"><img src=\"https://colab.research.google.com/assets/colab-badge.svg\" alt=\"Open In Colab\"/></a>"
      ]
    },
    {
      "cell_type": "code",
      "execution_count": 1,
      "metadata": {
        "id": "IlliHgxeNs4I"
      },
      "outputs": [],
      "source": [
        "#Lily Roy\n",
        "#Assignment 11"
      ]
    },
    {
      "cell_type": "code",
      "source": [
        "class Dog:\n",
        "  \"\"\"A simple attempt to model a dog.\"\"\"\n",
        "\n",
        "  def __init__(self, name, age ):\n",
        "    \"\"\"Initate name and age attribute\"\"\"\n",
        "    self.name = name\n",
        "    self.age = age\n",
        "\n",
        "  def sit(self):\n",
        "    \"\"\"simulate a dog sitting in responce to a command\"\"\"\n",
        "    print(f\"{self.name} is now sitting.\")\n",
        "\n",
        "  def roll_over(self):\n",
        "    \"\"\"Simulate rolling over in repsonce to a command \"\"\"\n",
        "    print(f\"{self.name} rolled over!\")"
      ],
      "metadata": {
        "id": "wRVd5A0dNyWh"
      },
      "execution_count": 42,
      "outputs": []
    },
    {
      "cell_type": "code",
      "source": [
        "class Dog:\n",
        "  \"\"\"A simple attempt to model a dog.\"\"\"\n",
        "\n",
        "  def __init__(self, name, age ):\n",
        "    \"\"\"Initate name and age attribute\"\"\"\n",
        "    self.name = name\n",
        "    self.age = age\n",
        "\n",
        "  def sit(self):\n",
        "    \"\"\"simulate a dog sitting in responce to a command\"\"\"\n",
        "    print(f\"{self.name} is now sitting.\")\n",
        "\n",
        "  def roll_over(self):\n",
        "    \"\"\"Simulate rolling over in repsonce to a command \"\"\"\n",
        "    print(f\"{self.name} rolled over!\")\n",
        "\n",
        "\n",
        "my_dog = Dog ('Willie', 6)\n",
        "\n",
        "print(f\"My dog is {my_dog.name}.\")\n",
        "print(f\"My dog is {my_dog.age} years old\")"
      ],
      "metadata": {
        "colab": {
          "base_uri": "https://localhost:8080/"
        },
        "id": "aslrrB-2Ox2B",
        "outputId": "d22fbdff-5317-4500-c2e1-4ee9d4b7b50e"
      },
      "execution_count": 41,
      "outputs": [
        {
          "output_type": "stream",
          "name": "stdout",
          "text": [
            "My dog is Willie.\n",
            "My dog is 6 years old\n"
          ]
        }
      ]
    },
    {
      "cell_type": "code",
      "source": [
        "class Dog:\n",
        "  \"\"\"A simple attempt to model a dog.\"\"\"\n",
        "\n",
        "  def __init__(self, name, age ):\n",
        "    \"\"\"Initate name and age attribute\"\"\"\n",
        "    self.name = name\n",
        "    self.age = age\n",
        "\n",
        "  def sit(self):\n",
        "    \"\"\"simulate a dog sitting in responce to a command\"\"\"\n",
        "    print(f\"{self.name} is now sitting.\")\n",
        "\n",
        "  def roll_over(self):\n",
        "    \"\"\"Simulate rolling over in repsonce to a command \"\"\"\n",
        "    print(f\"{self.name} rolled over!\")\n",
        "\n",
        "my_dog.sit()\n",
        "my_dog.roll_over()"
      ],
      "metadata": {
        "colab": {
          "base_uri": "https://localhost:8080/"
        },
        "id": "frFUkarmNcCk",
        "outputId": "8bab7a84-8a34-4354-e458-507274a38f2c"
      },
      "execution_count": 43,
      "outputs": [
        {
          "output_type": "stream",
          "name": "stdout",
          "text": [
            "Willie is now sitting.\n",
            "Willie rolled over!\n"
          ]
        }
      ]
    },
    {
      "cell_type": "code",
      "source": [
        "class Dog:\n",
        "  \"\"\"A simple attempt to model a dog.\"\"\"\n",
        "\n",
        "  def __init__(self, name, age ):\n",
        "    \"\"\"Initate name and age attribute\"\"\"\n",
        "    self.name = name\n",
        "    self.age = age\n",
        "\n",
        "  def sit(self):\n",
        "    \"\"\"simulate a dog sitting in responce to a command\"\"\"\n",
        "    print(f\"{self.name} is now sitting.\")\n",
        "\n",
        "  def roll_over(self):\n",
        "    \"\"\"Simulate rolling over in repsonce to a command \"\"\"\n",
        "    print(f\"{self.name} rolled over!\")\n",
        "\n",
        "\n",
        "your_dog = Dog ('lucy', 3)\n",
        "print(f\"My dog is {my_dog.name}.\")\n",
        "print(f\"My dog is {my_dog.age} years old\")\n",
        "my_dog.sit()\n",
        "\n",
        "print(f\"Your dog's name is {your_dog.name}.\")\n",
        "print(f\"your dog is {your_dog.age} years old\")\n",
        "your_dog.sit()\n"
      ],
      "metadata": {
        "colab": {
          "base_uri": "https://localhost:8080/"
        },
        "id": "xQkupx7mPsir",
        "outputId": "099befab-eed3-469d-8dfe-40a660787bf3"
      },
      "execution_count": 45,
      "outputs": [
        {
          "output_type": "stream",
          "name": "stdout",
          "text": [
            "My dog is Willie.\n",
            "My dog is 6 years old\n",
            "Willie is now sitting.\n",
            "Your dog's name is lucy.\n",
            "your dog is 3 years old\n",
            "lucy is now sitting.\n"
          ]
        }
      ]
    },
    {
      "cell_type": "code",
      "source": [
        "class Car:\n",
        "  \"\"\"A simple attempt to represent a car.\"\"\"\n",
        "  def __init__(self, make, model, year):\n",
        "    \"\"\"Initialize attribute to describe a car\"\"\"\n",
        "    self.make = make\n",
        "    self.model = model\n",
        "    self.year = year\n",
        "\n",
        "  def get_descriptive_name(self):\n",
        "    \"\"\"return a neatly formatted descriptive name.\"\"\"\n",
        "    long_name = f\"{self.year} {self.make} {self.model}\"\n",
        "    return long_name.title()\n",
        "\n",
        "my_new_car = Car('audi', 'a4', 2024)\n",
        "print(my_new_car.get_descriptive_name())"
      ],
      "metadata": {
        "colab": {
          "base_uri": "https://localhost:8080/"
        },
        "id": "Sj0N_PPdXLEh",
        "outputId": "8e32e949-819f-403e-bbe6-ad1c6bdcb728"
      },
      "execution_count": 52,
      "outputs": [
        {
          "output_type": "stream",
          "name": "stdout",
          "text": [
            "2024 Audi A4\n"
          ]
        }
      ]
    },
    {
      "cell_type": "code",
      "source": [
        "class Car:\n",
        "  \"\"\"A simple attempt to represent a car.\"\"\"\n",
        "  def __init__(self, make, model, year):\n",
        "    \"\"\"Initialize attribute to describe a car\"\"\"\n",
        "    self.make = make\n",
        "    self.model = model\n",
        "    self.year = year\n",
        "    self.odometer_reading = 0\n",
        "\n",
        "\n",
        "  def get_descriptive_name(self):\n",
        "    \"\"\"return a neatly formatted descriptive name.\"\"\"\n",
        "    long_name = f\"{self.year} {self.make} {self.model}\"\n",
        "    return long_name.title()\n",
        "\n",
        "  def read_odometer(self):\n",
        "    \"\"\"print a statement showing the cars mileage\"\"\"\n",
        "    print(f\"This car has {self.odometer_reading} miles on it.\")\n",
        "\n",
        "my_new_car = Car('audi', 'a4', 2024)\n",
        "print(my_new_car.get_descriptive_name())\n",
        "my_new_car.read_odometer()"
      ],
      "metadata": {
        "colab": {
          "base_uri": "https://localhost:8080/"
        },
        "id": "RG6pXZ9tbEg-",
        "outputId": "0adc25d6-fd61-4650-ae96-0f0b5359a59d"
      },
      "execution_count": 5,
      "outputs": [
        {
          "output_type": "stream",
          "name": "stdout",
          "text": [
            "2024 Audi A4\n",
            "This car has 0 miles on it.\n"
          ]
        }
      ]
    },
    {
      "cell_type": "code",
      "source": [
        "class Car:\n",
        "  \"\"\"A simple attempt to represent a car.\"\"\"\n",
        "  def __init__(self, make, model, year):\n",
        "    \"\"\"Initialize attribute to describe a car\"\"\"\n",
        "    self.make = make\n",
        "    self.model = model\n",
        "    self.year = year\n",
        "    self.odometer_reading = 0\n",
        "\n",
        "\n",
        "  def get_descriptive_name(self):\n",
        "    \"\"\"return a neatly formatted descriptive name.\"\"\"\n",
        "    long_name = f\"{self.year} {self.make} {self.model}\"\n",
        "    return long_name.title()\n",
        "\n",
        "  def read_odometer(self):\n",
        "    \"\"\"print a statement showing the cars mileage\"\"\"\n",
        "    print(f\"This car has {self.odometer_reading} miles on it.\")\n",
        "\n",
        "my_new_car = Car('audi', 'a4', 2024)\n",
        "print(my_new_car.get_descriptive_name())\n",
        "\n",
        "my_new_car.odometer_reading = 23\n",
        "my_new_car.read_odometer()"
      ],
      "metadata": {
        "colab": {
          "base_uri": "https://localhost:8080/"
        },
        "id": "fYfK-kDVFGkz",
        "outputId": "95ce04fb-b9af-43af-ec08-15fa5d846647"
      },
      "execution_count": 6,
      "outputs": [
        {
          "output_type": "stream",
          "name": "stdout",
          "text": [
            "2024 Audi A4\n",
            "This car has 23 miles on it.\n"
          ]
        }
      ]
    },
    {
      "cell_type": "code",
      "source": [
        "class Car:\n",
        "  \"\"\"A simple attempt to represent a car.\"\"\"\n",
        "  def __init__(self, make, model, year):\n",
        "    \"\"\"Initialize attribute to describe a car\"\"\"\n",
        "    self.make = make\n",
        "    self.model = model\n",
        "    self.year = year\n",
        "    self.odometer_reading = 0\n",
        "\n",
        "  def update_odometer(self, mileage):\n",
        "    if mileage >= self.odometer_reading:\n",
        "     self.odometer_reading = mileage\n",
        "    else:\n",
        "      print(\"you can't roll back an odometer\")"
      ],
      "metadata": {
        "id": "UmwdmrjoGpOh"
      },
      "execution_count": 12,
      "outputs": []
    },
    {
      "cell_type": "code",
      "source": [
        "class Car:\n",
        "  \"\"\"A simple attempt to represent a car.\"\"\"\n",
        "  def __init__(self, make, model, year):\n",
        "    \"\"\"Initialize attribute to describe a car\"\"\"\n",
        "    self.make = make\n",
        "    self.model = model\n",
        "    self.year = year\n",
        "    self.odometer_reading = 0\n",
        "\n",
        "  def get_descriptive_name(self):\n",
        "    \"\"\"return a neatly formatted descriptive name.\"\"\"\n",
        "    long_name = f\"{self.year} {self.make} {self.model}\"\n",
        "    return long_name.title()\n",
        "\n",
        "  def read_odometer(self):\n",
        "    \"\"\"print a statement showing the cars mileage\"\"\"\n",
        "    print(f\"This car has {self.odometer_reading} miles on it.\")\n",
        "\n",
        "  def update_odometer(self, mileage):\n",
        "    if mileage >= self.odometer_reading:\n",
        "     self.odometer_reading = mileage\n",
        "    else:\n",
        "      print(\"you can't roll back an odometer\")\n",
        "\n",
        "  def increment_odometer(self, mileage):\n",
        "    \"\"\" Add the given amount to the odometer reading.\"\"\"\n",
        "    self.odometer_reading += miles\n",
        "\n",
        "my_used_car = Car('suburu', 'outback', 2019)\n",
        "print(my_used_car.get_descriptive_name())\n",
        "\n",
        "my_used_car.update_odometer(23_500)\n",
        "my_used_car.read_odometer()\n",
        "\n",
        "my_used_car.increment_odometer(100)\n",
        "my_used_car.read_odometer()"
      ],
      "metadata": {
        "colab": {
          "base_uri": "https://localhost:8080/",
          "height": 429
        },
        "id": "mHiBXQb2HRaW",
        "outputId": "882e1fde-a338-456c-fa15-6f75f0031fe7"
      },
      "execution_count": 17,
      "outputs": [
        {
          "output_type": "stream",
          "name": "stdout",
          "text": [
            "2019 Suburu Outback\n",
            "This car has 23500 miles on it.\n"
          ]
        },
        {
          "output_type": "error",
          "ename": "NameError",
          "evalue": "ignored",
          "traceback": [
            "\u001b[0;31m---------------------------------------------------------------------------\u001b[0m",
            "\u001b[0;31mNameError\u001b[0m                                 Traceback (most recent call last)",
            "\u001b[0;32m<ipython-input-17-d15d5ed43d3b>\u001b[0m in \u001b[0;36m<cell line: 35>\u001b[0;34m()\u001b[0m\n\u001b[1;32m     33\u001b[0m \u001b[0mmy_used_car\u001b[0m\u001b[0;34m.\u001b[0m\u001b[0mread_odometer\u001b[0m\u001b[0;34m(\u001b[0m\u001b[0;34m)\u001b[0m\u001b[0;34m\u001b[0m\u001b[0;34m\u001b[0m\u001b[0m\n\u001b[1;32m     34\u001b[0m \u001b[0;34m\u001b[0m\u001b[0m\n\u001b[0;32m---> 35\u001b[0;31m \u001b[0mmy_used_car\u001b[0m\u001b[0;34m.\u001b[0m\u001b[0mincrement_odometer\u001b[0m\u001b[0;34m(\u001b[0m\u001b[0;36m100\u001b[0m\u001b[0;34m)\u001b[0m\u001b[0;34m\u001b[0m\u001b[0;34m\u001b[0m\u001b[0m\n\u001b[0m\u001b[1;32m     36\u001b[0m \u001b[0mmy_used_car\u001b[0m\u001b[0;34m.\u001b[0m\u001b[0mread_odometer\u001b[0m\u001b[0;34m(\u001b[0m\u001b[0;34m)\u001b[0m\u001b[0;34m\u001b[0m\u001b[0;34m\u001b[0m\u001b[0m\n",
            "\u001b[0;32m<ipython-input-17-d15d5ed43d3b>\u001b[0m in \u001b[0;36mincrement_odometer\u001b[0;34m(self, mileage)\u001b[0m\n\u001b[1;32m     25\u001b[0m   \u001b[0;32mdef\u001b[0m \u001b[0mincrement_odometer\u001b[0m\u001b[0;34m(\u001b[0m\u001b[0mself\u001b[0m\u001b[0;34m,\u001b[0m \u001b[0mmileage\u001b[0m\u001b[0;34m)\u001b[0m\u001b[0;34m:\u001b[0m\u001b[0;34m\u001b[0m\u001b[0;34m\u001b[0m\u001b[0m\n\u001b[1;32m     26\u001b[0m     \u001b[0;34m\"\"\" Add the given amount to the odometer reading.\"\"\"\u001b[0m\u001b[0;34m\u001b[0m\u001b[0;34m\u001b[0m\u001b[0m\n\u001b[0;32m---> 27\u001b[0;31m     \u001b[0mself\u001b[0m\u001b[0;34m.\u001b[0m\u001b[0modometer_reading\u001b[0m \u001b[0;34m+=\u001b[0m \u001b[0mmiles\u001b[0m\u001b[0;34m\u001b[0m\u001b[0;34m\u001b[0m\u001b[0m\n\u001b[0m\u001b[1;32m     28\u001b[0m \u001b[0;34m\u001b[0m\u001b[0m\n\u001b[1;32m     29\u001b[0m \u001b[0mmy_used_car\u001b[0m \u001b[0;34m=\u001b[0m \u001b[0mCar\u001b[0m\u001b[0;34m(\u001b[0m\u001b[0;34m'suburu'\u001b[0m\u001b[0;34m,\u001b[0m \u001b[0;34m'outback'\u001b[0m\u001b[0;34m,\u001b[0m \u001b[0;36m2019\u001b[0m\u001b[0;34m)\u001b[0m\u001b[0;34m\u001b[0m\u001b[0;34m\u001b[0m\u001b[0m\n",
            "\u001b[0;31mNameError\u001b[0m: name 'miles' is not defined"
          ]
        }
      ]
    },
    {
      "cell_type": "code",
      "source": [
        "class Car:\n",
        "  \"\"\"A simple attempt to represent a car.\"\"\"\n",
        "  def __init__(self, make, model, year):\n",
        "    \"\"\"Initialize attribute to describe a car\"\"\"\n",
        "    self.make = make\n",
        "    self.model = model\n",
        "    self.year = year\n",
        "    self.odometer_reading = 0\n",
        "\n",
        "  def get_descriptive_name(self):\n",
        "    \"\"\"return a neatly formatted descriptive name.\"\"\"\n",
        "    long_name = f\"{self.year} {self.make} {self.model}\"\n",
        "    return long_name.title()\n",
        "\n",
        "  def read_odometer(self):\n",
        "    \"\"\"print a statement showing the cars mileage\"\"\"\n",
        "    print(f\"This car has {self.odometer_reading} miles on it.\")\n",
        "\n",
        "  def update_odometer(self, mileage):\n",
        "    if mileage >= self.odometer_reading:\n",
        "     self.odometer_reading = mileage\n",
        "    else:\n",
        "      print(\"you can't roll back an odometer\")\n",
        "\n",
        "  def increment_odometer(self, mileage):\n",
        "    \"\"\" Add the given amount to the odometer reading.\"\"\"\n",
        "    self.odometer_reading += miles\n",
        "\n",
        "class ElectricCar(Car):\n",
        "  \"\"\"Represent aspects of a car, specific to electric vechicles\"\"\"\n",
        "\n",
        "  def __init__(self, make, model, year):\n",
        "    \"\"\"initialize attributes of the parent class.\"\"\"\n",
        "    super().__init__(make, model, year)\n",
        "\n",
        "my_leaf = ElectricCar('nissan', 'leaf', 2024)\n",
        "print(my_leaf.get_descriptive_name())"
      ],
      "metadata": {
        "colab": {
          "base_uri": "https://localhost:8080/"
        },
        "id": "ripUuiEuItv-",
        "outputId": "b6be2bd9-e87b-4030-b482-d1c158ffc9bd"
      },
      "execution_count": 21,
      "outputs": [
        {
          "output_type": "stream",
          "name": "stdout",
          "text": [
            "2024 Nissan Leaf\n"
          ]
        }
      ]
    },
    {
      "cell_type": "code",
      "source": [
        "class Car:\n",
        "  \"\"\"A simple attempt to represent a car.\"\"\"\n",
        "  def __init__(self, make, model, year):\n",
        "    \"\"\"Initialize attribute to describe a car\"\"\"\n",
        "    self.make = make\n",
        "    self.model = model\n",
        "    self.year = year\n",
        "    self.odometer_reading = 0\n",
        "\n",
        "  def get_descriptive_name(self):\n",
        "    \"\"\"return a neatly formatted descriptive name.\"\"\"\n",
        "    long_name = f\"{self.year} {self.make} {self.model}\"\n",
        "    return long_name.title()\n",
        "\n",
        "  def read_odometer(self):\n",
        "    \"\"\"print a statement showing the cars mileage\"\"\"\n",
        "    print(f\"This car has {self.odometer_reading} miles on it.\")\n",
        "\n",
        "  def update_odometer(self, mileage):\n",
        "    if mileage >= self.odometer_reading:\n",
        "     self.odometer_reading = mileage\n",
        "    else:\n",
        "      print(\"you can't roll back an odometer\")\n",
        "\n",
        "  def increment_odometer(self, mileage):\n",
        "    \"\"\" Add the given amount to the odometer reading.\"\"\"\n",
        "    self.odometer_reading += miles\n",
        "\n",
        "class ElectricCar(Car):\n",
        "  \"\"\"Represent aspects of a car, specific to electric vechicles\"\"\"\n",
        "\n",
        "  def __init__(self, make, model, year):\n",
        "    \"\"\"initialize attributes of the parent class.\"\"\"\n",
        "    super().__init__(make, model, year)\n",
        "    self.battery_size = 40\n",
        "\n",
        "  def describe_battery(self):\n",
        "    \"\"\"print a statement describing the battery size.\"\"\"\n",
        "    print(f\"This car has a {self.battery_size}-kwh battery.\")\n",
        "\n",
        "my_leaf = ElectricCar('nissan', 'leaf', 2024)\n",
        "print(my_leaf.get_descriptive_name())\n",
        "my_leaf.describe_battery()"
      ],
      "metadata": {
        "colab": {
          "base_uri": "https://localhost:8080/"
        },
        "id": "13Z0fL2DLZ8t",
        "outputId": "6afaed1c-e118-44b6-838b-6e0b794ccdd5"
      },
      "execution_count": 23,
      "outputs": [
        {
          "output_type": "stream",
          "name": "stdout",
          "text": [
            "2024 Nissan Leaf\n",
            "This car has a 40-kwh battery.\n"
          ]
        }
      ]
    },
    {
      "cell_type": "code",
      "source": [
        "class ElectricCar(Car):\n",
        "  \"\"\"Represent aspects of a car, specific to electric vechicles\"\"\"\n",
        "\n",
        "  def __init__(self, make, model, year):\n",
        "    \"\"\"initialize attributes of the parent class.\"\"\"\n",
        "    super().__init__(make, model, year)\n",
        "    self.battery_size = 40\n",
        "\n",
        "  def describe_battery(self):\n",
        "    \"\"\"print a statement describing the battery size.\"\"\"\n",
        "    print(f\"This car has a {self.battery_size}-kwh battery.\")\n",
        "\n",
        "  def fill_gas_tank(self):\n",
        "    \"\"\"Electric cars don't have gas tanks.\"\"\"\n",
        "    print(\"this car doesnt have a gas tank\")\n",
        "\n",
        "my_leaf = ElectricCar('nissan', 'leaf', 2024)\n",
        "print(my_leaf.get_descriptive_name())\n",
        "my_leaf.describe_battery()\n",
        "\n"
      ],
      "metadata": {
        "colab": {
          "base_uri": "https://localhost:8080/"
        },
        "id": "4FPbeBTRMTAu",
        "outputId": "e5c057c2-50f8-42c1-fec9-0deadbacd1e6"
      },
      "execution_count": 24,
      "outputs": [
        {
          "output_type": "stream",
          "name": "stdout",
          "text": [
            "2024 Nissan Leaf\n",
            "This car has a 40-kwh battery.\n"
          ]
        }
      ]
    },
    {
      "cell_type": "code",
      "source": [
        "class Car:\n",
        "  \"\"\"A simple attempt to represent a car.\"\"\"\n",
        "  def __init__(self, make, model, year):\n",
        "    \"\"\"Initialize attribute to describe a car\"\"\"\n",
        "    self.make = make\n",
        "    self.model = model\n",
        "    self.year = year\n",
        "    self.odometer_reading = 0\n",
        "\n",
        "class Battery:\n",
        "  \"\"\"A simple attempt to mode a battery for an electric car\"\"\"\n",
        "\n",
        "  def __init__ (self, battery_size = 40):\n",
        "    self.battery_size = battery_size\n",
        "\n",
        "  def describe_battery(self):\n",
        "    print(f\"This car has a {self.battery_size}-kwh battery.\")\n",
        "\n",
        "\n",
        "class ElectricCar(Car):\n",
        "  \"\"\"Represent aspects of a car, specific to electric vechicles\"\"\"\n",
        "\n",
        "  def __init__(self, make, model, year):\n",
        "    \"\"\"initialize attributes of the parent class.\"\"\"\n",
        "    super().__init__(make, model, year)\n",
        "    self.battery = Battery()\n",
        "\n",
        "my_leaf = ElectricCar('nissan', 'leaf', 2024)\n",
        "print(my_leaf.get_descriptive_name())\n",
        "my_leaf.battery.describe_battery()\n",
        "\n"
      ],
      "metadata": {
        "colab": {
          "base_uri": "https://localhost:8080/",
          "height": 304
        },
        "id": "qegSMgz2NxUC",
        "outputId": "ff194221-4cdc-458a-8e26-ee065146f96e"
      },
      "execution_count": 25,
      "outputs": [
        {
          "output_type": "error",
          "ename": "AttributeError",
          "evalue": "ignored",
          "traceback": [
            "\u001b[0;31m---------------------------------------------------------------------------\u001b[0m",
            "\u001b[0;31mAttributeError\u001b[0m                            Traceback (most recent call last)",
            "\u001b[0;32m<ipython-input-25-ab6ca4acfcb5>\u001b[0m in \u001b[0;36m<cell line: 29>\u001b[0;34m()\u001b[0m\n\u001b[1;32m     27\u001b[0m \u001b[0;34m\u001b[0m\u001b[0m\n\u001b[1;32m     28\u001b[0m \u001b[0mmy_leaf\u001b[0m \u001b[0;34m=\u001b[0m \u001b[0mElectricCar\u001b[0m\u001b[0;34m(\u001b[0m\u001b[0;34m'nissan'\u001b[0m\u001b[0;34m,\u001b[0m \u001b[0;34m'leaf'\u001b[0m\u001b[0;34m,\u001b[0m \u001b[0;36m2024\u001b[0m\u001b[0;34m)\u001b[0m\u001b[0;34m\u001b[0m\u001b[0;34m\u001b[0m\u001b[0m\n\u001b[0;32m---> 29\u001b[0;31m \u001b[0mprint\u001b[0m\u001b[0;34m(\u001b[0m\u001b[0mmy_leaf\u001b[0m\u001b[0;34m.\u001b[0m\u001b[0mget_descriptive_name\u001b[0m\u001b[0;34m(\u001b[0m\u001b[0;34m)\u001b[0m\u001b[0;34m)\u001b[0m\u001b[0;34m\u001b[0m\u001b[0;34m\u001b[0m\u001b[0m\n\u001b[0m\u001b[1;32m     30\u001b[0m \u001b[0mmy_leaf\u001b[0m\u001b[0;34m.\u001b[0m\u001b[0mbattery\u001b[0m\u001b[0;34m.\u001b[0m\u001b[0mdescribe_battery\u001b[0m\u001b[0;34m(\u001b[0m\u001b[0;34m)\u001b[0m\u001b[0;34m\u001b[0m\u001b[0;34m\u001b[0m\u001b[0m\n\u001b[1;32m     31\u001b[0m \u001b[0;34m\u001b[0m\u001b[0m\n",
            "\u001b[0;31mAttributeError\u001b[0m: 'ElectricCar' object has no attribute 'get_descriptive_name'"
          ]
        }
      ]
    },
    {
      "cell_type": "code",
      "source": [
        "class Car:\n",
        "  \"\"\"A simple attempt to represent a car.\"\"\"\n",
        "  def __init__(self, make, model, year):\n",
        "    \"\"\"Initialize attribute to describe a car\"\"\"\n",
        "    self.make = make\n",
        "    self.model = model\n",
        "    self.year = year\n",
        "    self.odometer_reading = 0\n",
        "\n",
        "class Battery:\n",
        "  \"\"\"A simple attempt to mode a battery for an electric car\"\"\"\n",
        "\n",
        "  def __init__ (self, battery_size = 40):\n",
        "    self.battery_size = battery_size\n",
        "\n",
        "  def describe_battery(self):\n",
        "    print(f\"This car has a {self.battery_size}-kwh battery.\")\n",
        "\n",
        "\n",
        "class ElectricCar(Car):\n",
        "  \"\"\"Represent aspects of a car, specific to electric vechicles\"\"\"\n",
        "\n",
        "  def __init__(self, make, model, year):\n",
        "    \"\"\"initialize attributes of the parent class.\"\"\"\n",
        "    super().__init__(make, model, year)\n",
        "    self.battery = Battery()\n",
        "\n",
        "  def get_range(self):\n",
        "    if self.battery_size == 40:\n",
        "      range = 225\n",
        "\n",
        "    elif self.battery_size == 65:\n",
        "      print(f\"This car can go about {range} miles on a full charge.\")\n",
        "\n",
        "my_leaf = ElectricCar('nissan', 'leaf', 2024)\n",
        "print(my_leaf.get_descriptive_name())\n",
        "my_leaf.battery.describe_battery()\n",
        "my_leaf.battery.get_range()\n",
        "\n"
      ],
      "metadata": {
        "colab": {
          "base_uri": "https://localhost:8080/",
          "height": 286
        },
        "id": "dVGKCXXXN5zk",
        "outputId": "4c7a1b1a-bd25-460b-dcec-2ac56cd0069c"
      },
      "execution_count": 27,
      "outputs": [
        {
          "output_type": "stream",
          "name": "stdout",
          "text": [
            "This car has a 40-kwh battery.\n"
          ]
        },
        {
          "output_type": "error",
          "ename": "AttributeError",
          "evalue": "ignored",
          "traceback": [
            "\u001b[0;31m---------------------------------------------------------------------------\u001b[0m",
            "\u001b[0;31mAttributeError\u001b[0m                            Traceback (most recent call last)",
            "\u001b[0;32m<ipython-input-27-d09c88409ffb>\u001b[0m in \u001b[0;36m<cell line: 37>\u001b[0;34m()\u001b[0m\n\u001b[1;32m     35\u001b[0m \u001b[0mmy_leaf\u001b[0m \u001b[0;34m=\u001b[0m \u001b[0mElectricCar\u001b[0m\u001b[0;34m(\u001b[0m\u001b[0;34m'nissan'\u001b[0m\u001b[0;34m,\u001b[0m \u001b[0;34m'leaf'\u001b[0m\u001b[0;34m,\u001b[0m \u001b[0;36m2024\u001b[0m\u001b[0;34m)\u001b[0m\u001b[0;34m\u001b[0m\u001b[0;34m\u001b[0m\u001b[0m\n\u001b[1;32m     36\u001b[0m \u001b[0mmy_leaf\u001b[0m\u001b[0;34m.\u001b[0m\u001b[0mbattery\u001b[0m\u001b[0;34m.\u001b[0m\u001b[0mdescribe_battery\u001b[0m\u001b[0;34m(\u001b[0m\u001b[0;34m)\u001b[0m\u001b[0;34m\u001b[0m\u001b[0;34m\u001b[0m\u001b[0m\n\u001b[0;32m---> 37\u001b[0;31m \u001b[0mmy_leaf\u001b[0m\u001b[0;34m.\u001b[0m\u001b[0mbattery\u001b[0m\u001b[0;34m.\u001b[0m\u001b[0mget_range\u001b[0m\u001b[0;34m(\u001b[0m\u001b[0;34m)\u001b[0m\u001b[0;34m\u001b[0m\u001b[0;34m\u001b[0m\u001b[0m\n\u001b[0m\u001b[1;32m     38\u001b[0m \u001b[0;34m\u001b[0m\u001b[0m\n",
            "\u001b[0;31mAttributeError\u001b[0m: 'Battery' object has no attribute 'get_range'"
          ]
        }
      ]
    },
    {
      "cell_type": "code",
      "source": [
        "class Car:\n",
        "  \"\"\"A simple attempt to represent a car.\"\"\"\n",
        "  def __init__(self, make, model, year):\n",
        "    \"\"\"Initialize attribute to describe a car\"\"\"\n",
        "    self.make = make\n",
        "    self.model = model\n",
        "    self.year = year\n",
        "    self.odometer_reading = 0\n",
        "\n",
        "  def get_descriptive_name(self):\n",
        "    \"\"\"return a neatly formatted descriptive name.\"\"\"\n",
        "    long_name = f\"{self.year} {self.make} {self.model}\"\n",
        "    return long_name.title()\n",
        "\n",
        "  def read_odometer(self):\n",
        "    \"\"\"print a statement showing the cars mileage\"\"\"\n",
        "    print(f\"This car has {self.odometer_reading} miles on it.\")\n",
        "\n",
        "  def update_odometer(self, mileage):\n",
        "    if mileage >= self.odometer_reading:\n",
        "     self.odometer_reading = mileage\n",
        "    else:\n",
        "      print(\"you can't roll back an odometer\")\n",
        "\n",
        "  def increment_odometer(self, mileage):\n",
        "    \"\"\" Add the given amount to the odometer reading.\"\"\"\n",
        "    self.odometer_reading += miles"
      ],
      "metadata": {
        "id": "TwIpmdauP3dC"
      },
      "execution_count": 28,
      "outputs": []
    },
    {
      "cell_type": "code",
      "source": [
        " car import Car\n",
        "\n",
        "my_new_car = Car('audi', 'a4', 2024)\n",
        "print(my_new_car.get_descriptive_name())"
      ],
      "metadata": {
        "colab": {
          "base_uri": "https://localhost:8080/",
          "height": 447
        },
        "id": "Nwkaylm2SD3v",
        "outputId": "c25e8bb8-f007-4dd5-eb1f-5f48cac01958"
      },
      "execution_count": 29,
      "outputs": [
        {
          "output_type": "error",
          "ename": "ModuleNotFoundError",
          "evalue": "ignored",
          "traceback": [
            "\u001b[0;31m---------------------------------------------------------------------------\u001b[0m",
            "\u001b[0;31mModuleNotFoundError\u001b[0m                       Traceback (most recent call last)",
            "\u001b[0;32m<ipython-input-29-a95eeb32ce50>\u001b[0m in \u001b[0;36m<cell line: 1>\u001b[0;34m()\u001b[0m\n\u001b[0;32m----> 1\u001b[0;31m \u001b[0;32mfrom\u001b[0m \u001b[0mcar\u001b[0m \u001b[0;32mimport\u001b[0m \u001b[0mCar\u001b[0m\u001b[0;34m\u001b[0m\u001b[0;34m\u001b[0m\u001b[0m\n\u001b[0m\u001b[1;32m      2\u001b[0m \u001b[0;34m\u001b[0m\u001b[0m\n\u001b[1;32m      3\u001b[0m \u001b[0mmy_new_car\u001b[0m \u001b[0;34m=\u001b[0m \u001b[0mCar\u001b[0m\u001b[0;34m(\u001b[0m\u001b[0;34m'audi'\u001b[0m\u001b[0;34m,\u001b[0m \u001b[0;34m'a4'\u001b[0m\u001b[0;34m,\u001b[0m \u001b[0;36m2024\u001b[0m\u001b[0;34m)\u001b[0m\u001b[0;34m\u001b[0m\u001b[0;34m\u001b[0m\u001b[0m\n\u001b[1;32m      4\u001b[0m \u001b[0mprint\u001b[0m\u001b[0;34m(\u001b[0m\u001b[0mmy_new_car\u001b[0m\u001b[0;34m.\u001b[0m\u001b[0mget_descriptive_name\u001b[0m\u001b[0;34m(\u001b[0m\u001b[0;34m)\u001b[0m\u001b[0;34m)\u001b[0m\u001b[0;34m\u001b[0m\u001b[0;34m\u001b[0m\u001b[0m\n",
            "\u001b[0;31mModuleNotFoundError\u001b[0m: No module named 'car'",
            "",
            "\u001b[0;31m---------------------------------------------------------------------------\u001b[0;32m\nNOTE: If your import is failing due to a missing package, you can\nmanually install dependencies using either !pip or !apt.\n\nTo view examples of installing some common dependencies, click the\n\"Open Examples\" button below.\n\u001b[0;31m---------------------------------------------------------------------------\u001b[0m\n"
          ],
          "errorDetails": {
            "actions": [
              {
                "action": "open_url",
                "actionText": "Open Examples",
                "url": "/notebooks/snippets/importing_libraries.ipynb"
              }
            ]
          }
        }
      ]
    },
    {
      "cell_type": "code",
      "source": [
        "import car\n",
        "my_mustang = car.Car('ford', 'mustang', 2024)\n",
        "print(my_leaf.get_descriptive_name())"
      ],
      "metadata": {
        "id": "HeL0Xl0vYBbx"
      },
      "execution_count": null,
      "outputs": []
    },
    {
      "cell_type": "code",
      "source": [
        "from car import Car\n",
        "from electric_car import ElectricCar\n",
        "\n",
        "my_mustang.get_descriptive_name\n",
        "print(my_mustange.get_descriptive_name())\n",
        "\n",
        "my_leaf = ElectricCar('nissan', 'leaf', 2024)\n",
        "print(my_leaf.get_descriptive_name())"
      ],
      "metadata": {
        "id": "86kD2Jc2YBWD"
      },
      "execution_count": null,
      "outputs": []
    },
    {
      "cell_type": "code",
      "source": [
        "class Restaurant:\n",
        "  \"\"\"This class represents the resturant\"\"\"\n",
        "\n",
        "  def __init__ (self, name, cuisine):\n",
        "    self.name = name.title()\n",
        "    self.cuisine = cuisine\n",
        "\n",
        "  def describe_restaurant(self):\n",
        "    restaurant = self.name + \"makes delicious\" + self.cuisine\n",
        "    print(\"\\n\" + restaurant)\n",
        "\n",
        "  def open_restaurant (self):\n",
        "    open_msg = self.name +\"is now open!\"\n",
        "    print(\"\\n\" + open_msg)\n",
        "\n",
        "restaurant = Restaurant('Lookout Bar and Grill ', ' pub fair')\n",
        "print(restaurant.name)\n",
        "print(restaurant.cuisine)\n",
        "\n",
        "restaurant.describe_restaurant()\n",
        "restaurant.open_restaurant()\n",
        "\n",
        "\n",
        "\n"
      ],
      "metadata": {
        "colab": {
          "base_uri": "https://localhost:8080/"
        },
        "id": "EjM14z2RSRhK",
        "outputId": "0375afa3-2291-4c07-dd83-644ecb622d7d"
      },
      "execution_count": 46,
      "outputs": [
        {
          "output_type": "stream",
          "name": "stdout",
          "text": [
            "Lookout Bar And Grill \n",
            " pub fair\n",
            "\n",
            "Lookout Bar And Grill makes delicious pub fair\n",
            "\n",
            "Lookout Bar And Grill is now open!\n"
          ]
        }
      ]
    },
    {
      "cell_type": "code",
      "source": [
        "class Restaurant:\n",
        "    \"\"\"This class represents the restaurant\"\"\"\n",
        "\n",
        "    def __init__(self, name, cuisine):\n",
        "        self.name = name.title()\n",
        "        self.cuisine = cuisine\n",
        "\n",
        "    def describe_restaurant(self):\n",
        "        restaurant = self.name + \" makes delicious \" + self.cuisine\n",
        "        print(\"\\n\" + restaurant)\n",
        "\n",
        "    def open_restaurant(self):\n",
        "        open_msg = self.name + \" is now open!\"\n",
        "        print(\"\\n\" + open_msg)\n",
        "\n",
        "lookout_bar_and_grill = Restaurant('Lookout Bar and Grill', 'pub fair')\n",
        "lookout_bar_and_grill.describe_restaurant()\n",
        "\n",
        "shake_shack = Restaurant('Shake Shack', 'burgers and milkshakes')\n",
        "shake_shack.describe_restaurant()\n",
        "\n",
        "chipotle = Restaurant('Chipotle', 'burritos')\n",
        "chipotle.describe_restaurant()\n"
      ],
      "metadata": {
        "colab": {
          "base_uri": "https://localhost:8080/"
        },
        "id": "oq5cAadWMq9I",
        "outputId": "6d13eec2-9417-4d1d-cfb0-c209bf8fd575"
      },
      "execution_count": 50,
      "outputs": [
        {
          "output_type": "stream",
          "name": "stdout",
          "text": [
            "\n",
            "Lookout Bar And Grill makes delicious pub fair\n",
            "\n",
            "Shake Shack makes delicious burgers and milkshakes\n",
            "\n",
            "Chipotle makes delicious burritos\n"
          ]
        }
      ]
    },
    {
      "cell_type": "code",
      "source": [
        "class User:\n",
        "  def __init__ (self, first_name, last_name, age, email):\n",
        "    self.first_name = first_name\n",
        "    self.last_name = last_name\n",
        "    self.age = age\n",
        "    self.email = email\n",
        "\n",
        "  def describe_user(self):\n",
        "    print(f\"User Information:\")\n",
        "    print(f\"First Name: {self.first_name}\")\n",
        "    print(f\"Last Name: {self.last_name}\")\n",
        "    print(f\"Age: {self.age}\")\n",
        "    print(f\"Email:{self.email}\")\n",
        "\n",
        "  def greet_user(self):\n",
        "    print(f\"Hey {self.first_name} {self.last_name}!\")\n",
        "\n",
        "user1 = User('Brighton', 'Daniger', 21, 'brighton@email.com')\n",
        "user2 = User('Ann', 'White', 22, 'ann@email.com' )\n",
        "user3 = User('Amelaine', 'Llanto', 21, 'Amelaine@email.com')\n",
        "user4 = User('Lily', 'Roy', 21, 'lily@email.com')\n",
        "\n",
        "user1.describe_user()\n",
        "user1.greet_user()\n",
        "\n",
        "user2.describe_user()\n",
        "user2.greet_user()\n",
        "\n",
        "user3.describe_user()\n",
        "user3.greet_user()\n",
        "\n",
        "user4.describe_user()\n",
        "user4.greet_user()"
      ],
      "metadata": {
        "colab": {
          "base_uri": "https://localhost:8080/"
        },
        "id": "K5COI-93NgxE",
        "outputId": "cbd2c9f8-6c3b-4e32-ed35-b6fbc2b2db37"
      },
      "execution_count": 52,
      "outputs": [
        {
          "output_type": "stream",
          "name": "stdout",
          "text": [
            "User Information:\n",
            "First Name: Brighton\n",
            "Last Name: Daniger\n",
            "Age: 21\n",
            "Email:brighton@email.com\n",
            "Hey Brighton Daniger!\n",
            "User Information:\n",
            "First Name: Ann\n",
            "Last Name: White\n",
            "Age: 22\n",
            "Email:ann@email.com\n",
            "Hey Ann White!\n",
            "User Information:\n",
            "First Name: Amelaine\n",
            "Last Name: Llanto\n",
            "Age: 21\n",
            "Email:Amelaine@email.com\n",
            "Hey Amelaine Llanto!\n",
            "User Information:\n",
            "First Name: Lily\n",
            "Last Name: Roy\n",
            "Age: 21\n",
            "Email:lily@email.com\n",
            "Hey Lily Roy!\n"
          ]
        }
      ]
    },
    {
      "cell_type": "code",
      "source": [
        "class IceCreamStand:\n",
        "  \"\"\"This class represents the resturant\"\"\"\n",
        "\n",
        "  def __init__ (self, name, flavors):\n",
        "    self.name = name\n",
        "    self.flavors = []\n",
        "\n",
        "  def add_flavors(self, flavor):\n",
        "    self.flavors.append(flavor)\n",
        "\n",
        "  def show_flavors(self):\n",
        "    print(f\"We have all of these flavors available currently:\")\n",
        "    for flavor in self.flavors:\n",
        "      print(f\"- {flavor}\")\n",
        "\n",
        "flavors_list = ['mint cookie cumble', 'rockey road', 'pepermint']\n",
        "ice_cream_stand = IceCreamStand('Ice Cream Shop', flavors_list)\n",
        "\n",
        "\n",
        "\n",
        "\n",
        "\n"
      ],
      "metadata": {
        "id": "cQALOqYBQAzZ"
      },
      "execution_count": 7,
      "outputs": []
    },
    {
      "cell_type": "code",
      "source": [
        "class User:\n",
        "  def __init__ (self, first_name, last_name, age, email):\n",
        "    self.first_name = first_name\n",
        "    self.last_name = last_name\n",
        "    self.age = age\n",
        "    self.email = email\n",
        "\n",
        "  def describe_user(self):\n",
        "    print(f\"User Information:\")\n",
        "    print(f\"First Name: {self.first_name}\")\n",
        "    print(f\"Last Name: {self.last_name}\")\n",
        "    print(f\"Age: {self.age}\")\n",
        "    print(f\"Email:{self.email}\")\n",
        "\n",
        "  def greet_user(self):\n",
        "    print(f\"Hey {self.first_name} {self.last_name}!\")\n",
        "\n",
        "\n",
        "class Admin:\n",
        "  def __init__ (self, priviledges):\n",
        "    self.priviledges = priviledges\n",
        "\n",
        "  def show_privledges(self):\n",
        "    print(f\"Administrator Privileges:\")\n",
        "    for privliage in self.priviledges:\n",
        "      print(f\". {privliage}\")\n",
        "\n",
        "admin_privileges = [\"can add post\", \"can delete post\", \"can ban user\"]\n",
        "admin_user = Admin(admin_privileges)\n",
        "\n",
        "user1 = User('Brighton', 'Daniger', 21, 'brighton@email.com')\n",
        "user2 = User('Ann', 'White', 22, 'ann@email.com' )\n",
        "user3 = User('Amelaine', 'Llanto', 21, 'Amelaine@email.com')\n",
        "user4 = User('Lily', 'Roy', 21, 'lily@email.com')\n",
        "\n",
        "user1.describe_user()\n",
        "user1.greet_user()\n",
        "\n",
        "user2.describe_user()\n",
        "user2.greet_user()\n",
        "\n",
        "user3.describe_user()\n",
        "user3.greet_user()\n",
        "\n",
        "user4.describe_user()\n",
        "user4.greet_user()\n"
      ],
      "metadata": {
        "colab": {
          "base_uri": "https://localhost:8080/"
        },
        "id": "4RCN8fqq0ML4",
        "outputId": "19c80aae-fad6-461b-ee73-ce976e81c8f1"
      },
      "execution_count": 9,
      "outputs": [
        {
          "output_type": "stream",
          "name": "stdout",
          "text": [
            "User Information:\n",
            "First Name: Brighton\n",
            "Last Name: Daniger\n",
            "Age: 21\n",
            "Email:brighton@email.com\n",
            "Hey Brighton Daniger!\n",
            "User Information:\n",
            "First Name: Ann\n",
            "Last Name: White\n",
            "Age: 22\n",
            "Email:ann@email.com\n",
            "Hey Ann White!\n",
            "User Information:\n",
            "First Name: Amelaine\n",
            "Last Name: Llanto\n",
            "Age: 21\n",
            "Email:Amelaine@email.com\n",
            "Hey Amelaine Llanto!\n",
            "User Information:\n",
            "First Name: Lily\n",
            "Last Name: Roy\n",
            "Age: 21\n",
            "Email:lily@email.com\n",
            "Hey Lily Roy!\n"
          ]
        }
      ]
    },
    {
      "cell_type": "code",
      "source": [],
      "metadata": {
        "id": "zsfzzSpm5wQo"
      },
      "execution_count": null,
      "outputs": []
    }
  ]
}