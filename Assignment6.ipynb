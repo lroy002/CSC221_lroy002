{
  "nbformat": 4,
  "nbformat_minor": 0,
  "metadata": {
    "colab": {
      "provenance": [],
      "authorship_tag": "ABX9TyONH8PiGl1LaNUCF4SLakwO",
      "include_colab_link": true
    },
    "kernelspec": {
      "name": "python3",
      "display_name": "Python 3"
    },
    "language_info": {
      "name": "python"
    }
  },
  "cells": [
    {
      "cell_type": "markdown",
      "metadata": {
        "id": "view-in-github",
        "colab_type": "text"
      },
      "source": [
        "<a href=\"https://colab.research.google.com/github/lroy002/CSC221_lroy002/blob/main/Assignment6.ipynb\" target=\"_parent\"><img src=\"https://colab.research.google.com/assets/colab-badge.svg\" alt=\"Open In Colab\"/></a>"
      ]
    },
    {
      "cell_type": "code",
      "execution_count": 1,
      "metadata": {
        "id": "SrP495Iv60A0",
        "colab": {
          "base_uri": "https://localhost:8080/"
        },
        "outputId": "bed63d25-1163-4ff6-efb4-926ecd7e0873"
      },
      "outputs": [
        {
          "output_type": "stream",
          "name": "stdout",
          "text": [
            "Audi\n",
            "BMW\n",
            "Subaru\n",
            "Toyota\n"
          ]
        }
      ],
      "source": [
        "cars = ['audi', 'bmw', 'subaru', 'toyota']\n",
        "for car in cars:\n",
        "  if car == 'bmw':\n",
        "    print(car.upper())\n",
        "  else:\n",
        "    print(car.title())\n",
        ""
      ]
    },
    {
      "cell_type": "code",
      "source": [
        "car = 'bmw'\n",
        "car == 'bmw'\n"
      ],
      "metadata": {
        "colab": {
          "base_uri": "https://localhost:8080/"
        },
        "id": "DgfaypxDRdDk",
        "outputId": "614361b3-e2b0-466a-ba08-e6117095d7ce"
      },
      "execution_count": 2,
      "outputs": [
        {
          "output_type": "execute_result",
          "data": {
            "text/plain": [
              "True"
            ]
          },
          "metadata": {},
          "execution_count": 2
        }
      ]
    },
    {
      "cell_type": "code",
      "source": [
        "car = 'audi'\n",
        "car == 'bmw'\n"
      ],
      "metadata": {
        "colab": {
          "base_uri": "https://localhost:8080/"
        },
        "id": "zasW1kakRfu4",
        "outputId": "af15ac58-5c98-4b74-e4cb-371c6f554480"
      },
      "execution_count": 3,
      "outputs": [
        {
          "output_type": "execute_result",
          "data": {
            "text/plain": [
              "False"
            ]
          },
          "metadata": {},
          "execution_count": 3
        }
      ]
    },
    {
      "cell_type": "code",
      "source": [
        "car = 'Audi'\n",
        "car.lower() == 'audi'\n",
        "car"
      ],
      "metadata": {
        "colab": {
          "base_uri": "https://localhost:8080/",
          "height": 35
        },
        "id": "TradOrmkRhY6",
        "outputId": "d414e775-cabe-4c36-9db9-8fb36802d15e"
      },
      "execution_count": 4,
      "outputs": [
        {
          "output_type": "execute_result",
          "data": {
            "text/plain": [
              "'Audi'"
            ],
            "application/vnd.google.colaboratory.intrinsic+json": {
              "type": "string"
            }
          },
          "metadata": {},
          "execution_count": 4
        }
      ]
    },
    {
      "cell_type": "code",
      "source": [
        "requested_topping = 'mushrooms'\n",
        "if requested_topping != 'anchovies':\n",
        "  print(\"Hold the anchovies!\")"
      ],
      "metadata": {
        "colab": {
          "base_uri": "https://localhost:8080/"
        },
        "id": "TZMncVEjRkKI",
        "outputId": "0f4c26ee-e97e-4955-e2bb-11e586683c18"
      },
      "execution_count": 5,
      "outputs": [
        {
          "output_type": "stream",
          "name": "stdout",
          "text": [
            "Hold the anchovies!\n"
          ]
        }
      ]
    },
    {
      "cell_type": "code",
      "source": [
        "age = 18\n",
        "age == 18\n"
      ],
      "metadata": {
        "colab": {
          "base_uri": "https://localhost:8080/"
        },
        "id": "hzPhLb8DRmPz",
        "outputId": "490e5b87-57a0-4006-8314-84b17d7e77d1"
      },
      "execution_count": 6,
      "outputs": [
        {
          "output_type": "execute_result",
          "data": {
            "text/plain": [
              "True"
            ]
          },
          "metadata": {},
          "execution_count": 6
        }
      ]
    },
    {
      "cell_type": "code",
      "source": [
        "answer = 17\n",
        "if answer !=42:\n",
        "  print(\"that is not the correct answer. please try again!\")"
      ],
      "metadata": {
        "colab": {
          "base_uri": "https://localhost:8080/"
        },
        "id": "wvHRDPahRoOV",
        "outputId": "aad2e957-635d-4f52-94cd-ef944cb29f6f"
      },
      "execution_count": 7,
      "outputs": [
        {
          "output_type": "stream",
          "name": "stdout",
          "text": [
            "that is not the correct answer. please try again!\n"
          ]
        }
      ]
    },
    {
      "cell_type": "code",
      "source": [
        "age = 19\n",
        "age < 21\n",
        "age <= 21\n",
        "age > 21\n",
        "age >= 21"
      ],
      "metadata": {
        "colab": {
          "base_uri": "https://localhost:8080/"
        },
        "id": "hMwDLCB5RppG",
        "outputId": "c265e1d9-590d-4ec4-fbb7-c10254ff84e3"
      },
      "execution_count": 8,
      "outputs": [
        {
          "output_type": "execute_result",
          "data": {
            "text/plain": [
              "False"
            ]
          },
          "metadata": {},
          "execution_count": 8
        }
      ]
    },
    {
      "cell_type": "code",
      "source": [
        "age_0 = 22\n",
        "age_1 = 18\n",
        "age_0 >= 21 and age_1 >= 21\n",
        "age_1 = 22\n",
        "age_0 >=21 and age_1>=21"
      ],
      "metadata": {
        "colab": {
          "base_uri": "https://localhost:8080/"
        },
        "id": "6-qVj2TCRrGv",
        "outputId": "72678720-3d07-4455-ff52-d5418de4d08b"
      },
      "execution_count": 9,
      "outputs": [
        {
          "output_type": "execute_result",
          "data": {
            "text/plain": [
              "True"
            ]
          },
          "metadata": {},
          "execution_count": 9
        }
      ]
    },
    {
      "cell_type": "code",
      "source": [
        "requested_topping = ['mushrooms', 'onion', 'pineapple']\n",
        "'mushrooms' in requested_topping\n",
        "'peppersoni' in requested_topping"
      ],
      "metadata": {
        "colab": {
          "base_uri": "https://localhost:8080/"
        },
        "id": "iqBnuSEeRs0m",
        "outputId": "a991ac46-cde8-47da-c537-1ce22fd8a7f3"
      },
      "execution_count": 10,
      "outputs": [
        {
          "output_type": "execute_result",
          "data": {
            "text/plain": [
              "False"
            ]
          },
          "metadata": {},
          "execution_count": 10
        }
      ]
    },
    {
      "cell_type": "code",
      "source": [
        "banned_users = ['andrew', 'carolina', 'david']\n",
        "user = 'marie'\n",
        "if user not in banned_users:\n",
        "  print(f\"{user.title()}, you can post a response if you wish.\")"
      ],
      "metadata": {
        "colab": {
          "base_uri": "https://localhost:8080/"
        },
        "id": "9kFSQYKVRubJ",
        "outputId": "f86dd925-591e-4e5a-c8bd-8d50b1d4cb2c"
      },
      "execution_count": 11,
      "outputs": [
        {
          "output_type": "stream",
          "name": "stdout",
          "text": [
            "Marie, you can post a response if you wish.\n"
          ]
        }
      ]
    },
    {
      "cell_type": "code",
      "source": [
        "age = 17\n",
        "if age >=18:\n",
        "  print(\"you are old enough to vote!\")\n",
        "  print(\"have you registered to vote yet?\")\n",
        "else:\n",
        "  print (\"sorry you are too young to vote\")\n",
        "  print(\"please register to vote when you are 18\")"
      ],
      "metadata": {
        "colab": {
          "base_uri": "https://localhost:8080/"
        },
        "id": "a_D32dJZRwpp",
        "outputId": "3c911db1-410e-457a-94de-b1e8fe260be7"
      },
      "execution_count": 12,
      "outputs": [
        {
          "output_type": "stream",
          "name": "stdout",
          "text": [
            "sorry you are too young to vote\n",
            "please register to vote when you are 18\n"
          ]
        }
      ]
    },
    {
      "cell_type": "code",
      "source": [
        "age = 12\n",
        "if age < 4:\n",
        "  print(\"your admission cost is $0\")\n",
        "elif age <18:\n",
        "    print(\"your admission cost is $25\")\n",
        "else:\n",
        "  print(\"your admission cost is $40\")"
      ],
      "metadata": {
        "colab": {
          "base_uri": "https://localhost:8080/"
        },
        "id": "oaIL8cQQRyNe",
        "outputId": "9466c3ca-3063-4fb9-8539-ef5b5aaa513f"
      },
      "execution_count": 13,
      "outputs": [
        {
          "output_type": "stream",
          "name": "stdout",
          "text": [
            "your admission cost is $25\n"
          ]
        }
      ]
    },
    {
      "cell_type": "code",
      "source": [
        "age = 12\n",
        "if age < 4:\n",
        "  price = 0\n",
        "elif age <18:\n",
        "   price = 25\n",
        "elif age <65:\n",
        "  price = 40\n",
        "else:\n",
        "  price = 40\n",
        "\n",
        "print(f\"your admission cost is ${price}.\")"
      ],
      "metadata": {
        "colab": {
          "base_uri": "https://localhost:8080/"
        },
        "id": "_d0xSskhRz1l",
        "outputId": "7195bc4c-4bec-4304-f9fa-f0ad668121bc"
      },
      "execution_count": 14,
      "outputs": [
        {
          "output_type": "stream",
          "name": "stdout",
          "text": [
            "your admission cost is $25.\n"
          ]
        }
      ]
    },
    {
      "cell_type": "code",
      "source": [
        "requested_toppings = ['mushrooms', 'extra cheese']\n",
        "\n",
        "if 'mushrooms' in requested_toppings:\n",
        "  print ('Adding mushrooms.')\n",
        "elif 'pepperoni' in requested_toppings:\n",
        "  print(\"adding pepperoni.\")\n",
        "elif 'extra cheese' in requested_toppings:\n",
        "  print('adding extra cheese')\n",
        "\n",
        "print(\"\\nFinished making your pizza!\")"
      ],
      "metadata": {
        "colab": {
          "base_uri": "https://localhost:8080/"
        },
        "id": "5r8kW5TvR1dH",
        "outputId": "daf4ae8a-21e0-401a-8809-98fe22e69b6e"
      },
      "execution_count": 15,
      "outputs": [
        {
          "output_type": "stream",
          "name": "stdout",
          "text": [
            "Adding mushrooms.\n",
            "\n",
            "Finished making your pizza!\n"
          ]
        }
      ]
    },
    {
      "cell_type": "code",
      "source": [
        "requested_toppings = ['mushrooms', 'green peppers', 'extra cheese']\n",
        "for requested_toppings in requested_toppings:\n",
        "  if requested_toppings == 'green peppers':\n",
        "    print(\"sorry we are out of green peppers right now\")\n",
        "  print(f\"Adding {requested_toppings}.\")\n",
        "\n",
        "print(\"\\nFinished making your pizza!\")"
      ],
      "metadata": {
        "colab": {
          "base_uri": "https://localhost:8080/"
        },
        "id": "9W9IpQsuR30d",
        "outputId": "3ab439c1-cd2a-4c97-a01c-0089d3ea8fa7"
      },
      "execution_count": 16,
      "outputs": [
        {
          "output_type": "stream",
          "name": "stdout",
          "text": [
            "Adding mushrooms.\n",
            "sorry we are out of green peppers right now\n",
            "Adding green peppers.\n",
            "Adding extra cheese.\n",
            "\n",
            "Finished making your pizza!\n"
          ]
        }
      ]
    },
    {
      "cell_type": "code",
      "source": [
        "avaliable_toppings = ['mushrooms', 'olives', 'green peppers', 'pepperoni', 'pineapple', 'extra cheese']\n",
        "requested_toppings = ['mushrooms', ' frech fries', 'extra cheese']\n",
        "\n",
        "for requested_topping in requested_toppings:\n",
        "  if requested_topping in avaliable_toppings:\n",
        "    print(f\"Adding {requested_topping}.\")\n",
        "  else:\n",
        "    print(f\"sorry we don't have {requested_topping}.\")\n",
        "\n",
        "print('\\Finished making pizza!')"
      ],
      "metadata": {
        "colab": {
          "base_uri": "https://localhost:8080/"
        },
        "id": "LFQIQYbXR5ho",
        "outputId": "612e3051-0b88-4c52-ea7d-eac79bfb55bd"
      },
      "execution_count": 17,
      "outputs": [
        {
          "output_type": "stream",
          "name": "stdout",
          "text": [
            "Adding mushrooms.\n",
            "sorry we don't have  frech fries.\n",
            "Adding extra cheese.\n",
            "\\Finished making pizza!\n"
          ]
        }
      ]
    },
    {
      "cell_type": "code",
      "source": [
        "name = 'Lily'\n",
        "print(\"Is name == 'Lily'? I predict true\")\n",
        "print(name == 'Lily')\n",
        "\n",
        "name = 'Emma'\n",
        "print(\"Is name == 'Emma'? I predict true\")\n",
        "print(name == 'Emma')\n",
        "\n",
        "name = 'Olivia'\n",
        "print(\"Is name == 'Olivai'? I predict true\")\n",
        "print(name == 'Olivia')\n",
        "\n",
        "name = 'Tahsa'\n",
        "print(\"Is name == 'Tasha'? I predict true\")\n",
        "print(name == 'Tasha')\n",
        "\n",
        "name = 'Marcy'\n",
        "print(\"Is name == 'Marcy'? I predict true\")\n",
        "print(name == 'Marcy')\n",
        "\n",
        "name = 'Brighton'\n",
        "print(\"Is name == 'Brighton'? I predict False\")\n",
        "print(name == 'Lily')\n",
        "\n",
        "name = 'Emma'\n",
        "print(\"Is name == 'Juniper'? I predict False\")\n",
        "print(name == 'Juniper')\n",
        "\n",
        "name = 'Fiona'\n",
        "print(\"Is name == 'Fiona'? I predict False\")\n",
        "print(name == 'Marcy')\n",
        "\n",
        "name = 'Shadow'\n",
        "print(\"Is name == 'Gidget'? I predict False\")\n",
        "print(name == 'Gidget')\n",
        "\n",
        "name = 'Blu'\n",
        "print(\"Is name == 'Penny'? I predict False\")\n",
        "print(name == 'Penny')"
      ],
      "metadata": {
        "colab": {
          "base_uri": "https://localhost:8080/"
        },
        "id": "j-WtpvTmR7IH",
        "outputId": "490c768f-46fd-4f0f-87b0-c0d3ecf042e2"
      },
      "execution_count": 18,
      "outputs": [
        {
          "output_type": "stream",
          "name": "stdout",
          "text": [
            "Is name == 'Lily'? I predict true\n",
            "True\n",
            "Is name == 'Emma'? I predict true\n",
            "True\n",
            "Is name == 'Olivai'? I predict true\n",
            "True\n",
            "Is name == 'Tasha'? I predict true\n",
            "False\n",
            "Is name == 'Marcy'? I predict true\n",
            "True\n",
            "Is name == 'Brighton'? I predict False\n",
            "False\n",
            "Is name == 'Juniper'? I predict False\n",
            "False\n",
            "Is name == 'Fiona'? I predict False\n",
            "False\n",
            "Is name == 'Gidget'? I predict False\n",
            "False\n",
            "Is name == 'Penny'? I predict False\n",
            "False\n"
          ]
        }
      ]
    },
    {
      "cell_type": "code",
      "source": [
        "test = \"even\"\n",
        "print(test==\"even\")\n",
        "print(test != \"even\")"
      ],
      "metadata": {
        "colab": {
          "base_uri": "https://localhost:8080/"
        },
        "id": "XYm_PMJ9R8oY",
        "outputId": "8552ecb3-11d2-4d31-8246-ccdf40d1effb"
      },
      "execution_count": 19,
      "outputs": [
        {
          "output_type": "stream",
          "name": "stdout",
          "text": [
            "True\n",
            "False\n"
          ]
        }
      ]
    },
    {
      "cell_type": "code",
      "source": [
        "test = \"even\"\n",
        "print (test.lower() == \"even\")"
      ],
      "metadata": {
        "colab": {
          "base_uri": "https://localhost:8080/"
        },
        "id": "FdVbd7jKR-2D",
        "outputId": "63dfa83c-fc2c-4b85-fc1c-1e69bce8d319"
      },
      "execution_count": 20,
      "outputs": [
        {
          "output_type": "stream",
          "name": "stdout",
          "text": [
            "True\n"
          ]
        }
      ]
    },
    {
      "cell_type": "code",
      "source": [
        "number = 5\n",
        "print(number > 7)\n",
        "print(number <10)\n",
        "print(number <= 5)\n",
        "print(number >= 3)"
      ],
      "metadata": {
        "colab": {
          "base_uri": "https://localhost:8080/"
        },
        "id": "HfwEsaDhSAJa",
        "outputId": "5848d3ba-0c34-47fa-9011-4722c3b399f0"
      },
      "execution_count": 21,
      "outputs": [
        {
          "output_type": "stream",
          "name": "stdout",
          "text": [
            "False\n",
            "True\n",
            "True\n",
            "True\n"
          ]
        }
      ]
    },
    {
      "cell_type": "code",
      "source": [
        "print(\"I am not doing the rest of this section because it is repeititive of the work I did in the examples section\")"
      ],
      "metadata": {
        "colab": {
          "base_uri": "https://localhost:8080/"
        },
        "id": "hljKuAMVSBeX",
        "outputId": "98a03b42-8fbc-4dbb-8293-5654352efdd8"
      },
      "execution_count": 22,
      "outputs": [
        {
          "output_type": "stream",
          "name": "stdout",
          "text": [
            "I am not doing the rest of this section because it is repeititive of the work I did in the examples section\n"
          ]
        }
      ]
    },
    {
      "cell_type": "code",
      "source": [
        "alien_color = ['green', 'yellow', 'red']\n",
        "if 'green' in alien_color:\n",
        "  print(\"you have earned 5 points\")"
      ],
      "metadata": {
        "colab": {
          "base_uri": "https://localhost:8080/"
        },
        "id": "vUf14dRqSCwF",
        "outputId": "97beda00-3c33-455b-f0ef-f874d0152ead"
      },
      "execution_count": 23,
      "outputs": [
        {
          "output_type": "stream",
          "name": "stdout",
          "text": [
            "you have earned 5 points\n"
          ]
        }
      ]
    },
    {
      "cell_type": "code",
      "source": [
        "alien_color = ['green', 'yellow', 'red']\n",
        "if 'green' in alien_color:\n",
        "  print(\"you have earned 5 points\")\n",
        "else:\n",
        "  print(\"you have earned 10 points\")"
      ],
      "metadata": {
        "colab": {
          "base_uri": "https://localhost:8080/"
        },
        "id": "3ZDYeYLzSEGR",
        "outputId": "233df5e6-85f5-4864-ce87-6cbb95f7b59e"
      },
      "execution_count": 24,
      "outputs": [
        {
          "output_type": "stream",
          "name": "stdout",
          "text": [
            "you have earned 5 points\n"
          ]
        }
      ]
    },
    {
      "cell_type": "code",
      "source": [
        "alien_color = ['green', 'yellow', 'red']\n",
        "alien_color = 'yellow'\n",
        "if 'green' in alien_color:\n",
        "  print(\"you have earned 5 points\")\n",
        "else:\n",
        "  print(\"you have earned 10 points\")"
      ],
      "metadata": {
        "colab": {
          "base_uri": "https://localhost:8080/"
        },
        "id": "x8dhR4SxSFbc",
        "outputId": "d246d6ef-0197-47a9-eddb-750c552e31fb"
      },
      "execution_count": 25,
      "outputs": [
        {
          "output_type": "stream",
          "name": "stdout",
          "text": [
            "you have earned 10 points\n"
          ]
        }
      ]
    },
    {
      "cell_type": "code",
      "source": [
        "alien_color = ['green', 'yellow', 'red']\n",
        "alien_color = 'red'\n",
        "if 'green' in alien_color:\n",
        "  print(\"you have earned 5 points\")\n",
        "elif 'yellow' in alien_color:\n",
        "  print(\"you have earned 10 points\")\n",
        "else:\n",
        "  print(\"you have earned 15 points\")"
      ],
      "metadata": {
        "colab": {
          "base_uri": "https://localhost:8080/"
        },
        "id": "BudlmKYBSGyc",
        "outputId": "5d620af8-d495-432d-e309-5c58de2ff649"
      },
      "execution_count": 26,
      "outputs": [
        {
          "output_type": "stream",
          "name": "stdout",
          "text": [
            "you have earned 15 points\n"
          ]
        }
      ]
    },
    {
      "cell_type": "code",
      "source": [
        "alien_color = ['green', 'yellow', 'red']\n",
        "alien_color = 'yellow'\n",
        "if 'green' in alien_color:\n",
        "  print(\"you have earned 5 points\")\n",
        "elif 'yellow' in alien_color:\n",
        "  print(\"you have earned 10 points\")\n",
        "else:\n",
        "  print(\"you have earned 15 points\")"
      ],
      "metadata": {
        "colab": {
          "base_uri": "https://localhost:8080/"
        },
        "id": "YT0oKnK-SIMJ",
        "outputId": "0b64a8d3-8c03-4b66-b296-cbc66164e6f3"
      },
      "execution_count": 27,
      "outputs": [
        {
          "output_type": "stream",
          "name": "stdout",
          "text": [
            "you have earned 10 points\n"
          ]
        }
      ]
    },
    {
      "cell_type": "code",
      "source": [
        "alien_color = ['green', 'yellow', 'red']\n",
        "alien_color = 'green'\n",
        "if 'green' in alien_color:\n",
        "  print(\"you have earned 5 points\")\n",
        "elif 'yellow' in alien_color:\n",
        "  print(\"you have earned 10 points\")\n",
        "else:\n",
        "  print(\"you have earned 15 points\")"
      ],
      "metadata": {
        "colab": {
          "base_uri": "https://localhost:8080/"
        },
        "id": "zRBE9gshSJYl",
        "outputId": "951636cb-e3fc-4a5e-aa5a-f28894badbb8"
      },
      "execution_count": 28,
      "outputs": [
        {
          "output_type": "stream",
          "name": "stdout",
          "text": [
            "you have earned 5 points\n"
          ]
        }
      ]
    },
    {
      "cell_type": "code",
      "source": [
        "age=18\n",
        "if age > 2:\n",
        "  print(\"the person is a baby\")\n",
        "elif age == 2:\n",
        "  print(\"the person is a toddler\")\n",
        "elif age <4:\n",
        "  print(\"the person is a kid\")\n",
        "elif age <13:\n",
        "  print(\"the person is a teenager\")\n",
        "elif age <20:\n",
        "  print(\"the person is an adult\")\n",
        "elif age <65:\n",
        "  print(\"the person is an elder\")"
      ],
      "metadata": {
        "colab": {
          "base_uri": "https://localhost:8080/"
        },
        "id": "QcYWrdKfSLAl",
        "outputId": "9fa1acdf-1af5-4000-e9fc-224ccb954bee"
      },
      "execution_count": 29,
      "outputs": [
        {
          "output_type": "stream",
          "name": "stdout",
          "text": [
            "the person is a baby\n"
          ]
        }
      ]
    },
    {
      "cell_type": "code",
      "source": [
        "favorite_fruits = ['watermelon', 'peach', 'strawberry']\n",
        "for favorite_fruits in favorite_fruits:\n",
        "  print(f\"my favorite fruite is {favorite_fruits}\")\n"
      ],
      "metadata": {
        "colab": {
          "base_uri": "https://localhost:8080/"
        },
        "id": "P2NFwy4ESMj9",
        "outputId": "a8e270d7-c8c7-4cff-e52f-d53d7ff8ab9c"
      },
      "execution_count": 30,
      "outputs": [
        {
          "output_type": "stream",
          "name": "stdout",
          "text": [
            "my favorite fruite is watermelon\n",
            "my favorite fruite is peach\n",
            "my favorite fruite is strawberry\n"
          ]
        }
      ]
    },
    {
      "cell_type": "code",
      "source": [
        "favorite_fruits = ['watermelon', 'peach', 'strawberry']\n",
        "for favorite_fruits in favorite_fruits:\n",
        "  if favorite_fruits in 'watermelon':\n",
        "    print(\"I really like watermelon\")\n",
        "  elif favorite_fruits in 'peach':\n",
        "    print(\"I really like peach\")\n",
        "  else:\n",
        "    print(\"I really like strawberries\")\n"
      ],
      "metadata": {
        "colab": {
          "base_uri": "https://localhost:8080/"
        },
        "id": "AEBy6trkSN_Q",
        "outputId": "2a2e1742-4134-4ff6-f7ab-a7d833e3ac2e"
      },
      "execution_count": 31,
      "outputs": [
        {
          "output_type": "stream",
          "name": "stdout",
          "text": [
            "I really like watermelon\n",
            "I really like peach\n",
            "I really like strawberries\n"
          ]
        }
      ]
    },
    {
      "cell_type": "code",
      "source": [
        "username=['admin', 'secretary', 'janitor', 'staff', 'manager']\n",
        "if username== 'admin':\n",
        "    print(\"Hello admin, would you like to see a status report?\")\n",
        "elif username == \"employee\":\n",
        "    print(\"hello employee\")\n",
        "elif username == \"secretary\":\n",
        "    print(\"hello sectreary\")\n",
        "elif username == \"janitor\":\n",
        "    print(\"hello janitor\")\n",
        "elif username == \"staff\":\n",
        "    print(\"hello staff\")\n",
        "elif username == \"manager\":\n",
        "    print(\"hello manager\")"
      ],
      "metadata": {
        "id": "SoCWTg6MSPan"
      },
      "execution_count": 32,
      "outputs": []
    },
    {
      "cell_type": "code",
      "source": [
        "username=[]\n",
        "if username== 'admin':\n",
        "  print(\"Hello admin, would you like to see a status report?\")\n",
        "elif username == \"employee\":\n",
        "      print(\"hello employee\")\n",
        "elif username == \"secretary\":\n",
        "    print(\"hello sectreary\")\n",
        "elif username == \"janitor\":\n",
        "    print(\"hello janitor\")\n",
        "elif username == \"staff\":\n",
        "    print(\"hello staff\")\n",
        "elif username == \"manager\":\n",
        "    print(\"hello manager\")\n",
        "else:\n",
        "    print(\"we need to find some users!\")"
      ],
      "metadata": {
        "colab": {
          "base_uri": "https://localhost:8080/"
        },
        "id": "jrJWqfPxSQ4b",
        "outputId": "337ce9a3-408e-4165-e407-e7ae5eebae89"
      },
      "execution_count": 33,
      "outputs": [
        {
          "output_type": "stream",
          "name": "stdout",
          "text": [
            "we need to find some users!\n"
          ]
        }
      ]
    },
    {
      "cell_type": "code",
      "source": [
        "#I am skipping 5-10 becuase it is repeititive of the tasks I have already done. We have made a lot of lists already and worked on if and else statements\n"
      ],
      "metadata": {
        "id": "3meYRbDzSTHI"
      },
      "execution_count": 34,
      "outputs": []
    },
    {
      "cell_type": "code",
      "source": [
        "numbers = (list(range(1,10)))\n",
        "for numbers in numbers:\n",
        "  if numbers == 1:\n",
        "    print(\"1st\")\n",
        "  if numbers == 2:\n",
        "    print(\"2nd\")\n",
        "  if numbers == 3:\n",
        "   print(\"3rd\")\n",
        "  else:\n",
        "    print (str(numbers)+\"th\")"
      ],
      "metadata": {
        "colab": {
          "base_uri": "https://localhost:8080/"
        },
        "id": "y59uo7gxSU6s",
        "outputId": "b3c56582-1f8c-4ab9-f2ed-49c10985e8bd"
      },
      "execution_count": 35,
      "outputs": [
        {
          "output_type": "stream",
          "name": "stdout",
          "text": [
            "1st\n",
            "1th\n",
            "2nd\n",
            "2th\n",
            "3rd\n",
            "4th\n",
            "5th\n",
            "6th\n",
            "7th\n",
            "8th\n",
            "9th\n"
          ]
        }
      ]
    },
    {
      "cell_type": "code",
      "source": [
        "#some ideas that I have had since the start of this chapter is that coding adn lists can help with a lot more than I imagined\n",
        "#from things like groceries to even tracking staff, it can organize and find solutions easily!\n",
        "#a game that I think would be interesting to write would be something like hangman, just because it would be challenging yet the concept of the game would be familiar"
      ],
      "metadata": {
        "id": "ZqCkhvCdSWP6"
      },
      "execution_count": 36,
      "outputs": []
    },
    {
      "cell_type": "code",
      "source": [],
      "metadata": {
        "id": "QDDe913BSX3m"
      },
      "execution_count": null,
      "outputs": []
    }
  ]
}