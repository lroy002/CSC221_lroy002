{
  "nbformat": 4,
  "nbformat_minor": 0,
  "metadata": {
    "colab": {
      "provenance": [],
      "authorship_tag": "ABX9TyO4YzyyJo1V1WbkMkhUGLi4",
      "include_colab_link": true
    },
    "kernelspec": {
      "name": "python3",
      "display_name": "Python 3"
    },
    "language_info": {
      "name": "python"
    }
  },
  "cells": [
    {
      "cell_type": "markdown",
      "metadata": {
        "id": "view-in-github",
        "colab_type": "text"
      },
      "source": [
        "<a href=\"https://colab.research.google.com/github/lroy002/CSC221_lroy002/blob/main/Assignment22.ipynb\" target=\"_parent\"><img src=\"https://colab.research.google.com/assets/colab-badge.svg\" alt=\"Open In Colab\"/></a>"
      ]
    },
    {
      "cell_type": "code",
      "execution_count": 2,
      "metadata": {
        "colab": {
          "base_uri": "https://localhost:8080/"
        },
        "id": "Lm6pss8xUUfW",
        "outputId": "78084afe-dd37-4aaa-9c2c-b48fda05cb71"
      },
      "outputs": [
        {
          "output_type": "stream",
          "name": "stdout",
          "text": [
            "Original list of vectors:\n",
            "Vector2D(1, 2)\n",
            "Vector2D(3, 4)\n",
            "Vector2D(0, 0)\n",
            "Vector2D(-1, -1)\n",
            "\n",
            "Sorted list of vectors by length:\n",
            "Vector2D(0, 0)\n",
            "Vector2D(-1, -1)\n",
            "Vector2D(1, 2)\n",
            "Vector2D(3, 4)\n"
          ]
        }
      ],
      "source": [
        "import math\n",
        "\n",
        "class Vector2D:\n",
        "    def __init__(self, x, y):\n",
        "        self.x = x\n",
        "        self.y = y\n",
        "\n",
        "    def __repr__(self):\n",
        "        return f\"Vector2D({self.x}, {self.y})\"\n",
        "\n",
        "    def length(self):\n",
        "        return math.sqrt(self.x ** 2 + self.y ** 2)\n",
        "\n",
        "    def __lt__(self, other):\n",
        "        return self.length() < other.length()\n",
        "\n",
        "vectors = [Vector2D(1, 2), Vector2D(3, 4), Vector2D(0, 0), Vector2D(-1, -1)]\n",
        "print(\"Original list of vectors:\")\n",
        "for v in vectors:\n",
        "    print(v)\n",
        "\n",
        "vectors.sort()\n",
        "print(\"\\nSorted list of vectors by length:\")\n",
        "for v in vectors:\n",
        "    print(v)\n"
      ]
    },
    {
      "cell_type": "code",
      "source": [
        "class Vector2D:\n",
        "    def __init__(self, x, y):\n",
        "        self.x = x\n",
        "        self.y = y\n",
        "\n",
        "    def __repr__(self):\n",
        "        return f\"Vector2D({self.x}, {self.y})\"\n",
        "\n",
        "    def length(self):\n",
        "        return self.x + self.y\n",
        "\n",
        "    def __lt__(self, other):\n",
        "        return self.length() < other.length()\n",
        "\n",
        "vectors = [Vector2D(1, 2), Vector2D(3, 4), Vector2D(0, 0), Vector2D(-1, -1)]\n",
        "\n",
        "vectors.sort()\n",
        "\n",
        "for v in vectors:\n",
        "    print(v)"
      ],
      "metadata": {
        "colab": {
          "base_uri": "https://localhost:8080/"
        },
        "id": "UGZVuaSJUuop",
        "outputId": "2d303878-5fda-4107-890a-1c9c047b9360"
      },
      "execution_count": 3,
      "outputs": [
        {
          "output_type": "stream",
          "name": "stdout",
          "text": [
            "Vector2D(-1, -1)\n",
            "Vector2D(0, 0)\n",
            "Vector2D(1, 2)\n",
            "Vector2D(3, 4)\n"
          ]
        }
      ]
    },
    {
      "cell_type": "code",
      "source": [
        "class Special:\n",
        "    def __getitem__(self, key):\n",
        "        return len(key)\n",
        "\n",
        "\n",
        "s1 = Special()\n",
        "print(s1[\"lily\"])\n",
        "print(s1[\"lily2\"])\n",
        "print(s1[\"lily2\"*5])"
      ],
      "metadata": {
        "colab": {
          "base_uri": "https://localhost:8080/"
        },
        "id": "cgNBOiC8Vh96",
        "outputId": "dff26710-4e15-43c2-8178-5d842bf39101"
      },
      "execution_count": 4,
      "outputs": [
        {
          "output_type": "stream",
          "name": "stdout",
          "text": [
            "4\n",
            "5\n",
            "25\n"
          ]
        }
      ]
    },
    {
      "cell_type": "code",
      "source": [],
      "metadata": {
        "id": "rXCKbimiW6L8"
      },
      "execution_count": null,
      "outputs": []
    }
  ]
}