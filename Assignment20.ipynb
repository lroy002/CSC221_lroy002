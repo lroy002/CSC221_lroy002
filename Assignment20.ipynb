{
  "nbformat": 4,
  "nbformat_minor": 0,
  "metadata": {
    "colab": {
      "provenance": [],
      "include_colab_link": true
    },
    "kernelspec": {
      "name": "python3",
      "display_name": "Python 3"
    },
    "language_info": {
      "name": "python"
    }
  },
  "cells": [
    {
      "cell_type": "markdown",
      "metadata": {
        "id": "view-in-github",
        "colab_type": "text"
      },
      "source": [
        "<a href=\"https://colab.research.google.com/github/lroy002/CSC221_lroy002/blob/main/Assignment20.ipynb\" target=\"_parent\"><img src=\"https://colab.research.google.com/assets/colab-badge.svg\" alt=\"Open In Colab\"/></a>"
      ]
    },
    {
      "cell_type": "markdown",
      "source": [
        "# Assignment 20\n",
        "## CSC 221\n",
        "- Lily Roy\n",
        "\n",
        "### Instructions:\n",
        "Fill in each code cell below the question. We are following along in Chapter 4 of Python Distilled."
      ],
      "metadata": {
        "id": "IAOUzGWE1eDx"
      }
    },
    {
      "cell_type": "code",
      "execution_count": null,
      "metadata": {
        "id": "Gnj3su7i5-lx",
        "colab": {
          "base_uri": "https://localhost:8080/"
        },
        "outputId": "40bf34bf-2970-4d26-f986-6806fd060e17"
      },
      "outputs": [
        {
          "output_type": "stream",
          "name": "stdout",
          "text": [
            "19\n",
            "44.5\n",
            "asdfg13\n"
          ]
        }
      ],
      "source": [
        "# 4.1 Essential Concepts\n",
        "\n",
        "# When we write \"a + b\" in Python, the interpreter tries to execute a.__add__(b)\n",
        "\n",
        "# Show that this is true by trying the following:\n",
        "a = 6\n",
        "b = 31.5\n",
        "c = 'asdfg'\n",
        "a1 = a.__add__(13)\n",
        "b1 = b.__add__(13)\n",
        "c1 = c.__add__('13')\n",
        "print(a1)\n",
        "print(b1)\n",
        "print(c1)\n",
        "\n",
        "# What are the types of a, b, and c?\n",
        "#a is an interger\n",
        "#b is a used to create a list\n",
        "#c is used to create a new element using the append method\n",
        "\n",
        "# Explain the results\n",
        "#The result of the first equation is resulting in an interger becuase it is adding two intergers together\n",
        "#The result of the second equation is resulting in a floating point number. This is because you are adding a interger with folating point number.\n",
        "#the result of the third one is because you are adding two strings together, thus merging them.\n"
      ]
    },
    {
      "cell_type": "code",
      "source": [
        "# 4.2 through 4.4 will be covered in the next assignment\n"
      ],
      "metadata": {
        "id": "w2uYd3DO2do6"
      },
      "execution_count": null,
      "outputs": []
    },
    {
      "cell_type": "code",
      "source": [
        "# 4.5 str and repr\n",
        "# How many categpries of printing are shown below for a datetime object?\n",
        "# What in the Pythion code makes each one get callled?\n",
        "\n",
        "from datetime import date\n",
        "d = date(2023, 11, 7)\n",
        "\n",
        "#print(d)\n",
        "#print(f'{d}')\n",
        "#print(f'{d!s}')\n",
        "#print(f'{d!r}')\n",
        "#print(str(d))\n",
        "#print(repr(d))\n",
        "#print(d.__str__())\n",
        "#print(d.__repr__())\n",
        "\n",
        "#There are two different categories of printing shown here.\n",
        "#The first one is called by \"str\" and the second one is called by \"d\" which works as a string representing the date"
      ],
      "metadata": {
        "id": "Aa3ylzmV2wNF"
      },
      "execution_count": null,
      "outputs": []
    },
    {
      "cell_type": "code",
      "source": [
        "# 4.6 First-Class Objects\n",
        "# What is the significance of all objects being \"first-class\" in Python? X\n",
        "\n",
        "# Explain by typing in the code to create and use the 'items' dictionary shown in section 4.6. X\n",
        "# Explain each of the lines starting with '>>>' in the section.\n",
        "\n",
        "#being first class in python means that pbjects can be assigned to a name and can be treated as data\n",
        "items = {\n",
        "  'number' : 42\n",
        "  'text' : \"Hello World\"\n",
        "  }\n",
        "items['func'] (-45)\n",
        "import math\n",
        "items['mod'] = math\n",
        "items['error'] = ValueError\n",
        "nums = [1,2,3,4]\n",
        "items['append'] = nums.append\n",
        "\n",
        ">>> items['func'](-45)  #this line calls the number of funtions in items\n",
        "45\n",
        ">>> items['mod'].sqrt(4) #this line uses the square root and mod to do the square root of 4\n",
        "2.0\n",
        ">>> try: #uses the string of \"a lot\" to convert then displayes an error message\n",
        "... x = int('a lot')\n",
        "... except items['error'] as e:\n",
        "... print(\"Couldn't convert\")\n",
        "...\n",
        "Couldn't convert\n",
        ">>> items['append'](100)  #appends 100 from the dictionary for the nums list\n",
        ">>> nums #prints the new modified nums\n",
        "[1, 2, 3, 4, 100]\n",
        ">>>"
      ],
      "metadata": {
        "id": "9LRpP06Vsw6n",
        "colab": {
          "base_uri": "https://localhost:8080/",
          "height": 143
        },
        "outputId": "b6e3889f-6160-4109-f88a-65745b1e616c"
      },
      "execution_count": 3,
      "outputs": [
        {
          "output_type": "error",
          "ename": "SyntaxError",
          "evalue": "ignored",
          "traceback": [
            "\u001b[0;36m  File \u001b[0;32m\"<ipython-input-3-234f7c80a906>\"\u001b[0;36m, line \u001b[0;32m9\u001b[0m\n\u001b[0;31m    'number' : 42\u001b[0m\n\u001b[0m               ^\u001b[0m\n\u001b[0;31mSyntaxError\u001b[0m\u001b[0;31m:\u001b[0m invalid syntax. Perhaps you forgot a comma?\n"
          ]
        }
      ]
    },
    {
      "cell_type": "code",
      "source": [
        "# 4.7 Using None\n",
        "# Write a function that takes two parameters and returns their sum if they are\n",
        "#  integers or returns None if either one is not.\n",
        "\n",
        "# Put in some test code to show that your function works\n",
        "\n",
        "# INSERT YOUR CODE HERE\n",
        "\n",
        "def sum_integers(a, b):\n",
        "    if isinstance(a, int) and isinstance(b, int):\n",
        "        return a + b\n",
        "\n",
        "result1 = sum_integers(6, 9)\n",
        "result2 = sum_integers(12, 11)\n",
        "print(result1)\n",
        "print(result2)"
      ],
      "metadata": {
        "id": "dUhRWGnCtewU",
        "colab": {
          "base_uri": "https://localhost:8080/"
        },
        "outputId": "3963a899-5e03-461b-c5b9-8e29f38a8e1a"
      },
      "execution_count": 6,
      "outputs": [
        {
          "output_type": "stream",
          "name": "stdout",
          "text": [
            "15\n",
            "23\n"
          ]
        }
      ]
    },
    {
      "cell_type": "code",
      "source": [
        "# 4.9 Object Protocol\n",
        "# Create a simple object that has methods for:\n",
        "#  __new__\n",
        "#  __init__\n",
        "#  __del__\n",
        "#  __repr__\n",
        "#  __str__\n",
        "\n",
        "# Put in some test code to show how and when each of these 'magic' functions gets called.\n",
        "\n",
        "# INSERT YOUR CODE HERE\n",
        "class simpleobject:\n",
        "    def __new__(cls):\n",
        "        print(\"__new__ method here\")\n",
        "        instance = super(simpleobject, cls).__new__(cls)\n",
        "        return instance\n",
        "\n",
        "    def __init__(self):\n",
        "        print(\"__init__ method here\")\n",
        "\n",
        "    def __del__(self):\n",
        "        print(\"__del__ method here\")\n",
        "\n",
        "    def __repr__(self):\n",
        "        return \"__repr__ method here\"\n",
        "\n",
        "    def __str__(self):\n",
        "        return \"__str__ method here\"\n",
        "\n",
        "\n",
        "print(\"Creating an object:\")\n",
        "obj = simpleobject()\n",
        "print(\"\\nCalling __repr__:\")\n",
        "print(repr(obj))\n",
        "\n",
        "print(\"\\nCalling __str__:\")\n",
        "print(str(obj))\n",
        "\n",
        "print(\"\\nDeleting a object:\")\n",
        "del obj\n",
        "\n"
      ],
      "metadata": {
        "id": "4M-CQevEt2xQ",
        "colab": {
          "base_uri": "https://localhost:8080/"
        },
        "outputId": "3670f8e7-99bc-48d1-b420-fd9cdcce4745"
      },
      "execution_count": 12,
      "outputs": [
        {
          "output_type": "stream",
          "name": "stdout",
          "text": [
            "Creating an object:\n",
            "__new__ method here\n",
            "__init__ method here\n",
            "\n",
            "Calling __repr__:\n",
            "__repr__ method here\n",
            "\n",
            "Calling __str__:\n",
            "__str__ method here\n",
            "\n",
            "Deleting a object:\n",
            "__del__ method here\n"
          ]
        }
      ]
    },
    {
      "cell_type": "code",
      "source": [],
      "metadata": {
        "id": "QEToFUPOt99-"
      },
      "execution_count": null,
      "outputs": []
    }
  ]
}