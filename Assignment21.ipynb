{
  "nbformat": 4,
  "nbformat_minor": 0,
  "metadata": {
    "colab": {
      "provenance": [],
      "include_colab_link": true
    },
    "kernelspec": {
      "name": "python3",
      "display_name": "Python 3"
    },
    "language_info": {
      "name": "python"
    }
  },
  "cells": [
    {
      "cell_type": "markdown",
      "metadata": {
        "id": "view-in-github",
        "colab_type": "text"
      },
      "source": [
        "<a href=\"https://colab.research.google.com/github/lroy002/CSC221_lroy002/blob/main/Assignment21.ipynb\" target=\"_parent\"><img src=\"https://colab.research.google.com/assets/colab-badge.svg\" alt=\"Open In Colab\"/></a>"
      ]
    },
    {
      "cell_type": "markdown",
      "source": [
        "# Assignment 21\n",
        "## CSC 221\n",
        "- Lily Roy\n",
        "\n",
        "### Instructions:\n",
        "Fill in each code cell below the question. We are following along in Chapter 4 of Python Distilled."
      ],
      "metadata": {
        "id": "IAOUzGWE1eDx"
      }
    },
    {
      "cell_type": "code",
      "execution_count": 1,
      "metadata": {
        "id": "Gnj3su7i5-lx",
        "colab": {
          "base_uri": "https://localhost:8080/"
        },
        "outputId": "6b39c70c-3fb0-4362-da64-88c91bbde015"
      },
      "outputs": [
        {
          "output_type": "stream",
          "name": "stdout",
          "text": [
            "8\n",
            "Hello, World!\n",
            "Hello, 123\n"
          ]
        }
      ],
      "source": [
        "# 4.2 Object Identity and Type\n",
        "\n",
        "# Make a function that performs differently depending on the types of its inputs\n",
        "# cat(a, b) below will work if you pass in two numbers or two strings\n",
        "# Use isinstance to detect when you are getting a string and an int and\n",
        "# automatically convert the int to a string and return the string!\n",
        "\n",
        "#def cat(a, b):\n",
        "    #return a + b\n",
        "\n",
        "#print(cat(3, 5))\n",
        "#print(cat(\"Hello, \", \"World!\"))\n",
        "#print(cat(\"Hello, \", 123))  # FAILS: Should return 'Hello, 123'\n",
        "\n",
        "# INSERT YOUR CODE HERE\n",
        "def cat(a, b):\n",
        "    if isinstance(a, str) or isinstance(b, str):\n",
        "        return str(a) + str(b)\n",
        "    else:\n",
        "        return a + b\n",
        "print(cat(3, 5))\n",
        "print(cat(\"Hello, \", \"World!\"))\n",
        "print(cat(\"Hello, \", 123))\n"
      ]
    },
    {
      "cell_type": "code",
      "source": [
        "# Explain the output of the following code\n",
        "import sys\n",
        "\n",
        "class EmptyClass:\n",
        "    def __init__(self):\n",
        "        print('init')\n",
        "    def __del__(self):\n",
        "        print('del')\n",
        "\n",
        "def print_refcount(x):\n",
        "    print(sys.getrefcount(x))\n",
        "\n",
        "f1 = EmptyClass()\n",
        "print_refcount(f1)\n",
        "f2 = f1\n",
        "print_refcount(f1)\n",
        "f3 = f1\n",
        "print_refcount(f1)\n",
        "\n",
        "del f1\n",
        "print_refcount(f3)\n",
        "del f2\n",
        "print_refcount(f3)\n",
        "del f3\n",
        "\n",
        "# INSERT YOUR EXPLANATION HERE\n",
        "#The output on init stands for the empty class that was created at the start of the code\n",
        "#4 is a reference to the output of f1\n",
        "#5 is a refernce to when f2=f1\n",
        "#6 is a reference to when f3=f1\n",
        "#5 is a refernce to when del 1 is executed when f2 and f3 are removed\n",
        "#4 is a refernce to removing f2, and only f3 remains when calling the cell\n",
        "#del is a reference to when the last objectets are removed and nothing else remains\n",
        "\n"
      ],
      "metadata": {
        "colab": {
          "base_uri": "https://localhost:8080/"
        },
        "id": "DKFgqiK-jlZg",
        "outputId": "08bac36d-8d05-48a4-cada-717028bb2894"
      },
      "execution_count": null,
      "outputs": [
        {
          "output_type": "stream",
          "name": "stdout",
          "text": [
            "init\n",
            "4\n",
            "5\n",
            "6\n",
            "5\n",
            "4\n",
            "del\n"
          ]
        }
      ]
    },
    {
      "cell_type": "code",
      "source": [
        "# Section 4.4, Part 1\n",
        "# Explain this output. Why does it seem odd?\n",
        "a = [1, 2, 3]\n",
        "b = a\n",
        "b[1] = 99\n",
        "print(a)\n",
        "print(b)\n",
        "\n",
        "# INSERT YOUR EXPLANATION HERE\n",
        "#This output is created by b = a, thus they are then linked together and where one is edited the ither will effect it.\n",
        "#The output seems odd becuase the task is not creating a new independent copy of the list it is instead just merging the two"
      ],
      "metadata": {
        "colab": {
          "base_uri": "https://localhost:8080/"
        },
        "id": "-pBk9F45ke-W",
        "outputId": "f4bad81e-6c8a-4039-b904-703eef679d7a"
      },
      "execution_count": null,
      "outputs": [
        {
          "output_type": "stream",
          "name": "stdout",
          "text": [
            "[1, 99, 3]\n",
            "[1, 99, 3]\n"
          ]
        }
      ]
    },
    {
      "cell_type": "code",
      "source": [
        "# Section 4.4, Part 2\n",
        "# Explain this output. Why is it from Part 1?\n",
        "a = [1, 2, 3]\n",
        "b = a[:]\n",
        "b[1] = 99\n",
        "print(a)\n",
        "print(b)\n",
        "\n",
        "# INSERT YOUR EXPLANATION HERE\n",
        "#This output works with a independently from b, becuase a is it's own copy, instead of being referenced.\n",
        "#It is differnet from part one because of the way b is created. A will still have an effect on b, but not the other way around becuase of how they were created."
      ],
      "metadata": {
        "colab": {
          "base_uri": "https://localhost:8080/"
        },
        "id": "PFG-FWuUnmM6",
        "outputId": "f4ccf08c-e2ba-4bac-d5e4-e91c1d431899"
      },
      "execution_count": null,
      "outputs": [
        {
          "output_type": "stream",
          "name": "stdout",
          "text": [
            "[1, 2, 3]\n",
            "[1, 99, 3]\n"
          ]
        }
      ]
    },
    {
      "cell_type": "code",
      "source": [
        "# Section 4.4, Part 3\n",
        "# Explain this output. Why is it from Part 1?\n",
        "a = [1, 2, 3]\n",
        "b = list(a)\n",
        "b[1] = 99\n",
        "print(a)\n",
        "print(b)\n",
        "\n",
        "# INSERT YOUR EXPLANATION HERE\n",
        "#this output shows has a is not effected by b, but b is effected by a\n",
        "#this is from part 1, becuase its shows working, and referencing the same object and how the code can differ the outcome."
      ],
      "metadata": {
        "colab": {
          "base_uri": "https://localhost:8080/"
        },
        "id": "gYLWsIv0n1uR",
        "outputId": "d5c53778-404e-486d-e19f-76896eb639ce"
      },
      "execution_count": null,
      "outputs": [
        {
          "output_type": "stream",
          "name": "stdout",
          "text": [
            "[1, 2, 3]\n",
            "[1, 99, 3]\n"
          ]
        }
      ]
    },
    {
      "cell_type": "code",
      "source": [
        "# Section 4.4, Part 4\n",
        "# Now we understand copy vs. reference. What about shallow vs. deep copy?\n",
        "# Here's a shoolow copy. Why are a and b the same?\n",
        "a = [1, [100, 101], 3]\n",
        "b = list(a)\n",
        "b[1][1] = 900\n",
        "print(a)\n",
        "print(b)\n",
        "\n",
        "# INSERT YOUR EXPLANATION HERE\n",
        "#A and b are the same becuase the shallow copy makes a new copy, but fills it with refernces to the original copy."
      ],
      "metadata": {
        "colab": {
          "base_uri": "https://localhost:8080/"
        },
        "id": "8qAscig2oA7D",
        "outputId": "e9e4e832-9aa6-477f-dda6-61a6403e883c"
      },
      "execution_count": null,
      "outputs": [
        {
          "output_type": "stream",
          "name": "stdout",
          "text": [
            "[1, [100, 900], 3]\n",
            "[1, [100, 900], 3]\n"
          ]
        }
      ]
    },
    {
      "cell_type": "code",
      "source": [
        "# Section 4.4, Part 5\n",
        "# Modify the code from the cell above (repeated here) to perform a deepcopy of a\n",
        "# Explain how that is different.\n",
        "a = [1, [100, 101], 3]\n",
        "b = copy.deepcopy (a)\n",
        "b[1][1] = 900\n",
        "print(a)\n",
        "print(b)\n",
        "\n",
        "# INSERT YOUR EXPLANATION HERE\n",
        "#this code uses the deepcopy to directly copy the code that is in the objects before.\n",
        "#in this scenerio we only needed to edit b= and a = would remain unchanged."
      ],
      "metadata": {
        "colab": {
          "base_uri": "https://localhost:8080/",
          "height": 250
        },
        "id": "Mc2xAGC-oU3C",
        "outputId": "d7d158c5-b5e4-4fbf-8164-254a532a7f58"
      },
      "execution_count": 2,
      "outputs": [
        {
          "output_type": "error",
          "ename": "NameError",
          "evalue": "ignored",
          "traceback": [
            "\u001b[0;31m---------------------------------------------------------------------------\u001b[0m",
            "\u001b[0;31mNameError\u001b[0m                                 Traceback (most recent call last)",
            "\u001b[0;32m<ipython-input-2-275d12519633>\u001b[0m in \u001b[0;36m<cell line: 5>\u001b[0;34m()\u001b[0m\n\u001b[1;32m      3\u001b[0m \u001b[0;31m# Explain how that is different.\u001b[0m\u001b[0;34m\u001b[0m\u001b[0;34m\u001b[0m\u001b[0m\n\u001b[1;32m      4\u001b[0m \u001b[0ma\u001b[0m \u001b[0;34m=\u001b[0m \u001b[0;34m[\u001b[0m\u001b[0;36m1\u001b[0m\u001b[0;34m,\u001b[0m \u001b[0;34m[\u001b[0m\u001b[0;36m100\u001b[0m\u001b[0;34m,\u001b[0m \u001b[0;36m101\u001b[0m\u001b[0;34m]\u001b[0m\u001b[0;34m,\u001b[0m \u001b[0;36m3\u001b[0m\u001b[0;34m]\u001b[0m\u001b[0;34m\u001b[0m\u001b[0;34m\u001b[0m\u001b[0m\n\u001b[0;32m----> 5\u001b[0;31m \u001b[0mb\u001b[0m \u001b[0;34m=\u001b[0m \u001b[0mcopy\u001b[0m\u001b[0;34m.\u001b[0m\u001b[0mdeepcopy\u001b[0m \u001b[0;34m(\u001b[0m\u001b[0ma\u001b[0m\u001b[0;34m)\u001b[0m\u001b[0;34m\u001b[0m\u001b[0;34m\u001b[0m\u001b[0m\n\u001b[0m\u001b[1;32m      6\u001b[0m \u001b[0mb\u001b[0m\u001b[0;34m[\u001b[0m\u001b[0;36m1\u001b[0m\u001b[0;34m]\u001b[0m\u001b[0;34m[\u001b[0m\u001b[0;36m1\u001b[0m\u001b[0;34m]\u001b[0m \u001b[0;34m=\u001b[0m \u001b[0;36m900\u001b[0m\u001b[0;34m\u001b[0m\u001b[0;34m\u001b[0m\u001b[0m\n\u001b[1;32m      7\u001b[0m \u001b[0mprint\u001b[0m\u001b[0;34m(\u001b[0m\u001b[0ma\u001b[0m\u001b[0;34m)\u001b[0m\u001b[0;34m\u001b[0m\u001b[0;34m\u001b[0m\u001b[0m\n",
            "\u001b[0;31mNameError\u001b[0m: name 'copy' is not defined"
          ]
        }
      ]
    },
    {
      "cell_type": "code",
      "source": [],
      "metadata": {
        "id": "c7xdp88AQvwy"
      },
      "execution_count": null,
      "outputs": []
    }
  ]
}