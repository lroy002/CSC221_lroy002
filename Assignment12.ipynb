{
  "nbformat": 4,
  "nbformat_minor": 0,
  "metadata": {
    "colab": {
      "provenance": [],
      "authorship_tag": "ABX9TyPoeKpmIGfG/CTb0Ant0G34",
      "include_colab_link": true
    },
    "kernelspec": {
      "name": "python3",
      "display_name": "Python 3"
    },
    "language_info": {
      "name": "python"
    }
  },
  "cells": [
    {
      "cell_type": "markdown",
      "metadata": {
        "id": "view-in-github",
        "colab_type": "text"
      },
      "source": [
        "<a href=\"https://colab.research.google.com/github/lroy002/CSC221_lroy002/blob/main/Assignment12.ipynb\" target=\"_parent\"><img src=\"https://colab.research.google.com/assets/colab-badge.svg\" alt=\"Open In Colab\"/></a>"
      ]
    },
    {
      "cell_type": "code",
      "source": [
        "class Money:\n",
        "    def __init__(self, value):\n",
        "        self.value = value\n",
        "\n",
        "    def __str__(self):\n",
        "        return f\"${self.value:.2f}\"\n",
        "\n",
        "class Bill(Money):\n",
        "    def __init__(self, value, quantity=0):\n",
        "        super().__init__(value)\n",
        "        self.quantity = quantity\n",
        "\n",
        "    def __str__(self):\n",
        "        return f\"${self.value:.2f} Bill (Quantity: {self.quantity})\"\n",
        "\n",
        "    def total_value(self):\n",
        "        return self.value * self.quantity\n",
        "\n",
        "class Coin(Money):\n",
        "    def __init__(self, value, quantity=0):\n",
        "        super().__init__(value)\n",
        "        self.quantity = quantity\n",
        "\n",
        "    def __str__(self):\n",
        "        return f\"${self.value:.2f} Coin (Quantity: {self.quantity})\"\n",
        "\n",
        "    def total_value(self):\n",
        "        return self.value * self.quantity\n",
        "\n",
        "class Wallet:\n",
        "    def __init__(self):\n",
        "        self.money_list = []\n",
        "\n",
        "    def add_money(self, money):\n",
        "        self.money_list.append(money)\n",
        "\n",
        "    def total_money(self):\n",
        "        return sum(item.total_value() for item in self.money_list)\n",
        "\n",
        "    def print_money(self):\n",
        "        for money in self.money_list:\n",
        "            print(money)\n",
        "\n",
        "\n",
        "one_dollar_bill = Bill(1, 5)\n",
        "five_dollar_bill = Bill(5, 3)\n",
        "quarter_coin = Coin(0.25, 10)\n",
        "dime_coin = Coin(0.10, 20)\n",
        "\n",
        "wallet1 = Wallet()\n",
        "wallet1.add_money(one_dollar_bill)\n",
        "wallet1.add_money(five_dollar_bill)\n",
        "wallet1.add_money(quarter_coin)\n",
        "\n",
        "wallet2 = Wallet()\n",
        "wallet2.add_money(dime_coin)\n",
        "\n",
        "print(\"Wallet 1 Contents:\")\n",
        "wallet1.print_money()\n",
        "print(f\"Total Value in Wallet 1: {wallet1.total_money()}\")\n",
        "\n",
        "print(\"\\nWallet 2 Contents:\")\n",
        "wallet2.print_money()\n",
        "print(f\"Total Value in Wallet 2: {wallet2.total_money()}\")"
      ],
      "metadata": {
        "colab": {
          "base_uri": "https://localhost:8080/"
        },
        "id": "eYELi060BrXH",
        "outputId": "fdd45f94-affd-45eb-e121-ea602275a64e"
      },
      "execution_count": 15,
      "outputs": [
        {
          "output_type": "stream",
          "name": "stdout",
          "text": [
            "Wallet 1 Contents:\n",
            "$1.00 Bill (Quantity: 5)\n",
            "$5.00 Bill (Quantity: 3)\n",
            "$0.25 Coin (Quantity: 10)\n",
            "Total Value in Wallet 1: 22.5\n",
            "\n",
            "Wallet 2 Contents:\n",
            "$0.10 Coin (Quantity: 20)\n",
            "Total Value in Wallet 2: 2.0\n"
          ]
        }
      ]
    },
    {
      "cell_type": "code",
      "source": [
        "class Pets:\n",
        "    def __init__(self, species, age, color):\n",
        "        self.species = species\n",
        "        self.age = age\n",
        "        self.color = color\n",
        "\n",
        "    def __str__(self):\n",
        "        return f\"{self.species} {self.age} years old {self.color}.\"\n",
        "\n",
        "pets1 = Pets('cat', '3', 'brown')\n",
        "pets2 = Pets('dog', '7', 'black')\n",
        "\n",
        "print(pets1)\n",
        "print(pets2)\n"
      ],
      "metadata": {
        "colab": {
          "base_uri": "https://localhost:8080/"
        },
        "id": "AyW1q6Q3CrWj",
        "outputId": "30726fa6-f9b7-4b78-f635-5c31fdd6eedc"
      },
      "execution_count": 20,
      "outputs": [
        {
          "output_type": "stream",
          "name": "stdout",
          "text": [
            "cat 3 years old brown.\n",
            "dog 7 years old black.\n"
          ]
        }
      ]
    },
    {
      "cell_type": "code",
      "source": [
        "#I did my class on pets that need to be cared for after an owner passes and becomes part of an estate"
      ],
      "metadata": {
        "id": "tD2KuccRD4SW"
      },
      "execution_count": null,
      "outputs": []
    }
  ]
}