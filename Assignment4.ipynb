{
  "nbformat": 4,
  "nbformat_minor": 0,
  "metadata": {
    "colab": {
      "provenance": [],
      "authorship_tag": "ABX9TyNN1HNEyQX81Xcst3NFxybh",
      "include_colab_link": true
    },
    "kernelspec": {
      "name": "python3",
      "display_name": "Python 3"
    },
    "language_info": {
      "name": "python"
    }
  },
  "cells": [
    {
      "cell_type": "markdown",
      "metadata": {
        "id": "view-in-github",
        "colab_type": "text"
      },
      "source": [
        "<a href=\"https://colab.research.google.com/github/lroy002/CSC221_lroy002/blob/main/Assignment4.ipynb\" target=\"_parent\"><img src=\"https://colab.research.google.com/assets/colab-badge.svg\" alt=\"Open In Colab\"/></a>"
      ]
    },
    {
      "cell_type": "code",
      "execution_count": null,
      "metadata": {
        "colab": {
          "base_uri": "https://localhost:8080/"
        },
        "id": "YYE8XrqPtpIv",
        "outputId": "6d050802-ad1a-4ede-aeec-31f819151855"
      },
      "outputs": [
        {
          "output_type": "stream",
          "name": "stdout",
          "text": [
            "['trek', 'cannondale', 'redline', 'redline', 'specialized']\n"
          ]
        }
      ],
      "source": [
        "bicycles = ['trek', 'cannondale', 'redline', 'redline', 'specialized']\n",
        "print(bicycles)"
      ]
    },
    {
      "cell_type": "code",
      "source": [
        "bicycles = ['trek', 'cannondale', 'redline', 'redline', 'specialized']\n",
        "print(bicycles [0])"
      ],
      "metadata": {
        "colab": {
          "base_uri": "https://localhost:8080/"
        },
        "id": "N-kYNZGxuQKY",
        "outputId": "996e6040-5230-4aa6-b9ed-50e3b8e89575"
      },
      "execution_count": null,
      "outputs": [
        {
          "output_type": "stream",
          "name": "stdout",
          "text": [
            "trek\n"
          ]
        }
      ]
    },
    {
      "cell_type": "code",
      "source": [
        "bicycles = ['trek', 'cannondale', 'redline', 'redline', 'specialized']\n",
        "print(bicycles[0].title())"
      ],
      "metadata": {
        "colab": {
          "base_uri": "https://localhost:8080/"
        },
        "id": "h9gmv5CeubPT",
        "outputId": "e5349013-5719-472d-d472-6702ba8263bf"
      },
      "execution_count": null,
      "outputs": [
        {
          "output_type": "stream",
          "name": "stdout",
          "text": [
            "Trek\n"
          ]
        }
      ]
    },
    {
      "cell_type": "code",
      "source": [
        "bicycles = ['trek', 'cannondale', 'redline', 'redline', 'specialized']\n",
        "print(bicycles[1])\n",
        "print(bicycles[3])"
      ],
      "metadata": {
        "colab": {
          "base_uri": "https://localhost:8080/"
        },
        "id": "yadvV2ukuscv",
        "outputId": "b04d7651-706a-462c-96a9-6e554725671e"
      },
      "execution_count": null,
      "outputs": [
        {
          "output_type": "stream",
          "name": "stdout",
          "text": [
            "cannondale\n",
            "redline\n"
          ]
        }
      ]
    },
    {
      "cell_type": "code",
      "source": [
        "bicycles = ['trek', 'cannondale', 'redline', 'redline', 'specialized']\n",
        "message = f\"My first bicycle was a {bicycles[0].title()}.\"\n",
        "print(message)"
      ],
      "metadata": {
        "colab": {
          "base_uri": "https://localhost:8080/"
        },
        "id": "rAKIwTrOu4ja",
        "outputId": "7d441e0b-1aad-470e-917a-7af15699423d"
      },
      "execution_count": null,
      "outputs": [
        {
          "output_type": "stream",
          "name": "stdout",
          "text": [
            "My first bicycle was a Trek.\n"
          ]
        }
      ]
    },
    {
      "cell_type": "code",
      "source": [
        "motorcycles = ['honda', 'yamaha', 'suzuki']\n",
        "print(motorcycles)\n",
        "\n",
        "motorcycles[0] = 'ducati'\n",
        "print(motorcycles)"
      ],
      "metadata": {
        "colab": {
          "base_uri": "https://localhost:8080/"
        },
        "id": "l2ZyYQH5vMYW",
        "outputId": "100821c8-a454-4709-f010-4e813092db2a"
      },
      "execution_count": null,
      "outputs": [
        {
          "output_type": "stream",
          "name": "stdout",
          "text": [
            "['honda', 'yamaha', 'suzuki']\n",
            "['ducati', 'yamaha', 'suzuki']\n"
          ]
        }
      ]
    },
    {
      "cell_type": "code",
      "source": [
        "motorcycles = []\n",
        "\n",
        "motorcycles.append('honda')\n",
        "motorcycles.append('yamaha')\n",
        "motorcycles.append('suzuki')\n",
        "\n",
        "print (motorcycles)"
      ],
      "metadata": {
        "colab": {
          "base_uri": "https://localhost:8080/"
        },
        "id": "TUIPdXrgvfwZ",
        "outputId": "2a65ba7e-ddb7-4f8f-926c-3a4160cbd369"
      },
      "execution_count": null,
      "outputs": [
        {
          "output_type": "stream",
          "name": "stdout",
          "text": [
            "['honda', 'yamaha', 'suzuki']\n"
          ]
        }
      ]
    },
    {
      "cell_type": "code",
      "source": [
        "motorcycles = ['honda', 'yamaha', 'suzuki']\n",
        "print(motorcycles)\n",
        "\n",
        "del motorcycles[0]\n",
        "print(motorcycles)"
      ],
      "metadata": {
        "colab": {
          "base_uri": "https://localhost:8080/"
        },
        "id": "0g6QT_qkvvZq",
        "outputId": "223d987d-6dc2-41ed-927f-9edd542c15a2"
      },
      "execution_count": null,
      "outputs": [
        {
          "output_type": "stream",
          "name": "stdout",
          "text": [
            "['honda', 'yamaha', 'suzuki']\n",
            "['yamaha', 'suzuki']\n"
          ]
        }
      ]
    },
    {
      "cell_type": "code",
      "source": [
        "motorcycles = ['honda', 'yamaha', 'suzuki']\n",
        "print(motorcycles)\n",
        "\n",
        "del motorcycles[1]\n",
        "print(motorcycles)"
      ],
      "metadata": {
        "colab": {
          "base_uri": "https://localhost:8080/"
        },
        "id": "0Ug8Qn63wO8T",
        "outputId": "1c901153-3238-4ce5-a702-b8e6b7ca87b7"
      },
      "execution_count": null,
      "outputs": [
        {
          "output_type": "stream",
          "name": "stdout",
          "text": [
            "['honda', 'yamaha', 'suzuki']\n",
            "['honda', 'suzuki']\n"
          ]
        }
      ]
    },
    {
      "cell_type": "code",
      "source": [
        "motorcycles = ['honda', 'yamaha', 'suzuki']\n",
        "print(motorcycles)\n",
        "\n",
        "popped_motorcycle = motorcycles.pop()\n",
        "print(motorcycles)\n",
        "print(popped_motorcycle)"
      ],
      "metadata": {
        "colab": {
          "base_uri": "https://localhost:8080/"
        },
        "id": "vVdBsvYNwjjc",
        "outputId": "3393400f-e732-47f8-937d-92e3c2e3ace0"
      },
      "execution_count": null,
      "outputs": [
        {
          "output_type": "stream",
          "name": "stdout",
          "text": [
            "['honda', 'yamaha', 'suzuki']\n",
            "['honda', 'yamaha']\n",
            "suzuki\n"
          ]
        }
      ]
    },
    {
      "cell_type": "code",
      "source": [
        "motorcycles = ['honda', 'yamaha', 'suzuki']\n",
        "\n",
        "last_owned = motorcycles.pop()\n",
        "print(f'The last motorcycle I rode was a {last_owned.title()}.')"
      ],
      "metadata": {
        "colab": {
          "base_uri": "https://localhost:8080/"
        },
        "id": "GwH7GITcw69x",
        "outputId": "f34bda75-9e6f-41e3-84af-41f3c6449efd"
      },
      "execution_count": null,
      "outputs": [
        {
          "output_type": "stream",
          "name": "stdout",
          "text": [
            "The last motorcycle I rode was a Suzuki.\n"
          ]
        }
      ]
    },
    {
      "cell_type": "code",
      "source": [
        "motorcycles = ['honda', 'yamaha', 'suzuki', 'ducati']\n",
        "print(motorcycles)\n",
        "\n",
        "too_expensive = 'ducati'\n",
        "motorcycles.remove(too_expensive)\n",
        "print(motorcycles)\n",
        "print(f\"\\nA {too_expensive.title()} is too expensive for me.\")"
      ],
      "metadata": {
        "colab": {
          "base_uri": "https://localhost:8080/"
        },
        "id": "pOPjptIoxHle",
        "outputId": "82bd2c63-6dbe-417f-cd92-f0a95bf82bbc"
      },
      "execution_count": null,
      "outputs": [
        {
          "output_type": "stream",
          "name": "stdout",
          "text": [
            "['honda', 'yamaha', 'suzuki', 'ducati']\n",
            "['honda', 'yamaha', 'suzuki']\n",
            "\n",
            "A Ducati is too expensive for me.\n"
          ]
        }
      ]
    },
    {
      "cell_type": "code",
      "source": [
        "cars = ['bmw', 'audi', 'toyota', 'subaru']\n",
        "cars.sort\n",
        "print(cars)"
      ],
      "metadata": {
        "colab": {
          "base_uri": "https://localhost:8080/"
        },
        "id": "7D5ejTu6x6fz",
        "outputId": "d8ef4a8a-a2f9-46af-ced4-439edd8121ba"
      },
      "execution_count": null,
      "outputs": [
        {
          "output_type": "stream",
          "name": "stdout",
          "text": [
            "['bmw', 'audi', 'toyota', 'subaru']\n"
          ]
        }
      ]
    },
    {
      "cell_type": "code",
      "source": [
        "cars = ['bmw', 'audi', 'toyota', 'subaru']\n",
        "cars.sort(reverse=True)\n",
        "print(cars)"
      ],
      "metadata": {
        "colab": {
          "base_uri": "https://localhost:8080/"
        },
        "id": "mYbTs98pyk2-",
        "outputId": "4037df68-ca3c-4edc-ed4d-f2e041f576f5"
      },
      "execution_count": null,
      "outputs": [
        {
          "output_type": "stream",
          "name": "stdout",
          "text": [
            "['toyota', 'subaru', 'bmw', 'audi']\n"
          ]
        }
      ]
    },
    {
      "cell_type": "code",
      "source": [
        "cars = ['bmw', 'audi', 'toyota', 'subaru']\n",
        "print (\"Here is the original list:\")\n",
        "print(cars)\n",
        "print(\"\\nHere is the sorted list:\")\n",
        "print(sorted(cars))\n",
        "print(\"\\nHere is the original list again:\")\n",
        "print(cars)"
      ],
      "metadata": {
        "colab": {
          "base_uri": "https://localhost:8080/"
        },
        "id": "U4xTgbkCysJx",
        "outputId": "88f770f7-6a52-4619-edd4-749754d87eab"
      },
      "execution_count": null,
      "outputs": [
        {
          "output_type": "stream",
          "name": "stdout",
          "text": [
            "Here is the original list:\n",
            "['bmw', 'audi', 'toyota', 'subaru']\n",
            "\n",
            "Here is the sorted list:\n",
            "['audi', 'bmw', 'subaru', 'toyota']\n",
            "\n",
            "Here is the original list again:\n",
            "['bmw', 'audi', 'toyota', 'subaru']\n"
          ]
        }
      ]
    },
    {
      "cell_type": "code",
      "source": [
        "cars = ['bmw', 'audi', 'toyota', 'subaru']\n",
        "print(cars)\n",
        "\n",
        "cars.reverse\n",
        "print(cars)"
      ],
      "metadata": {
        "colab": {
          "base_uri": "https://localhost:8080/"
        },
        "id": "sXprsFwAzPa2",
        "outputId": "1be8a13e-1c02-4c49-89e4-f63a17a224ab"
      },
      "execution_count": null,
      "outputs": [
        {
          "output_type": "stream",
          "name": "stdout",
          "text": [
            "['bmw', 'audi', 'toyota', 'subaru']\n",
            "['bmw', 'audi', 'toyota', 'subaru']\n"
          ]
        }
      ]
    },
    {
      "cell_type": "code",
      "source": [
        "motorcycles = ['honda', 'yamaha', 'suzuki']\n",
        "print(motorcycles[-1])"
      ],
      "metadata": {
        "colab": {
          "base_uri": "https://localhost:8080/"
        },
        "id": "xT_e7er3zX2p",
        "outputId": "007a5136-b010-481f-a5bb-da81d51dd5e4"
      },
      "execution_count": null,
      "outputs": [
        {
          "output_type": "stream",
          "name": "stdout",
          "text": [
            "suzuki\n"
          ]
        }
      ]
    },
    {
      "cell_type": "code",
      "source": [
        "# try it assignment starts here!"
      ],
      "metadata": {
        "id": "S7lOPiSJzjyk"
      },
      "execution_count": null,
      "outputs": []
    },
    {
      "cell_type": "code",
      "source": [
        "friends = ['Amelaine', 'Brighton', ['Saige'], ['Emily']]\n",
        "print(friends[0])"
      ],
      "metadata": {
        "colab": {
          "base_uri": "https://localhost:8080/"
        },
        "id": "asvscUujzy3y",
        "outputId": "53d29cea-408c-45a2-e991-41a30013012a"
      },
      "execution_count": null,
      "outputs": [
        {
          "output_type": "stream",
          "name": "stdout",
          "text": [
            "Amelaine\n"
          ]
        }
      ]
    },
    {
      "cell_type": "code",
      "source": [
        "friends = ['Amelaine', 'Brighton', ['Saige'], ['Emily']]\n",
        "print(friends[1])"
      ],
      "metadata": {
        "colab": {
          "base_uri": "https://localhost:8080/"
        },
        "id": "eua5h3fE0Ivt",
        "outputId": "a46a1a46-a9c8-4eb0-b09f-0d29c5db9b70"
      },
      "execution_count": null,
      "outputs": [
        {
          "output_type": "stream",
          "name": "stdout",
          "text": [
            "Brighton\n"
          ]
        }
      ]
    },
    {
      "cell_type": "code",
      "source": [
        "friends = ['Amelaine', 'Brighton', ['Saige'], ['Emily']]\n",
        "print(friends[2])"
      ],
      "metadata": {
        "colab": {
          "base_uri": "https://localhost:8080/"
        },
        "id": "rXGa7bEX0NFP",
        "outputId": "3431b261-592d-4692-953d-d4da92ffc0ac"
      },
      "execution_count": null,
      "outputs": [
        {
          "output_type": "stream",
          "name": "stdout",
          "text": [
            "['Saige']\n"
          ]
        }
      ]
    },
    {
      "cell_type": "code",
      "source": [
        "friends = ['Amelaine', 'Brighton', ['Saige'], ['Emily']]\n",
        "print(friends[3])"
      ],
      "metadata": {
        "colab": {
          "base_uri": "https://localhost:8080/"
        },
        "id": "61S59HEX0OV9",
        "outputId": "a43024a9-c9e7-4d6a-a064-3b130481f64e"
      },
      "execution_count": null,
      "outputs": [
        {
          "output_type": "stream",
          "name": "stdout",
          "text": [
            "['Emily']\n"
          ]
        }
      ]
    },
    {
      "cell_type": "code",
      "source": [
        "friends = ['Amelaine', 'Brighton', 'Saige', 'Emily']\n",
        "message = \"Hey, \" + friends[0].title() + \"!\"\n",
        "print(message)\n",
        "message = \"Hey, \" + friends[1].title() + \"!\"\n",
        "print(message)\n",
        "message = \"Hey, \" + friends[2].title() + \"!\"\n",
        "print(message)\n",
        "message = \"Hey, \" + friends[3].title() + \"!\"\n",
        "print(message)"
      ],
      "metadata": {
        "colab": {
          "base_uri": "https://localhost:8080/"
        },
        "id": "hX8IXUVy0PlW",
        "outputId": "bb097136-8dcb-4ab4-c003-eef11f95040c"
      },
      "execution_count": null,
      "outputs": [
        {
          "output_type": "stream",
          "name": "stdout",
          "text": [
            "Hey, Amelaine!\n",
            "Hey, Brighton!\n",
            "Hey, Saige!\n",
            "Hey, Emily!\n"
          ]
        }
      ]
    },
    {
      "cell_type": "code",
      "source": [
        "transportation = ['car', 'bike', 'scooter']\n",
        "message = \"I would love to one day own a new \" + transportation[0].title() + \".\"\n",
        "print(message)\n",
        "message = \"I would love to one day own a new \" + transportation[1].title() + \".\"\n",
        "print(message)\n",
        "message = \"I would love to one day own a new \" + transportation[2].title() + \".\"\n",
        "print(message)"
      ],
      "metadata": {
        "colab": {
          "base_uri": "https://localhost:8080/"
        },
        "id": "Sg9ELz4n1Rle",
        "outputId": "40e8eca8-a247-42fa-92da-801758a6353e"
      },
      "execution_count": null,
      "outputs": [
        {
          "output_type": "stream",
          "name": "stdout",
          "text": [
            "I would love to one day own a new Car.\n",
            "I would love to one day own a new Bike.\n",
            "I would love to one day own a new Scooter.\n"
          ]
        }
      ]
    },
    {
      "cell_type": "code",
      "source": [
        "guest = ['taylor swift', 'joe alwyn', 'selena gomez']\n",
        "name = guest[0].title()\n",
        "print(name + \", please meet me for dinner this Friday\")\n",
        "\n",
        "name = guest[1].title()\n",
        "print(name + \", please meet me for dinner this Friday\")\n",
        "\n",
        "name = guest[2].title()\n",
        "print(name + \", please meet me for dinner this Friday\")\n"
      ],
      "metadata": {
        "colab": {
          "base_uri": "https://localhost:8080/"
        },
        "id": "NUqLJytd31_U",
        "outputId": "d0b2f4a2-6d49-455d-a9ec-af44c297d1a9"
      },
      "execution_count": null,
      "outputs": [
        {
          "output_type": "stream",
          "name": "stdout",
          "text": [
            "Taylor Swift, please meet me for dinner this Friday\n",
            "Joe Alwyn, please meet me for dinner this Friday\n",
            "Selena Gomez, please meet me for dinner this Friday\n"
          ]
        }
      ]
    },
    {
      "cell_type": "code",
      "source": [
        "guest = ['taylor swift', 'joe alwyn', 'selena gomez']\n",
        "name = guest[0].title()\n",
        "print(name + \", please meet me for dinner this Friday\")\n",
        "\n",
        "name = guest[1].title()\n",
        "print(name + \", please meet me for dinner this Friday\")\n",
        "\n",
        "name = guest[2].title()\n",
        "print(name + \", please meet me for dinner this Friday\")\n",
        "\n",
        "name = guest[1].title()\n",
        "print(name + \" will not be at dinner this Friday\" )\n",
        "\n",
        "\n",
        "guest = ['taylor swift', 'Abigail Anderson', 'selena gomez']\n",
        "name = guest[0].title()\n",
        "print(name + \", please meet me for dinner this Friday\")\n",
        "\n",
        "name = guest[1].title()\n",
        "print(name + \", please meet me for dinner this Friday\")\n",
        "\n",
        "name = guest[2].title()\n",
        "print(name + \", please meet me for dinner this Friday\")"
      ],
      "metadata": {
        "colab": {
          "base_uri": "https://localhost:8080/"
        },
        "id": "Pp47ruzt5RVU",
        "outputId": "37c38dda-f7d7-4dab-8876-dc030c9f1894"
      },
      "execution_count": null,
      "outputs": [
        {
          "output_type": "stream",
          "name": "stdout",
          "text": [
            "Taylor Swift, please meet me for dinner this Friday\n",
            "Joe Alwyn, please meet me for dinner this Friday\n",
            "Selena Gomez, please meet me for dinner this Friday\n",
            "Joe Alwyn will not be at dinner this Friday\n",
            "Taylor Swift, please meet me for dinner this Friday\n",
            "Abigail Anderson, please meet me for dinner this Friday\n",
            "Selena Gomez, please meet me for dinner this Friday\n"
          ]
        }
      ]
    },
    {
      "cell_type": "code",
      "source": [
        "guest = ['taylor swift', 'joe alwyn', 'selena gomez']\n",
        "name = guest[0].title()\n",
        "print(name + \", please meet me for dinner this Friday\")\n",
        "\n",
        "name = guest[1].title()\n",
        "print(name + \", please meet me for dinner this Friday\")\n",
        "\n",
        "name = guest[2].title()\n",
        "print(name + \", please meet me for dinner this Friday\")\n",
        "\n",
        "name = guest[1].title()\n",
        "print(name + \" will not be at dinner this Friday\" )\n",
        "\n",
        "\n",
        "guest = ['taylor swift', 'Abigail Anderson', 'selena gomez']\n",
        "name = guest[0].title()\n",
        "print(name + \", please meet me for dinner this Friday\")\n",
        "\n",
        "name = guest[1].title()\n",
        "print(name + \", please meet me for dinner this Friday\")\n",
        "\n",
        "name = guest[2].title()\n",
        "print(name + \", please meet me for dinner this Friday\")\n",
        "\n",
        "print(\"I have found a bigger table for Friday night \")\n",
        "\n",
        "guest.insert(3, 'Gigi Hadid')\n",
        "guest.insert(4, 'Martha Hunt')\n",
        "guest.insert(5, 'Emma Stone')\n",
        "\n",
        "name = guest[0].title()\n",
        "print(name + \", please meet me for dinner this Friday\")\n",
        "\n",
        "name = guest[1].title()\n",
        "print(name + \", please meet me for dinner this Friday\")\n",
        "\n",
        "name = guest[2].title()\n",
        "print(name + \", please meet me for dinner this Friday\")\n",
        "name = guest[3].title()\n",
        "print(name + \", please meet me for dinner this Friday\")\n",
        "\n",
        "name = guest[4].title()\n",
        "print(name + \", please meet me for dinner this Friday\")\n",
        "\n",
        "name = guest[5].title()\n",
        "print(name + \", please meet me for dinner this Friday\")\n"
      ],
      "metadata": {
        "colab": {
          "base_uri": "https://localhost:8080/"
        },
        "id": "WzvFDwzF5_SQ",
        "outputId": "64983982-59f3-4de7-c265-9bbf992a2e74"
      },
      "execution_count": null,
      "outputs": [
        {
          "output_type": "stream",
          "name": "stdout",
          "text": [
            "Taylor Swift, please meet me for dinner this Friday\n",
            "Joe Alwyn, please meet me for dinner this Friday\n",
            "Selena Gomez, please meet me for dinner this Friday\n",
            "Joe Alwyn will not be at dinner this Friday\n",
            "Taylor Swift, please meet me for dinner this Friday\n",
            "Abigail Anderson, please meet me for dinner this Friday\n",
            "Selena Gomez, please meet me for dinner this Friday\n",
            "I have found a bigger table for Friday night \n",
            "Taylor Swift, please meet me for dinner this Friday\n",
            "Abigail Anderson, please meet me for dinner this Friday\n",
            "Selena Gomez, please meet me for dinner this Friday\n",
            "Gigi Hadid, please meet me for dinner this Friday\n",
            "Martha Hunt, please meet me for dinner this Friday\n",
            "Emma Stone, please meet me for dinner this Friday\n"
          ]
        }
      ]
    },
    {
      "cell_type": "code",
      "source": [
        "guest = ['taylor swift', 'joe alwyn', 'selena gomez']\n",
        "name = guest[0].title()\n",
        "print(name + \", please meet me for dinner this Friday\")\n",
        "\n",
        "name = guest[1].title()\n",
        "print(name + \", please meet me for dinner this Friday\")\n",
        "\n",
        "name = guest[2].title()\n",
        "print(name + \", please meet me for dinner this Friday\")\n",
        "\n",
        "name = guest[1].title()\n",
        "print(name + \" will not be at dinner this Friday\" )\n",
        "\n",
        "\n",
        "guest = ['taylor swift', 'Abigail Anderson', 'selena gomez']\n",
        "name = guest[0].title()\n",
        "print(name + \", please meet me for dinner this Friday\")\n",
        "\n",
        "name = guest[1].title()\n",
        "print(name + \", please meet me for dinner this Friday\")\n",
        "\n",
        "name = guest[2].title()\n",
        "print(name + \", please meet me for dinner this Friday\")\n",
        "\n",
        "print(\"I have found a bigger table for Friday night \")\n",
        "\n",
        "guest.insert(3, 'Gigi Hadid')\n",
        "guest.insert(4, 'Martha Hunt')\n",
        "guest.insert(5, 'Emma Stone')\n",
        "\n",
        "name = guest[0].title()\n",
        "print(name + \", please meet me for dinner this Friday\")\n",
        "\n",
        "name = guest[1].title()\n",
        "print(name + \", please meet me for dinner this Friday\")\n",
        "\n",
        "name = guest[2].title()\n",
        "print(name + \", please meet me for dinner this Friday\")\n",
        "name = guest[3].title()\n",
        "print(name + \", please meet me for dinner this Friday\")\n",
        "\n",
        "name = guest[4].title()\n",
        "print(name + \", please meet me for dinner this Friday\")\n",
        "\n",
        "name = guest[5].title()\n",
        "print(name + \", please meet me for dinner this Friday\")\n",
        "\n",
        "print(\"Oh no, theres only room for two guests\")\n",
        "\n",
        "name = guest.pop()\n",
        "print(\"So sorry, \" + name.title() + \"there is not enough room at the table\")\n",
        "\n",
        "name = guest.pop()\n",
        "print(\"So sorry, \" + name.title() + \"there is not enough room at the table\")\n",
        "\n",
        "name = guest.pop()\n",
        "print(\"So sorry, \" + name.title() + \"there is not enough room at the table\")\n",
        "\n",
        "name = guest.pop()\n",
        "print(\"So sorry,  \" + name.title() + \"there is not enough room at the table\")\n",
        "\n",
        "name = guest[0].title()\n",
        "print(name + \", please meet me for dinner this Friday\")\n",
        "\n",
        "name = guest[1].title()\n",
        "print(name + \", please meet me for dinner this Friday\")\n",
        "\n",
        "del(guest[0])\n",
        "del(guest[0])\n",
        "print(guest)\n"
      ],
      "metadata": {
        "colab": {
          "base_uri": "https://localhost:8080/"
        },
        "id": "eXJICyLp6UOa",
        "outputId": "33a73cc7-1684-4301-a491-4ad1c1b0f544"
      },
      "execution_count": null,
      "outputs": [
        {
          "output_type": "stream",
          "name": "stdout",
          "text": [
            "Taylor Swift, please meet me for dinner this Friday\n",
            "Joe Alwyn, please meet me for dinner this Friday\n",
            "Selena Gomez, please meet me for dinner this Friday\n",
            "Joe Alwyn will not be at dinner this Friday\n",
            "Taylor Swift, please meet me for dinner this Friday\n",
            "Abigail Anderson, please meet me for dinner this Friday\n",
            "Selena Gomez, please meet me for dinner this Friday\n",
            "I have found a bigger table for Friday night \n",
            "Taylor Swift, please meet me for dinner this Friday\n",
            "Abigail Anderson, please meet me for dinner this Friday\n",
            "Selena Gomez, please meet me for dinner this Friday\n",
            "Gigi Hadid, please meet me for dinner this Friday\n",
            "Martha Hunt, please meet me for dinner this Friday\n",
            "Emma Stone, please meet me for dinner this Friday\n",
            "Oh no, theres only room for two guests\n",
            "So sorry, Emma Stonethere is not enough room at the table\n",
            "So sorry, Martha Huntthere is not enough room at the table\n",
            "So sorry, Gigi Hadidthere is not enough room at the table\n",
            "So sorry,  Selena Gomezthere is not enough room at the table\n",
            "Taylor Swift, please meet me for dinner this Friday\n",
            "Abigail Anderson, please meet me for dinner this Friday\n",
            "[]\n"
          ]
        }
      ]
    },
    {
      "cell_type": "code",
      "source": [
        "travel = ['Hawaii', 'Greece', 'Alaska', 'Puerto Rico', 'Iceland']\n",
        "print(travel)\n",
        "\n",
        "print(\"\\nAlphabetical:\")\n",
        "print(sorted(travel))\n",
        "\n",
        "print(\"\\nOriginal order:\")\n",
        "print(travel)\n",
        "\n",
        "print(\"\\nReverse alphabetical:\")\n",
        "print(sorted(travel, reverse = True))\n",
        "\n",
        "print(\"\\nOriginal order:\")\n",
        "print(travel)\n",
        "\n",
        "print(\"\\nReversed:\")\n",
        "travel.reverse()\n",
        "print(travel)\n",
        "\n",
        "print(\"\\nOriginal order:\")\n",
        "travel.reverse()\n",
        "print(travel)\n",
        "\n",
        "print(\"\\nAlphabetical:\")\n",
        "travel.sort()\n",
        "print(travel)\n",
        "\n",
        "print(\"\\nReverse alphabetical:\")\n",
        "travel.sort(reverse = True)\n",
        "print (travel)\n"
      ],
      "metadata": {
        "colab": {
          "base_uri": "https://localhost:8080/"
        },
        "id": "_N019ufn8_NN",
        "outputId": "79973709-ad2b-4485-d62e-158f1f14f2e9"
      },
      "execution_count": null,
      "outputs": [
        {
          "output_type": "stream",
          "name": "stdout",
          "text": [
            "['Hawaii', 'Greece', 'Alaska', 'Puerto Rico', 'Iceland']\n",
            "\n",
            "Alphabetical:\n",
            "['Alaska', 'Greece', 'Hawaii', 'Iceland', 'Puerto Rico']\n",
            "\n",
            "Original order:\n",
            "['Hawaii', 'Greece', 'Alaska', 'Puerto Rico', 'Iceland']\n",
            "\n",
            "Reverse alphabetical:\n",
            "['Puerto Rico', 'Iceland', 'Hawaii', 'Greece', 'Alaska']\n",
            "\n",
            "Original order:\n",
            "['Hawaii', 'Greece', 'Alaska', 'Puerto Rico', 'Iceland']\n",
            "\n",
            "Reversed:\n",
            "['Iceland', 'Puerto Rico', 'Alaska', 'Greece', 'Hawaii']\n",
            "\n",
            "Original order:\n",
            "['Hawaii', 'Greece', 'Alaska', 'Puerto Rico', 'Iceland']\n",
            "\n",
            "Alphabetical:\n",
            "['Alaska', 'Greece', 'Hawaii', 'Iceland', 'Puerto Rico']\n",
            "\n",
            "Reverse alphabetical:\n",
            "['Puerto Rico', 'Iceland', 'Hawaii', 'Greece', 'Alaska']\n"
          ]
        }
      ]
    },
    {
      "cell_type": "code",
      "source": [
        "guest = ['taylor swift', 'joe alwyn', 'selena gomez']\n",
        "name = guest[0].title()\n",
        "print(name + \", please meet me for dinner this Friday\")\n",
        "\n",
        "name = guest[1].title()\n",
        "print(name + \", please meet me for dinner this Friday\")\n",
        "\n",
        "name = guest[2].title()\n",
        "print(name + \", please meet me for dinner this Friday\")\n",
        "\n",
        "len(guest)"
      ],
      "metadata": {
        "colab": {
          "base_uri": "https://localhost:8080/"
        },
        "id": "umkD5zs8_4a1",
        "outputId": "b53cda19-51a7-4375-d580-d4834235d717"
      },
      "execution_count": null,
      "outputs": [
        {
          "output_type": "stream",
          "name": "stdout",
          "text": [
            "Taylor Swift, please meet me for dinner this Friday\n",
            "Joe Alwyn, please meet me for dinner this Friday\n",
            "Selena Gomez, please meet me for dinner this Friday\n"
          ]
        },
        {
          "output_type": "execute_result",
          "data": {
            "text/plain": [
              "3"
            ]
          },
          "metadata": {},
          "execution_count": 93
        }
      ]
    },
    {
      "cell_type": "code",
      "source": [
        "cats = ['Penny', 'Gidget', 'Blu', 'Shy', 'Spinach']\n",
        "print(cats)\n",
        "#sorting my alphabetical/reversed\n",
        "print(\"\\nAlphabetical:\")\n",
        "print(sorted(cats))\n",
        "\n",
        "print(\"\\nReverse alphabetical:\")\n",
        "print(sorted(cats, reverse = True))\n",
        "#switching to message\n",
        "name = cats[0].title()\n",
        "print(name + \", you are a very special cat\")\n",
        "name = cats[1].title()\n",
        "print(name + \", you are a very special cat\")\n",
        "name = cats[2].title()\n",
        "print(name + \", you are a very special cat\")\n",
        "name = cats[3].title()\n",
        "print(name + \", you are a very special cat\")\n",
        "name = cats[4].title()\n",
        "print(name + \", you are a very special cat\")\n",
        "\n",
        "\n",
        "\n"
      ],
      "metadata": {
        "colab": {
          "base_uri": "https://localhost:8080/"
        },
        "id": "9e4MYonDC4NX",
        "outputId": "10825f45-526c-4a55-ee1c-4f4a7807fa24"
      },
      "execution_count": null,
      "outputs": [
        {
          "output_type": "stream",
          "name": "stdout",
          "text": [
            "['Penny', 'Gidget', 'Blu', 'Shy', 'Spinach']\n",
            "\n",
            "Alphabetical:\n",
            "['Blu', 'Gidget', 'Penny', 'Shy', 'Spinach']\n",
            "\n",
            "Reverse alphabetical:\n",
            "['Spinach', 'Shy', 'Penny', 'Gidget', 'Blu']\n",
            "Penny, you are a very special cat\n",
            "Gidget, you are a very special cat\n",
            "Blu, you are a very special cat\n",
            "Shy, you are a very special cat\n",
            "Spinach, you are a very special cat\n"
          ]
        }
      ]
    },
    {
      "cell_type": "code",
      "source": [
        "for number in range(60, 86):\n",
        "    if number % 7 == 0:\n",
        "        print(number ** 3)"
      ],
      "metadata": {
        "colab": {
          "base_uri": "https://localhost:8080/"
        },
        "id": "t7_HNR6VDO49",
        "outputId": "2f657a2b-eb52-4000-d3f5-f0e5d0830626"
      },
      "execution_count": 1,
      "outputs": [
        {
          "output_type": "stream",
          "name": "stdout",
          "text": [
            "250047\n",
            "343000\n",
            "456533\n",
            "592704\n"
          ]
        }
      ]
    },
    {
      "cell_type": "code",
      "source": [
        "x_values = [40, 50, 120, -8, 6]\n",
        "for x in x_values:\n",
        "    y = 7.4 * x + 51\n",
        "    print(f\"y = 7.4*{x} + 51: {y}\")"
      ],
      "metadata": {
        "colab": {
          "base_uri": "https://localhost:8080/"
        },
        "id": "57G6Zh4hGsmh",
        "outputId": "61539c63-dec7-43e5-97a3-6aa5f460ff6e"
      },
      "execution_count": 2,
      "outputs": [
        {
          "output_type": "stream",
          "name": "stdout",
          "text": [
            "y = 7.4*40 + 51: 347.0\n",
            "y = 7.4*50 + 51: 421.0\n",
            "y = 7.4*120 + 51: 939.0\n",
            "y = 7.4*-8 + 51: -8.200000000000003\n",
            "y = 7.4*6 + 51: 95.4\n"
          ]
        }
      ]
    },
    {
      "cell_type": "code",
      "source": [],
      "metadata": {
        "id": "brBg6E9rHSpr"
      },
      "execution_count": null,
      "outputs": []
    }
  ]
}