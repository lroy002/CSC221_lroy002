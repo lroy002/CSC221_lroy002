{
  "nbformat": 4,
  "nbformat_minor": 0,
  "metadata": {
    "colab": {
      "provenance": [],
      "authorship_tag": "ABX9TyMa47arN1Xou11J/TysOprb",
      "include_colab_link": true
    },
    "kernelspec": {
      "name": "python3",
      "display_name": "Python 3"
    },
    "language_info": {
      "name": "python"
    }
  },
  "cells": [
    {
      "cell_type": "markdown",
      "metadata": {
        "id": "view-in-github",
        "colab_type": "text"
      },
      "source": [
        "<a href=\"https://colab.research.google.com/github/lroy002/CSC221_lroy002/blob/main/Assignment9.ipynb\" target=\"_parent\"><img src=\"https://colab.research.google.com/assets/colab-badge.svg\" alt=\"Open In Colab\"/></a>"
      ]
    },
    {
      "cell_type": "markdown",
      "source": [
        "Lily Roy\n",
        "Assignment 9"
      ],
      "metadata": {
        "id": "f_zarOtPquN0"
      }
    },
    {
      "cell_type": "code",
      "execution_count": null,
      "metadata": {
        "id": "hzQrIY4Ywp8j"
      },
      "outputs": [],
      "source": [
        "def favorite_book(title):\n",
        "  print(\"One of my favorite books is called\" + title + \".\")\n",
        "\n",
        "favorite_book = (\"Unbroken\")"
      ]
    },
    {
      "cell_type": "code",
      "source": [
        "def make_shirt(size, text):\n",
        "  print(\"\\nI will make a shirt that is a size \" + size + \"!\")\n",
        "  print(\"It will say \" + text + \".\")\n",
        "\n",
        "make_shirt('medium', 'Cats are cool')\n",
        "make_shirt(text=\"SUNY Plattsbugh\", size=\"small\")\n"
      ],
      "metadata": {
        "colab": {
          "base_uri": "https://localhost:8080/"
        },
        "id": "cquRArzY23Xk",
        "outputId": "9905c3f7-4f8f-47d9-b983-cf7f6fafa17a"
      },
      "execution_count": null,
      "outputs": [
        {
          "output_type": "stream",
          "name": "stdout",
          "text": [
            "\n",
            "I will make a shirt that is a size medium!\n",
            "It will say Cats are cool.\n",
            "\n",
            "I will make a shirt that is a size small!\n",
            "It will say SUNY Plattsbugh.\n"
          ]
        }
      ]
    },
    {
      "cell_type": "code",
      "source": [
        "def make_shirt(size='large', text= 'I love Python'):\n",
        "  print(\"\\nI will make a shirt that is a size \" + size + \"!\")\n",
        "  print(\"It will say \" + text + \".\")\n",
        "\n",
        "make_shirt()\n",
        "make_shirt(size=\"medium\", text=\"Cats are cool\")\n",
        "make_shirt(size=\"small\", text=\"I love college\")\n"
      ],
      "metadata": {
        "colab": {
          "base_uri": "https://localhost:8080/"
        },
        "id": "rl5tHRIi5Azg",
        "outputId": "07c00446-8afc-49a9-8870-ca2715d1c8d4"
      },
      "execution_count": null,
      "outputs": [
        {
          "output_type": "stream",
          "name": "stdout",
          "text": [
            "\n",
            "I will make a shirt that is a size large!\n",
            "It will say I love Python.\n",
            "\n",
            "I will make a shirt that is a size medium!\n",
            "It will say Cats are cool.\n",
            "\n",
            "I will make a shirt that is a size small!\n",
            "It will say I love college.\n"
          ]
        }
      ]
    },
    {
      "cell_type": "code",
      "source": [
        "def make_car(manufacturer, model, **options):\n",
        "  car_details={\n",
        "      'Manufacturer': manufacturer.title(),\n",
        "      'model': model.title(),\n",
        "      }\n",
        "  for option, value in options.items():\n",
        "    car_details[option] = value\n",
        "\n",
        "  return car_details\n",
        "\n",
        "car = make_car('Toyota', 'Camry', color='Grey', new_car=False )\n",
        "print(make_car)\n",
        "\n"
      ],
      "metadata": {
        "colab": {
          "base_uri": "https://localhost:8080/"
        },
        "id": "cqdeNXCh5qtj",
        "outputId": "576a3e47-7c6a-48fb-cd04-a5ba57603364"
      },
      "execution_count": null,
      "outputs": [
        {
          "output_type": "stream",
          "name": "stdout",
          "text": [
            "<function make_car at 0x7ecb4f407d90>\n"
          ]
        }
      ]
    },
    {
      "cell_type": "code",
      "source": [
        "import math\n",
        "def sum_and_sort(num1, num2=math.pi):\n",
        "  numbers = [num1, num2]\n",
        "  result_sum =sum(numbers)\n",
        "  sorted_numbers = sorted(numbers)\n",
        "  return result_sum, sorted_numbers\n",
        "\n",
        "  if verbose:\n",
        "    print(f\"parameters:num1{num1}, num2{num2}, verbose{verbose}\")\n",
        "    print(f\"result:sum={result_sum}, sorted numbers{sorted_numbers}\")\n",
        "\n",
        "result1 = sum_and_sort(2,1)\n",
        "result2 = sum_and_sort(4,5)\n",
        "result3 = sum_and_sort(7,9)\n",
        "result4 = sum_and_sort(3)\n",
        "\n",
        "\n",
        "print(\"Test 1:\", result1)\n",
        "print(\"Test 2:\", result2)\n",
        "print(\"Test 3:\", result3)\n",
        "print(\"Test 4:\", result4)\n",
        "\n",
        "\n"
      ],
      "metadata": {
        "colab": {
          "base_uri": "https://localhost:8080/"
        },
        "id": "Gq-Bz9Mo8RZK",
        "outputId": "e6d70903-a84f-464f-ecc0-ef9452eed1b5"
      },
      "execution_count": null,
      "outputs": [
        {
          "output_type": "stream",
          "name": "stdout",
          "text": [
            "Test 1: (3, [1, 2])\n",
            "Test 2: (9, [4, 5])\n",
            "Test 3: (16, [7, 9])\n",
            "Test 4: (6.141592653589793, [3, 3.141592653589793])\n"
          ]
        }
      ]
    },
    {
      "cell_type": "code",
      "source": [
        "import math\n",
        "def sum_and_sort(num1, num2=math.pi, verbose=False):\n",
        "  numbers = [num1, num2]\n",
        "  result_sum =sum(numbers)\n",
        "  sorted_numbers = sorted(numbers)\n",
        "\n",
        "  if verbose:\n",
        "    print(f\"parameters:num1{num1}, num2{num2}, verbose{verbose}\")\n",
        "    print(f\"result:sum={result_sum}, sorted numbers{sorted_numbers}\")\n",
        "\n",
        "  return result_sum, sorted_numbers\n",
        "\n",
        "result1 = sum_and_sort(2,1, verbose=True)\n",
        "result2 = sum_and_sort(4,5, verbose=False)\n",
        "result3 = sum_and_sort(7,9, verbose=True)\n",
        "result4 = sum_and_sort(3, verbose=False)\n",
        "\n",
        "\n",
        "print(\"Test 1:\", result1)\n",
        "print(\"Test 2:\", result2)\n",
        "print(\"Test 3:\", result3)\n",
        "print(\"Test 4:\", result4)\n",
        "\n",
        "\n"
      ],
      "metadata": {
        "colab": {
          "base_uri": "https://localhost:8080/"
        },
        "id": "BMuglmhgCSBu",
        "outputId": "20329aae-f176-4c2a-c32d-c66c65300a8b"
      },
      "execution_count": null,
      "outputs": [
        {
          "output_type": "stream",
          "name": "stdout",
          "text": [
            "parameters:num12, num21, verboseTrue\n",
            "result:sum=3, sorted numbers[1, 2]\n",
            "parameters:num17, num29, verboseTrue\n",
            "result:sum=16, sorted numbers[7, 9]\n",
            "Test 1: (3, [1, 2])\n",
            "Test 2: (9, [4, 5])\n",
            "Test 3: (16, [7, 9])\n",
            "Test 4: (6.141592653589793, [3, 3.141592653589793])\n"
          ]
        }
      ]
    },
    {
      "cell_type": "code",
      "source": [],
      "metadata": {
        "id": "uEvLx1H9EC03"
      },
      "execution_count": null,
      "outputs": []
    }
  ]
}