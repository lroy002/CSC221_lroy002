{
  "nbformat": 4,
  "nbformat_minor": 0,
  "metadata": {
    "colab": {
      "provenance": [],
      "authorship_tag": "ABX9TyOKzHIjHKKRvvBZ4CmhLcWA",
      "include_colab_link": true
    },
    "kernelspec": {
      "name": "python3",
      "display_name": "Python 3"
    },
    "language_info": {
      "name": "python"
    }
  },
  "cells": [
    {
      "cell_type": "markdown",
      "metadata": {
        "id": "view-in-github",
        "colab_type": "text"
      },
      "source": [
        "<a href=\"https://colab.research.google.com/github/lroy002/CSC221_lroy002/blob/main/Assignment23_25.ipynb\" target=\"_parent\"><img src=\"https://colab.research.google.com/assets/colab-badge.svg\" alt=\"Open In Colab\"/></a>"
      ]
    },
    {
      "cell_type": "markdown",
      "source": [
        "Lily Roy\n",
        "Assignment 23-25"
      ],
      "metadata": {
        "id": "G-ffKWplezGw"
      }
    },
    {
      "cell_type": "code",
      "execution_count": 4,
      "metadata": {
        "colab": {
          "base_uri": "https://localhost:8080/"
        },
        "id": "Q5yRhDorXju6",
        "outputId": "3188d94b-ccc8-4f5b-d529-3fa2a4eea9bb"
      },
      "outputs": [
        {
          "output_type": "stream",
          "name": "stdout",
          "text": [
            "Test (8 + 2): 10\n"
          ]
        }
      ],
      "source": [
        "def func(a, b):\n",
        "    return a + b\n",
        "\n",
        "result1 = func(8, 2)\n",
        "print(\"Test (8 + 2):\", result1)"
      ]
    },
    {
      "cell_type": "code",
      "source": [
        "def func(*s):\n",
        "    return sum(s)\n",
        "result1 = func(10, 23, 35)\n",
        "print(\"Test 1 (10 + 23 + 35):\", result1)"
      ],
      "metadata": {
        "colab": {
          "base_uri": "https://localhost:8080/"
        },
        "id": "qrE60HL1YTkh",
        "outputId": "5225c804-14b2-4f19-a549-f256d53efe34"
      },
      "execution_count": 5,
      "outputs": [
        {
          "output_type": "stream",
          "name": "stdout",
          "text": [
            "Test 1 (10 + 23 + 35): 68\n"
          ]
        }
      ]
    },
    {
      "cell_type": "code",
      "source": [
        "def func(**kwargs):\n",
        "    return kwargs\n",
        "result1 = func(name=\"Lily\", age=21)\n",
        "print(\"Testing:\", result1)"
      ],
      "metadata": {
        "colab": {
          "base_uri": "https://localhost:8080/"
        },
        "id": "s6WcTdiUY2sh",
        "outputId": "1a264b9b-87e8-425a-f2f9-6c11d51d1d31"
      },
      "execution_count": 7,
      "outputs": [
        {
          "output_type": "stream",
          "name": "stdout",
          "text": [
            "Testing: {'name': 'Lily', 'age': 21}\n"
          ]
        }
      ]
    },
    {
      "cell_type": "code",
      "source": [
        "def func(*args, **kwargs):\n",
        "    operator = kwargs.get('operator', '+')\n",
        "\n",
        "    result = 0\n",
        "\n",
        "    if operator == '+':\n",
        "        for arg in args:\n",
        "            result += arg\n",
        "    elif operator == '-':\n",
        "        for arg in args:\n",
        "            result -= arg\n",
        "    else:\n",
        "        raise ValueError(\"Invalid operator. Use '+' or '-'.\")\n",
        "\n",
        "    return result\n",
        "\n",
        "result1 = func(5, 6, 7, 8, operator='+')\n",
        "print(\"Test (5 + 6 + 7 + 8):\", result1)"
      ],
      "metadata": {
        "colab": {
          "base_uri": "https://localhost:8080/"
        },
        "id": "5mJOyViYZPVl",
        "outputId": "c0f51eee-c83b-4024-926a-8588e1bd3d7f"
      },
      "execution_count": 10,
      "outputs": [
        {
          "output_type": "stream",
          "name": "stdout",
          "text": [
            "Test (5 + 6 + 7 + 8): 26\n"
          ]
        }
      ]
    },
    {
      "cell_type": "code",
      "source": [
        "global_variable = 23\n",
        "\n",
        "def modify_global():\n",
        "    global global_variable\n",
        "    global_variable += 2\n",
        "\n",
        "print(\"Initial value of global_variable:\", global_variable)\n",
        "\n",
        "modify_global()\n",
        "\n",
        "print(\"Value of global_variable after modify_global():\", global_variable)"
      ],
      "metadata": {
        "colab": {
          "base_uri": "https://localhost:8080/"
        },
        "id": "XqR5qxjMZ1lc",
        "outputId": "0ee99a3d-866e-4795-f0a0-856d5f0d82ee"
      },
      "execution_count": 12,
      "outputs": [
        {
          "output_type": "stream",
          "name": "stdout",
          "text": [
            "Initial value of global_variable: 23\n",
            "Value of global_variable after modify_global(): 25\n"
          ]
        }
      ]
    },
    {
      "cell_type": "code",
      "source": [
        "count_vowels = lambda word: sum(1 for char in word if char.lower() in 'aeiou')\n",
        "\n",
        "words = [\"cat\", \"dog\", \"fish\", \"rabbit\", \"rat\"]\n",
        "\n",
        "sorted_words = sorted(words, key=count_vowels)\n",
        "\n",
        "print(sorted_words)"
      ],
      "metadata": {
        "colab": {
          "base_uri": "https://localhost:8080/"
        },
        "id": "HZvNTXm0afqU",
        "outputId": "57624a1b-fd1b-4aba-f331-6440019d724c"
      },
      "execution_count": 13,
      "outputs": [
        {
          "output_type": "stream",
          "name": "stdout",
          "text": [
            "['cat', 'dog', 'fish', 'rat', 'rabbit']\n"
          ]
        }
      ]
    },
    {
      "cell_type": "code",
      "source": [
        "import functools\n",
        "\n",
        "def logger(func):\n",
        "    @functools.wraps(func)\n",
        "    def wrapper(*args, **kwargs):\n",
        "        result = func(*args, **kwargs)\n",
        "        with open(\"log.txt\", \"a\") as log_file:\n",
        "            log_file.write(f\"Function: {func.__name__}\\n\")\n",
        "            log_file.write(f\"Arguments: args={args}, kwargs={kwargs}\\n\")\n",
        "            log_file.write(f\"Return Value: {result}\\n\\n\")\n",
        "        return result\n",
        "    return wrapper\n",
        "\n",
        "@logger\n",
        "def func(*args, **kwargs):\n",
        "    operator = kwargs.get('operator', '+')\n",
        "    result = 0\n",
        "    if operator == '+':\n",
        "        for arg in args:\n",
        "            result += arg\n",
        "    elif operator == '-':\n",
        "        for arg in args:\n",
        "            result -= arg\n",
        "    else:\n",
        "        raise ValueError(\"Invalid operator. Use '+' or '-'.\")\n",
        "    return result\n",
        "\n",
        "func(1, 2, 3, 4, operator='+')\n",
        "func(10, 5, 3, operator='-')\n"
      ],
      "metadata": {
        "colab": {
          "base_uri": "https://localhost:8080/"
        },
        "id": "KwHoTx7hbLlx",
        "outputId": "57b07a83-4886-4731-fc3f-05d57efef547"
      },
      "execution_count": 25,
      "outputs": [
        {
          "output_type": "execute_result",
          "data": {
            "text/plain": [
              "-18"
            ]
          },
          "metadata": {},
          "execution_count": 25
        }
      ]
    },
    {
      "cell_type": "code",
      "source": [
        "#8\n",
        "def square(num):\n",
        "    return num ** 2\n",
        "\n",
        "numbers = [1, 7, 9, 5, 8]\n",
        "\n",
        "squared_numbers = map(square, numbers)\n",
        "\n",
        "squared_numbers_list = list(squared_numbers)\n",
        "print(\"Squared Numbers:\", squared_numbers_list)"
      ],
      "metadata": {
        "colab": {
          "base_uri": "https://localhost:8080/"
        },
        "id": "Ph6ctSrXb3Fj",
        "outputId": "484a8c74-d756-454e-b7d3-d17a51760049"
      },
      "execution_count": 27,
      "outputs": [
        {
          "output_type": "stream",
          "name": "stdout",
          "text": [
            "Squared Numbers: [1, 49, 81, 25, 64]\n"
          ]
        }
      ]
    },
    {
      "cell_type": "code",
      "source": [
        "#8\n",
        "def is_even(num):\n",
        "    return num % 2 == 0\n",
        "\n",
        "even_numbers = filter(is_even, numbers)\n",
        "\n",
        "even_numbers_list = list(even_numbers)\n",
        "print(\"Even Numbers:\", even_numbers_list)"
      ],
      "metadata": {
        "colab": {
          "base_uri": "https://localhost:8080/"
        },
        "id": "-qj7XPeedzqp",
        "outputId": "f6e9a22e-9153-4cff-a22a-cda0726b6ed1"
      },
      "execution_count": 28,
      "outputs": [
        {
          "output_type": "stream",
          "name": "stdout",
          "text": [
            "Even Numbers: [8]\n"
          ]
        }
      ]
    },
    {
      "cell_type": "code",
      "source": [
        "#8\n",
        "from functools import reduce\n",
        "\n",
        "def add(x, y):\n",
        "    return x + y\n",
        "\n",
        "sum_of_numbers = reduce(add, numbers)\n",
        "\n",
        "print(\"Sum of Numbers:\", sum_of_numbers)"
      ],
      "metadata": {
        "colab": {
          "base_uri": "https://localhost:8080/"
        },
        "id": "8ByPkIXqeCJb",
        "outputId": "95098982-5102-435d-dc53-e5f729e328ec"
      },
      "execution_count": 29,
      "outputs": [
        {
          "output_type": "stream",
          "name": "stdout",
          "text": [
            "Sum of Numbers: 30\n"
          ]
        }
      ]
    },
    {
      "cell_type": "code",
      "source": [
        "while True:\n",
        "    expression = input(\"Enter a Python expression (or type 'quit' to end the game): \")\n",
        "    if expression.lower() == 'quit':\n",
        "        break\n",
        "\n",
        "    try:\n",
        "        exec(f\"result = {expression}\")\n",
        "        print(\"Result:\", result)\n",
        "    except Exception as e:\n",
        "        print(\"Error:\", e)"
      ],
      "metadata": {
        "colab": {
          "base_uri": "https://localhost:8080/"
        },
        "id": "zMSdSTCmeH6K",
        "outputId": "ee03fe80-21ba-4c70-ca6d-90a8622f9f23"
      },
      "execution_count": 31,
      "outputs": [
        {
          "name": "stdout",
          "output_type": "stream",
          "text": [
            "Enter a Python expression (or type 'quit' to end the game): 3+4\n",
            "Result: 7\n",
            "Enter a Python expression (or type 'quit' to end the game): quit\n"
          ]
        }
      ]
    },
    {
      "cell_type": "code",
      "source": [],
      "metadata": {
        "id": "lbzAKhtTelZK"
      },
      "execution_count": null,
      "outputs": []
    }
  ]
}