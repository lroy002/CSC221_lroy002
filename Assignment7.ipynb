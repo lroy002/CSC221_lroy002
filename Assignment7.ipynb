{
  "nbformat": 4,
  "nbformat_minor": 0,
  "metadata": {
    "colab": {
      "provenance": [],
      "authorship_tag": "ABX9TyO4JaxGc3SJJm3LT0klH8eA",
      "include_colab_link": true
    },
    "kernelspec": {
      "name": "python3",
      "display_name": "Python 3"
    },
    "language_info": {
      "name": "python"
    }
  },
  "cells": [
    {
      "cell_type": "markdown",
      "metadata": {
        "id": "view-in-github",
        "colab_type": "text"
      },
      "source": [
        "<a href=\"https://colab.research.google.com/github/lroy002/CSC221_lroy002/blob/main/Assignment7.ipynb\" target=\"_parent\"><img src=\"https://colab.research.google.com/assets/colab-badge.svg\" alt=\"Open In Colab\"/></a>"
      ]
    },
    {
      "cell_type": "code",
      "execution_count": null,
      "metadata": {
        "colab": {
          "base_uri": "https://localhost:8080/"
        },
        "id": "2FZbisvDyULv",
        "outputId": "917eea7c-2373-4aad-9466-ec120aa44624"
      },
      "outputs": [
        {
          "output_type": "stream",
          "name": "stdout",
          "text": [
            "green\n",
            "5\n"
          ]
        }
      ],
      "source": [
        "alien_0 = {'color': 'green', 'points': 5}\n",
        "print(alien_0['color'])\n",
        "print(alien_0['points'])\n"
      ]
    },
    {
      "cell_type": "code",
      "source": [
        "new_points = alien_0['points']\n",
        "print(f\"You just earned {new_points} points!\")"
      ],
      "metadata": {
        "colab": {
          "base_uri": "https://localhost:8080/"
        },
        "id": "pO5_sn-9y5G0",
        "outputId": "e8eabb3c-e25e-45be-9635-e1bc0af4c7b5"
      },
      "execution_count": null,
      "outputs": [
        {
          "output_type": "stream",
          "name": "stdout",
          "text": [
            "You just earned 5 points!\n"
          ]
        }
      ]
    },
    {
      "cell_type": "code",
      "source": [
        "alien_0 = {'color': 'green', 'points': 5}\n",
        "print(alien_0)\n",
        "\n",
        "alien_0['x_position'] = 0\n",
        "alien_0['y_position'] = 25\n",
        "print(alien_0)\n"
      ],
      "metadata": {
        "colab": {
          "base_uri": "https://localhost:8080/"
        },
        "id": "fBftiNAuzTLT",
        "outputId": "75ec831a-4749-4b1a-ef40-2e9ecc756403"
      },
      "execution_count": null,
      "outputs": [
        {
          "output_type": "stream",
          "name": "stdout",
          "text": [
            "{'color': 'green', 'points': 5}\n",
            "{'color': 'green', 'points': 5, 'x_position': 0, 'y_position': 25}\n"
          ]
        }
      ]
    },
    {
      "cell_type": "code",
      "source": [
        "alien_0 = {'x_position':0, 'y_position':25, 'speed': 'medium'}\n",
        "print(f\"Original position: {alien_0['x_position']}\")\n",
        "\n",
        "if alien_0['speed']=='slow':\n",
        "  x_increment = 1\n",
        "elif alien_0['speed']== 'medium':\n",
        "  x_increment = 2\n",
        "else:\n",
        "  x_increment = 3\n",
        "\n",
        "alien_0['x_position'] = alien_0['x_position'] + x_increment\n",
        "\n",
        "print(f\"New Position: {alien_0['x_position']}\")"
      ],
      "metadata": {
        "colab": {
          "base_uri": "https://localhost:8080/"
        },
        "id": "TcVRAohwzplo",
        "outputId": "4db2ec33-9444-4154-c548-98a4a2f152a6"
      },
      "execution_count": null,
      "outputs": [
        {
          "output_type": "stream",
          "name": "stdout",
          "text": [
            "Original position: 0\n",
            "New Position: 2\n"
          ]
        }
      ]
    },
    {
      "cell_type": "code",
      "source": [
        "favorite_lanuage = {\n",
        "    'jen': 'python',\n",
        "    'sarah': 'c',\n",
        "    'edward': 'rust',\n",
        "    'phil': 'python',\n",
        "}\n",
        "\n",
        "lanuage = favorite_lanuage ['sarah'].title()\n",
        "print(f\"Sarah's favorite lanuage is {lanuage}.\")"
      ],
      "metadata": {
        "colab": {
          "base_uri": "https://localhost:8080/"
        },
        "id": "xHGzICUC09J1",
        "outputId": "2b4b5908-7c90-4dfb-d7b6-a89f8eeaadc4"
      },
      "execution_count": null,
      "outputs": [
        {
          "output_type": "stream",
          "name": "stdout",
          "text": [
            "Sarah's favorite lanuage is C.\n"
          ]
        }
      ]
    },
    {
      "cell_type": "code",
      "source": [
        "user_0 ={\n",
        "    'username': 'efermi',\n",
        "    'first': 'enrico',\n",
        "    'last' : 'fermi'\n",
        "}\n",
        "for key, value in user_0.items():\n",
        "  print(f\"\\nKey: {key}\")\n",
        "  print(f\"Value: {value}\")"
      ],
      "metadata": {
        "colab": {
          "base_uri": "https://localhost:8080/"
        },
        "id": "qEkQlXkt1txC",
        "outputId": "5f594963-8bd8-43c7-8585-e5016a60cf65"
      },
      "execution_count": null,
      "outputs": [
        {
          "output_type": "stream",
          "name": "stdout",
          "text": [
            "\n",
            "Key: username\n",
            "Value: efermi\n",
            "\n",
            "Key: first\n",
            "Value: enrico\n",
            "\n",
            "Key: last\n",
            "Value: fermi\n"
          ]
        }
      ]
    },
    {
      "cell_type": "code",
      "source": [
        "favorite_lanuage = {\n",
        "    'jen': 'python',\n",
        "    'sarah': 'c',\n",
        "    'edward': 'rust',\n",
        "    'phil': 'python',\n",
        "}\n",
        "\n",
        "for name, lanuage in favorite_lanuage.items():\n",
        "  print(f\"{name.title()}'s favorite lanuage is {lanuage.title()}\")"
      ],
      "metadata": {
        "colab": {
          "base_uri": "https://localhost:8080/"
        },
        "id": "P-t__Dj42obI",
        "outputId": "77a47421-0e58-441e-fb0a-889ee4a41374"
      },
      "execution_count": null,
      "outputs": [
        {
          "output_type": "stream",
          "name": "stdout",
          "text": [
            "Jen's favorite lanuage is Python\n",
            "Sarah's favorite lanuage is C\n",
            "Edward's favorite lanuage is Rust\n",
            "Phil's favorite lanuage is Python\n"
          ]
        }
      ]
    },
    {
      "cell_type": "code",
      "source": [
        "favorite_lanuage = {\n",
        "    'jen': 'python',\n",
        "    'sarah': 'c',\n",
        "    'edward': 'rust',\n",
        "    'phil': 'python',\n",
        "}\n",
        "\n",
        "for name in favorite_lanuage.keys():\n",
        "  print(name.title())\n",
        "\n"
      ],
      "metadata": {
        "colab": {
          "base_uri": "https://localhost:8080/"
        },
        "id": "KoDk3lvM28j3",
        "outputId": "e816d564-23ed-452e-e8ba-4cfdfd703347"
      },
      "execution_count": null,
      "outputs": [
        {
          "output_type": "stream",
          "name": "stdout",
          "text": [
            "Jen\n",
            "Sarah\n",
            "Edward\n",
            "Phil\n"
          ]
        }
      ]
    },
    {
      "cell_type": "code",
      "source": [
        "favorite_lanuages = {\n",
        "    --snip--\n",
        "    }\n",
        "\n",
        "friends = ['phil', 'sarah']\n",
        "for name in favorite_lanuage.keys():\n",
        "  print(f\"Hi {name.title()}.\")\n",
        "\n",
        "  if name in friends:\n",
        "    lanuage = favorite_lanuages{name.title()}\n",
        "    print(f\"\\t{name.title()}, I see you love {lanuage}!\")\n"
      ],
      "metadata": {
        "colab": {
          "base_uri": "https://localhost:8080/",
          "height": 143
        },
        "id": "KISWc-0q3HDv",
        "outputId": "e8c2954c-7802-4f31-c62f-5b7a29e36483"
      },
      "execution_count": null,
      "outputs": [
        {
          "output_type": "error",
          "ename": "SyntaxError",
          "evalue": "ignored",
          "traceback": [
            "\u001b[0;36m  File \u001b[0;32m\"<ipython-input-21-e8cb20a2840e>\"\u001b[0;36m, line \u001b[0;32m3\u001b[0m\n\u001b[0;31m    }\u001b[0m\n\u001b[0m    ^\u001b[0m\n\u001b[0;31mSyntaxError\u001b[0m\u001b[0;31m:\u001b[0m invalid syntax\n"
          ]
        }
      ]
    },
    {
      "cell_type": "code",
      "source": [
        "favorite_lanuages = {\n",
        "    --snip--\n",
        "    }\n",
        "\n",
        "if 'erin' not in favorite_lanuages.keys():\n",
        "  print(\"erin, please take our poll!\")\n"
      ],
      "metadata": {
        "colab": {
          "base_uri": "https://localhost:8080/",
          "height": 143
        },
        "id": "ivEVEM-f38Z-",
        "outputId": "49a2f7ac-4e00-40a3-d941-9fba123b010e"
      },
      "execution_count": null,
      "outputs": [
        {
          "output_type": "error",
          "ename": "SyntaxError",
          "evalue": "ignored",
          "traceback": [
            "\u001b[0;36m  File \u001b[0;32m\"<ipython-input-25-bd9b0593066b>\"\u001b[0;36m, line \u001b[0;32m3\u001b[0m\n\u001b[0;31m    }\u001b[0m\n\u001b[0m    ^\u001b[0m\n\u001b[0;31mSyntaxError\u001b[0m\u001b[0;31m:\u001b[0m invalid syntax\n"
          ]
        }
      ]
    },
    {
      "cell_type": "code",
      "source": [
        "aliens = []\n",
        "\n",
        "for alien_number in range (30):\n",
        "  new_alien = {'color': 'green', 'points': 5, 'speed': 'slow'}\n",
        "  aliens.append(new_alien)\n",
        "\n",
        "for alien in aliens[:3]:\n",
        "  if alien['color'] == 'green':\n",
        "    alien['color'] = 'yellow'\n",
        "    alien['speed'] = 'medium'\n",
        "    alien['points'] = 10\n",
        "\n",
        "for alien in aliens[:5]:\n",
        "  print(alien)"
      ],
      "metadata": {
        "colab": {
          "base_uri": "https://localhost:8080/"
        },
        "id": "FlHVQZSi4YFc",
        "outputId": "7aebfbb1-be1e-4547-d350-f0b2eb5842ea"
      },
      "execution_count": null,
      "outputs": [
        {
          "output_type": "stream",
          "name": "stdout",
          "text": [
            "{'color': 'yellow', 'points': 10, 'speed': 'medium'}\n",
            "{'color': 'yellow', 'points': 10, 'speed': 'medium'}\n",
            "{'color': 'yellow', 'points': 10, 'speed': 'medium'}\n",
            "{'color': 'green', 'points': 5, 'speed': 'slow'}\n",
            "{'color': 'green', 'points': 5, 'speed': 'slow'}\n"
          ]
        }
      ]
    },
    {
      "cell_type": "code",
      "source": [
        "for alien in aliens[0:3]:\n",
        "  if alien['color'] == 'green':\n",
        "    alien['color'] = 'yellow'\n",
        "    alien['speed'] = 'medium'\n",
        "    alien['points'] = 10\n",
        "  elif alien['color'] == 'yellow':\n",
        "    alien['color'] = 'red'\n",
        "    alien['speed'] = 'fast'\n",
        "    alien['points'] = 15"
      ],
      "metadata": {
        "id": "F1QiuhdL4_ZE"
      },
      "execution_count": null,
      "outputs": []
    },
    {
      "cell_type": "code",
      "source": [
        "pizza = {\n",
        "  'crust': 'thick',\n",
        "  'toppings': ['mushrooms', 'extra cheese'],\n",
        "  }\n",
        "\n",
        "print(f\"You ordered a {pizza['crust']}-crust pizza \"\n",
        "\"with the following toppings:\")\n",
        "for topping in pizza['toppings']:\n",
        "  print(f\"\\t{topping}\")"
      ],
      "metadata": {
        "colab": {
          "base_uri": "https://localhost:8080/"
        },
        "id": "i3l6SAF95PFa",
        "outputId": "2a52101d-c58f-41a2-ee03-f3798985e6e1"
      },
      "execution_count": null,
      "outputs": [
        {
          "output_type": "stream",
          "name": "stdout",
          "text": [
            "You ordered a thick-crust pizza with the following toppings:\n",
            "\tmushrooms\n",
            "\textra cheese\n"
          ]
        }
      ]
    },
    {
      "cell_type": "code",
      "source": [
        "users = {\n",
        "  'aeinstein': {\n",
        "    'first': 'albert',\n",
        "    'last': 'einstein',\n",
        "    'location': 'princeton',\n",
        "   },\n",
        "  'mcurie': {\n",
        "   'first': 'marie',\n",
        "    'last': 'curie',\n",
        "    'location': 'paris',\n",
        "    },\n",
        "  }\n",
        "for username, user_info in users.items():\n",
        "  print(f\"\\nUsername: {username}\")\n",
        "  full_name = f\"{user_info['first']} {user_info['last']}\"\n",
        "  location = user_info['location']\n",
        "\n",
        "  print(f\"\\tFull name: {full_name.title()}\")\n",
        "  print(f\"\\tLocation: {location.title()}\")"
      ],
      "metadata": {
        "colab": {
          "base_uri": "https://localhost:8080/"
        },
        "id": "Qn05u_715myp",
        "outputId": "4b7e2135-bb02-44e1-8619-0c37ac9f6f23"
      },
      "execution_count": null,
      "outputs": [
        {
          "output_type": "stream",
          "name": "stdout",
          "text": [
            "\n",
            "Username: aeinstein\n",
            "\tFull name: Albert Einstein\n",
            "\tLocation: Princeton\n",
            "\n",
            "Username: mcurie\n",
            "\tFull name: Marie Curie\n",
            "\tLocation: Paris\n"
          ]
        }
      ]
    },
    {
      "cell_type": "code",
      "source": [
        "#try it's start here!"
      ],
      "metadata": {
        "id": "M93stoOl6IBr"
      },
      "execution_count": null,
      "outputs": []
    },
    {
      "cell_type": "code",
      "source": [
        "person ={\n",
        "    'first_name': 'Brighton',\n",
        "    'last_name': 'Daniger',\n",
        "    'age': '21',\n",
        "    'city' : 'Diamond Point',\n",
        "    }\n",
        "print(person['first_name'])\n",
        "print(person['last_name'])\n",
        "print(person['age'])\n",
        "print(person['city'])\n"
      ],
      "metadata": {
        "colab": {
          "base_uri": "https://localhost:8080/"
        },
        "id": "0UUYnkknJHGT",
        "outputId": "c07775d2-4017-4fbf-b15b-d124a7cbcaeb"
      },
      "execution_count": null,
      "outputs": [
        {
          "output_type": "stream",
          "name": "stdout",
          "text": [
            "Brighton\n",
            "Daniger\n",
            "21\n",
            "Diamond Point\n"
          ]
        }
      ]
    },
    {
      "cell_type": "code",
      "source": [
        "numbers = {\n",
        "    'Brighton':'32',\n",
        "    'Ann': '07',\n",
        "    'Harlan': '22',\n",
        "    'Marcy': '26',\n",
        "    'Liam': '23',\n",
        "}\n",
        "\n",
        "num = numbers ['Brighton']\n",
        "print(\"Brighton's favorite number is \" + str(num) + \".\")\n",
        "num = numbers ['Ann']\n",
        "print(\"Ann's favorite number is \" + str(num) + \".\")\n",
        "num = numbers ['Harlan']\n",
        "print(\"Harlan's favorite number is \" + str(num) + \".\")\n",
        "num = numbers ['Marcy']\n",
        "print(\"Marcy's favorite number is \" + str(num) + \".\")\n",
        "num = numbers ['Liam']\n",
        "print(\"Liam's favorite number is \" + str(num) + \".\")"
      ],
      "metadata": {
        "colab": {
          "base_uri": "https://localhost:8080/"
        },
        "id": "9dF2FuuvLA8d",
        "outputId": "07a9037e-7ed8-4bc8-ef45-f028b7385879"
      },
      "execution_count": null,
      "outputs": [
        {
          "output_type": "stream",
          "name": "stdout",
          "text": [
            "Brighton's favorite number is 32.\n",
            "Ann's favorite number is 07.\n",
            "Harlan's favorite number is 22.\n",
            "Marcy's favorite number is 26.\n",
            "Liam's favorite number is 23.\n"
          ]
        }
      ]
    },
    {
      "cell_type": "code",
      "source": [
        "glossary = {\n",
        "    'comment': 'a note for the programmer that the compter ignores',\n",
        "    'list': 'a collection of items stored together',\n",
        "    'dictionary': 'stores information to be recalled',\n",
        "    'loop' : 'repeats an action for every item in the list',\n",
        "    'range' : 'generates a series of numbers',\n",
        "}\n",
        "\n",
        "word = 'comment'\n",
        "print(\"\\n\" + word.title() + \":\" + glossary[word])\n",
        "\n",
        "word = 'list'\n",
        "print(\"\\n\" + word.title() + \":\" + glossary[word])\n",
        "\n",
        "word = 'dictionary'\n",
        "print(\"\\n\" + word.title() + \":\" + glossary[word])\n",
        "\n",
        "word = 'loop'\n",
        "print(\"\\n\" + word.title() + \":\" + glossary[word])\n",
        "\n",
        "word = 'range'\n",
        "print(\"\\n\" + word.title() + \":\" + glossary[word])\n",
        "\n"
      ],
      "metadata": {
        "colab": {
          "base_uri": "https://localhost:8080/"
        },
        "id": "aOweRYV3JuhB",
        "outputId": "768ed39c-985b-401c-f062-c4cbd27ef104"
      },
      "execution_count": null,
      "outputs": [
        {
          "output_type": "stream",
          "name": "stdout",
          "text": [
            "\n",
            "Comment:a note for the programmer that the compter ignores\n",
            "\n",
            "List:a collection of items stored together\n",
            "\n",
            "Dictionary:stores information to be recalled\n",
            "\n",
            "Loop:repeats an action for every item in the list\n",
            "\n",
            "Range:generates a series of numbers\n"
          ]
        }
      ]
    },
    {
      "cell_type": "code",
      "source": [
        "glossary = {\n",
        "    'comment': 'a note for the programmer that the compter ignores',\n",
        "    'list': 'a collection of items stored together',\n",
        "    'dictionary': 'stores information to be recalled',\n",
        "    'loop' : 'repeats an action for every item in the list',\n",
        "    'range' : 'generates a series of numbers',\n",
        "    'boolean' : ' shows if a value is true or false',\n",
        "    'slicing' : ' can choose the first and last items in a list you want to work with',\n",
        "    'pop' : ' lets you remove item from a list and still use it after it is removed',\n",
        "    'key' : ' first value in a key-value pair',\n",
        "    'float' : ' number with a decimal point',\n",
        "}\n",
        "\n",
        "for word, definition in glossary.items ():\n",
        "  print(\"\\n\" + word.title() + \":\" + glossary[word])\n",
        "\n"
      ],
      "metadata": {
        "colab": {
          "base_uri": "https://localhost:8080/"
        },
        "id": "PAAkJ2tcPQSA",
        "outputId": "631e3988-863e-4da6-a063-649cd10eb6a6"
      },
      "execution_count": null,
      "outputs": [
        {
          "output_type": "stream",
          "name": "stdout",
          "text": [
            "\n",
            "Comment:a note for the programmer that the compter ignores\n",
            "\n",
            "List:a collection of items stored together\n",
            "\n",
            "Dictionary:stores information to be recalled\n",
            "\n",
            "Loop:repeats an action for every item in the list\n",
            "\n",
            "Range:generates a series of numbers\n",
            "\n",
            "Boolean: shows if a value is true or false\n",
            "\n",
            "Slicing: can choose the first and last items in a list you want to work with\n",
            "\n",
            "Pop: lets you remove item from a list and still use it after it is removed\n",
            "\n",
            "Key: first value in a key-value pair\n",
            "\n",
            "Float: number with a decimal point\n"
          ]
        }
      ]
    },
    {
      "cell_type": "code",
      "source": [
        "cities = {\n",
        "    'Lake George': {\n",
        "        'country': 'United States',\n",
        "        'population': '3413',\n",
        "        'nearby body of water': 'Lake George',\n",
        "    },\n",
        "\n",
        "    'Albany': {\n",
        "        'country': 'United States',\n",
        "        'population': '98,617',\n",
        "        'nearby body of water': 'Washington Park Lake',\n",
        "    },\n",
        "\n",
        "    'Plattsburgh' : {\n",
        "        'country': 'United States',\n",
        "        'population': '19,909',\n",
        "        'nearby body of water': 'Lake Champlain',\n",
        "    }\n",
        "}\n",
        "\n",
        "for city, city_info in cities.items():\n",
        "  country = city_info['country'].title()\n",
        "  population = city_info['population']\n",
        "  water = city_info['nearby body of water'].title()\n",
        "\n",
        "\n",
        "\n",
        "print(\"\\n\" + city.title() + ' is located in the ' + country + \"!\")\n",
        "print(\"It shockingly has the population of around \" + str(population) + \" which is suprising for upstate New York!\")\n",
        "print(\"Locals and visitors enjoy the nearby body of water, called \" + water)"
      ],
      "metadata": {
        "id": "t_7UtnyuSiSp",
        "colab": {
          "base_uri": "https://localhost:8080/"
        },
        "outputId": "7f47f072-325c-4854-c672-42cfaff09756"
      },
      "execution_count": 24,
      "outputs": [
        {
          "output_type": "stream",
          "name": "stdout",
          "text": [
            "\n",
            "Plattsburgh is located in the United States!\n",
            "It shockingly has the population of around 19,909 which is suprising for upstate New York!\n",
            "Locals and visitors enjoy the nearby body of water, called Lake Champlain\n"
          ]
        }
      ]
    },
    {
      "cell_type": "code",
      "source": [
        "glossary ={\n",
        "    'first_name':  ' Brighton',\n",
        "    'last_name': ' Daniger',\n",
        "    'age': ' 21',\n",
        "    'city' : ' Diamond Point',\n",
        "    }\n",
        "for word, definition in glossary.items ():\n",
        "  print(\"\\n\" + word.title() + \":\" + glossary[word])\n",
        "#print(glossary['first_name'])\n",
        "#print(glossary['last_name'])\n",
        "#print(glossary['age'])\n",
        "#print(glossary['city'])\n"
      ],
      "metadata": {
        "colab": {
          "base_uri": "https://localhost:8080/"
        },
        "id": "fW4RyBQM7M_u",
        "outputId": "502c04ae-c98a-4576-e782-7278f816f875"
      },
      "execution_count": 30,
      "outputs": [
        {
          "output_type": "stream",
          "name": "stdout",
          "text": [
            "\n",
            "First_Name: Brighton\n",
            "\n",
            "Last_Name: Daniger\n",
            "\n",
            "Age: 21\n",
            "\n",
            "City: Diamond Point\n"
          ]
        }
      ]
    },
    {
      "cell_type": "code",
      "source": [],
      "metadata": {
        "id": "5C6yt9WiN-du"
      },
      "execution_count": null,
      "outputs": []
    }
  ]
}