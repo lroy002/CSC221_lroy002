{
  "nbformat": 4,
  "nbformat_minor": 0,
  "metadata": {
    "colab": {
      "provenance": [],
      "authorship_tag": "ABX9TyOeI2XXZnjiwJA+Wc/jSjHR",
      "include_colab_link": true
    },
    "kernelspec": {
      "name": "python3",
      "display_name": "Python 3"
    },
    "language_info": {
      "name": "python"
    }
  },
  "cells": [
    {
      "cell_type": "markdown",
      "metadata": {
        "id": "view-in-github",
        "colab_type": "text"
      },
      "source": [
        "<a href=\"https://colab.research.google.com/github/lroy002/CSC221_lroy002/blob/main/Assignment16_17.ipynb\" target=\"_parent\"><img src=\"https://colab.research.google.com/assets/colab-badge.svg\" alt=\"Open In Colab\"/></a>"
      ]
    },
    {
      "cell_type": "code",
      "execution_count": 21,
      "metadata": {
        "colab": {
          "base_uri": "https://localhost:8080/"
        },
        "id": "yH4x4Om43D_U",
        "outputId": "fc100d95-4122-4e7c-a35c-0ea8c9e1c92f"
      },
      "outputs": [
        {
          "output_type": "stream",
          "name": "stdout",
          "text": [
            "hello world\n"
          ]
        }
      ],
      "source": [
        "#1.1\n",
        "print(\"hello world\")"
      ]
    },
    {
      "cell_type": "code",
      "source": [
        "600 + 232 #this was all pretty basic and review!"
      ],
      "metadata": {
        "colab": {
          "base_uri": "https://localhost:8080/"
        },
        "id": "fnGZ6iX43lix",
        "outputId": "0e1694ea-6730-4dfa-e753-33dca2b549da"
      },
      "execution_count": 2,
      "outputs": [
        {
          "output_type": "execute_result",
          "data": {
            "text/plain": [
              "832"
            ]
          },
          "metadata": {},
          "execution_count": 2
        }
      ]
    },
    {
      "cell_type": "code",
      "source": [
        "#1.2\n",
        "#!/usr/bin/env python3\n",
        "print('hello world')"
      ],
      "metadata": {
        "colab": {
          "base_uri": "https://localhost:8080/"
        },
        "id": "GiOSlaWv3upg",
        "outputId": "1764170e-b2a3-40f1-a5d5-8ccae8d0c293"
      },
      "execution_count": 22,
      "outputs": [
        {
          "output_type": "stream",
          "name": "stdout",
          "text": [
            "hello world\n"
          ]
        }
      ]
    },
    {
      "cell_type": "code",
      "source": [
        "#1.3\n",
        "principal = 1000\n",
        "rate = 0.05\n",
        "numyears = 5\n",
        "year = 1\n",
        "\n",
        "while year <= numyears:\n",
        "  principal = principal * (1 + rate)\n",
        "  print(year, principal)\n",
        "  year += 1\n",
        "  #this example from the book showed how python can work to calculate real life problems\n"
      ],
      "metadata": {
        "colab": {
          "base_uri": "https://localhost:8080/"
        },
        "id": "UhHTzTcm38jI",
        "outputId": "697cae44-8085-46a7-f11c-389c5dcccb85"
      },
      "execution_count": 23,
      "outputs": [
        {
          "output_type": "stream",
          "name": "stdout",
          "text": [
            "1 1050.0\n",
            "2 1102.5\n",
            "3 1157.625\n",
            "4 1215.5062500000001\n",
            "5 1276.2815625000003\n"
          ]
        }
      ]
    },
    {
      "cell_type": "code",
      "source": [
        "#1.4\n",
        "2 * 6"
      ],
      "metadata": {
        "colab": {
          "base_uri": "https://localhost:8080/"
        },
        "id": "PfqqntRh4KoP",
        "outputId": "dc955187-de89-4ac0-da2c-4ff09a018ceb"
      },
      "execution_count": 25,
      "outputs": [
        {
          "output_type": "execute_result",
          "data": {
            "text/plain": [
              "12"
            ]
          },
          "metadata": {},
          "execution_count": 25
        }
      ]
    },
    {
      "cell_type": "code",
      "source": [
        "45/4"
      ],
      "metadata": {
        "colab": {
          "base_uri": "https://localhost:8080/"
        },
        "id": "WS8CZtL84WuX",
        "outputId": "24202319-6297-4352-c445-b3674b8fce7b"
      },
      "execution_count": 7,
      "outputs": [
        {
          "output_type": "execute_result",
          "data": {
            "text/plain": [
              "11.25"
            ]
          },
          "metadata": {},
          "execution_count": 7
        }
      ]
    },
    {
      "cell_type": "code",
      "source": [
        "(3 // 6) #these showed how you can use python for basic math problems"
      ],
      "metadata": {
        "colab": {
          "base_uri": "https://localhost:8080/"
        },
        "id": "8FA05JPH4Xu-",
        "outputId": "eed02447-3296-4863-cf62-124a62b857e1"
      },
      "execution_count": 12,
      "outputs": [
        {
          "output_type": "execute_result",
          "data": {
            "text/plain": [
              "0"
            ]
          },
          "metadata": {},
          "execution_count": 12
        }
      ]
    },
    {
      "cell_type": "code",
      "source": [
        "#1.5\n",
        "if a > b:\n",
        "  print(\"computer says yes\")\n",
        "\n",
        "else:\n",
        "  print(\"computer says no\")\n",
        "\n",
        "#this will not run because a is not defined, but if elif and else statements help the user narrow down results they will get when running and program and will use the input to determin the correct output"
      ],
      "metadata": {
        "colab": {
          "base_uri": "https://localhost:8080/"
        },
        "id": "z1G5jZCj4cz8",
        "outputId": "d919cf4e-6552-43bc-d5a0-836bf3d4bb45"
      },
      "execution_count": 26,
      "outputs": [
        {
          "output_type": "stream",
          "name": "stdout",
          "text": [
            "computer says no\n"
          ]
        }
      ]
    },
    {
      "cell_type": "code",
      "source": [
        "#1.6\n",
        "a = 'hello world'\n",
        "b = \"this code is working\"\n",
        "c = '''triple quotes.'''\n",
        "d = \"\"\"still working!\"\"\"\n",
        "#this code shows how you could use one, two or three quotes\n",
        "#arond a line and still have it run"
      ],
      "metadata": {
        "id": "QGJkqoLI4tdE"
      },
      "execution_count": 27,
      "outputs": []
    },
    {
      "cell_type": "code",
      "source": [
        "#1.7\n",
        "#with open ('data.txt') as fil:\n",
        " # for line in file:\n",
        "  #  print(line, end='')\n",
        "#this code opens a file and reads the code line by line"
      ],
      "metadata": {
        "id": "xfPzg1yu6OeV"
      },
      "execution_count": 37,
      "outputs": []
    },
    {
      "cell_type": "code",
      "source": [
        "file = open('data.txt')\n",
        "for line in file:\n",
        "  print(line, end= '')\n",
        "file.close()\n",
        "#this code opens a file, and then having the end= in the code stops the code\n",
        "#adding another line to it at the end"
      ],
      "metadata": {
        "id": "gCbc4ncV9lCI"
      },
      "execution_count": null,
      "outputs": []
    },
    {
      "cell_type": "code",
      "source": [
        "#1.8\n",
        "names = ['lily', 'penny', 'brighton']\n",
        "#this code creates a list that can be called upon in fucture lines of code"
      ],
      "metadata": {
        "id": "jnGrS2Tb-MLz"
      },
      "execution_count": 31,
      "outputs": []
    },
    {
      "cell_type": "code",
      "source": [
        "#1.9\n",
        "holding = ('GOOG', 100, 490, 10)\n",
        "address = ('www.python.org', 80)\n",
        "#this code is a tuple and works to hold a collection of values\n",
        "#This is done by enclosing a group of values in parentheses like i did above!"
      ],
      "metadata": {
        "id": "v8g3IUuk-T-G"
      },
      "execution_count": 35,
      "outputs": []
    },
    {
      "cell_type": "code",
      "source": [
        "#1.10\n",
        "name1 = {'IBM', 'MSFT', 'AA'}\n",
        "names2 = set(['IBM', 'MSFT', 'HPE', 'IBM', 'CAT'])\n",
        "#this code creates a set of values. This is done by the curly brackets or the ([])\n"
      ],
      "metadata": {
        "id": "MeMppXzF-mdU"
      },
      "execution_count": 40,
      "outputs": []
    },
    {
      "cell_type": "code",
      "source": [
        "#1.11\n",
        "s = {\n",
        "    'name' : 'GOOG',\n",
        "    'shares' : 100,\n",
        "    'price' : 490.10\n",
        "}\n",
        "\n",
        "name = s['name']\n",
        "cost = s['shares'] * s['price']\n",
        "#this code works to create a dictionary of values,\n",
        "#and then the second half of the code will help you access the dictonary"
      ],
      "metadata": {
        "id": "6yl9ZDVC_V45"
      },
      "execution_count": 43,
      "outputs": []
    },
    {
      "cell_type": "code",
      "source": [
        "#1.12\n",
        "message = 'hello world'\n",
        "for c in message:\n",
        "  print(c)\n",
        "\n",
        "#this code makes it so the code will print one letter at a time\n",
        "#it will contiune to add spaces, but prints out one letter at a time\n"
      ],
      "metadata": {
        "colab": {
          "base_uri": "https://localhost:8080/"
        },
        "id": "1C9xNYy2BUHy",
        "outputId": "99433dd5-e8b4-4d24-eff4-82717429818a"
      },
      "execution_count": 45,
      "outputs": [
        {
          "output_type": "stream",
          "name": "stdout",
          "text": [
            "h\n",
            "e\n",
            "l\n",
            "l\n",
            "o\n",
            " \n",
            "w\n",
            "o\n",
            "r\n",
            "l\n",
            "d\n"
          ]
        }
      ]
    },
    {
      "cell_type": "code",
      "source": [
        "#1.13\n",
        "def remainder(a,b):\n",
        "  '''\n",
        "  computes the remainder of dividing a by b\n",
        "  '''\n",
        "  q = a//b\n",
        "  r= a - q * b\n",
        "  return r\n",
        "\n",
        "#this code is a def statement and it is used to define a function"
      ],
      "metadata": {
        "id": "gZdV6izKCN35"
      },
      "execution_count": 47,
      "outputs": []
    },
    {
      "cell_type": "code",
      "source": [
        "#1.14\n",
        "#Traceback (most recent call last):\n",
        "#File 'readport.py', line 9, in <module>\n",
        "  #shares = int(row[1])\n",
        "#ValueError: invalid literal for int() with base 10: 'N/A'\n",
        "#this code shows what an errow would look like\n",
        "#this is important to understand becuase it tells you where to look for the error as well as what the error is"
      ],
      "metadata": {
        "id": "aBo-JXHmC-yR"
      },
      "execution_count": 49,
      "outputs": []
    },
    {
      "cell_type": "code",
      "source": [
        "#1.15\n",
        "#raise SystemExit()\n",
        "#raise SystemExit(\"something is wrong\")\n",
        "#this code will force quit the code if there is an error and you want it to stop"
      ],
      "metadata": {
        "id": "Hp0-Epj_ERBX"
      },
      "execution_count": 51,
      "outputs": []
    },
    {
      "cell_type": "code",
      "source": [
        "#1.16\n",
        "items = [37, 42]\n",
        "items.append(73)\n",
        "#these codes work if you are using objects and methods when working in strings and lists"
      ],
      "metadata": {
        "id": "ooFsDoaWFt4E"
      },
      "execution_count": 52,
      "outputs": []
    },
    {
      "cell_type": "code",
      "source": [
        "class Calculator:\n",
        "  def __init__(self):\n",
        "    self._stack = Stack()\n",
        "  def push(self, item):\n",
        "    self._stack.push(item)\n",
        "  def pop(self):\n",
        "    return self._stack.pop()\n",
        "  def add(self):\n",
        "    self.push(self.pop() + self.pop())\n",
        "  def mul(self):\n",
        "    self.push(self.pop() * self.pop())\n",
        "  def sub(self):\n",
        "    right = self.pop()\n",
        "    self.push(self.pop() - right)\n",
        "  def div(self):\n",
        "    right = self.pop()\n",
        "    self.push(self.pop() / right)\n",
        "  #this code work as a calculator and it also contains a stack\n",
        "  #it also even includes a push and pop method within the stack"
      ],
      "metadata": {
        "id": "vKrFfEd1HlM9"
      },
      "execution_count": 55,
      "outputs": []
    },
    {
      "cell_type": "code",
      "source": [
        "#1.17\n",
        "#def read_portfolio(filename)\n",
        "  #portfolio = []\n",
        "  #with open(filename) as file:\n",
        "    #for line in file:\n",
        "      #row = line.split(',')\n",
        "      #try:\n",
        "        #name = row[0]\n",
        "        #shares = int(row[1])\n",
        "        #price = float(row[2])\n",
        "        #holding = (name, shares, price)\n",
        "        #portfolio.append(holding)\n",
        "      #except ValueError as err:\n",
        "        #print('bad row:', row)\n",
        "        #print('Reason:' err)\n",
        "  #return portfolio\n",
        "\n",
        "#this code will break your code up into multiple files.\n",
        "#this will make it easier to maintain and spot errors"
      ],
      "metadata": {
        "id": "vAnQA-s1H63E"
      },
      "execution_count": 57,
      "outputs": []
    },
    {
      "cell_type": "code",
      "source": [
        "#1.18\n",
        "#def main():\n",
        "  #portfolio = read_portfolio('portfolio.csv')\n",
        "  #for name, shares, price in portfolio:\n",
        "    #print(f'{name:>10s} {shares:10d} {price:10.2f}')\n",
        "#if __name__ == '__main__':\n",
        "  #main()\n",
        "\n",
        "#this file can run either or a script or library\n"
      ],
      "metadata": {
        "id": "RCfRtJMwKedm"
      },
      "execution_count": 59,
      "outputs": []
    },
    {
      "cell_type": "code",
      "source": [
        "#1.19\n",
        "#tutorial/\n",
        "  #__init__.py\n",
        "  #redport.py\n",
        "  #pcost.py\n",
        "  #stack.py\n",
        "\n",
        "#this code demonstrates a package, which is generally used in larger programs\n",
        "#it is essentially a hierarchical collection of modules"
      ],
      "metadata": {
        "id": "7COG1RYBLvaQ"
      },
      "execution_count": 60,
      "outputs": []
    },
    {
      "cell_type": "code",
      "source": [
        "#1.20\n",
        "# tutorial/\n",
        "  #__init__.py\n",
        "    #readport.py\n",
        "    #pcost.py\n",
        "    #stack.py\n",
        "    #...\n",
        "  #tests/\n",
        "    #test_stack.py\n",
        "    #test_pcost.py\n",
        "    #...\n",
        "  #examples/\n",
        "    #samples.py\n",
        "    #...\n",
        "  #doc/\n",
        "    #tutorial.txt\n",
        "    #...\n",
        "\n",
        "#This code is an example of what the strcuture of an application should look like\n",
        "#should be used as a best practice example\n",
        "#it helps manage everything and keep eveyrthing organized."
      ],
      "metadata": {
        "id": "lAUQV9xQXfKC"
      },
      "execution_count": 62,
      "outputs": []
    },
    {
      "cell_type": "code",
      "source": [
        "#1.21\n",
        "#import pandas\n",
        "#pandas.__file__\n",
        "#'/usr/local/lib/python3.8/site-packages/pandas/__init__.py'\n",
        "#this is code that would be used to instal a package"
      ],
      "metadata": {
        "id": "1ne59ACKYIU8"
      },
      "execution_count": null,
      "outputs": []
    }
  ]
}