{
  "nbformat": 4,
  "nbformat_minor": 0,
  "metadata": {
    "colab": {
      "provenance": [],
      "authorship_tag": "ABX9TyPCjRIkMO9I9/grNOHFaFRY",
      "include_colab_link": true
    },
    "kernelspec": {
      "name": "python3",
      "display_name": "Python 3"
    },
    "language_info": {
      "name": "python"
    }
  },
  "cells": [
    {
      "cell_type": "markdown",
      "metadata": {
        "id": "view-in-github",
        "colab_type": "text"
      },
      "source": [
        "<a href=\"https://colab.research.google.com/github/lroy002/CSC221_lroy002/blob/main/Assignment6fix.ipynb\" target=\"_parent\"><img src=\"https://colab.research.google.com/assets/colab-badge.svg\" alt=\"Open In Colab\"/></a>"
      ]
    },
    {
      "cell_type": "code",
      "execution_count": 15,
      "metadata": {
        "id": "rM785zdX7h1n",
        "colab": {
          "base_uri": "https://localhost:8080/"
        },
        "outputId": "fd3f8cb3-fd13-4aa1-f57d-4a4f5e51d0c7"
      },
      "outputs": [
        {
          "output_type": "stream",
          "name": "stdout",
          "text": [
            "Tabby Cats, are my favorite cat breed!\n",
            "Tabby Cats, are not my roommates favorite cat breed. She is allergic\n",
            "Simease Cats, are my favorite cat breed!\n",
            "Simease Cats, are not my roommates favorite cat breed. She is allergic\n",
            "Ragdoll Cats, are my favorite cat breed!\n",
            "Ragdoll Cats, are not my roommates favorite cat breed. She is allergic\n"
          ]
        }
      ],
      "source": [
        "cats = ['tabby cats', 'simease cats', 'ragdoll cats']\n",
        "for cat in cats:\n",
        "  print(f\"{cat.title()}, are my favorite cat breed!\")\n",
        "  print(f\"{cat.title()}, are not my roommates favorite cat breed. She is allergic\")"
      ]
    },
    {
      "cell_type": "code",
      "source": [],
      "metadata": {
        "id": "Ke3yAR4r-oyL"
      },
      "execution_count": null,
      "outputs": []
    }
  ]
}