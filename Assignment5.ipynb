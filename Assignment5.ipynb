{
  "nbformat": 4,
  "nbformat_minor": 0,
  "metadata": {
    "colab": {
      "provenance": [],
      "authorship_tag": "ABX9TyN/R7NIa0zqZmw1uyw9ybOx",
      "include_colab_link": true
    },
    "kernelspec": {
      "name": "python3",
      "display_name": "Python 3"
    },
    "language_info": {
      "name": "python"
    }
  },
  "cells": [
    {
      "cell_type": "markdown",
      "metadata": {
        "id": "view-in-github",
        "colab_type": "text"
      },
      "source": [
        "<a href=\"https://colab.research.google.com/github/lroy002/CSC221_lroy002/blob/main/Assignment5.ipynb\" target=\"_parent\"><img src=\"https://colab.research.google.com/assets/colab-badge.svg\" alt=\"Open In Colab\"/></a>"
      ]
    },
    {
      "cell_type": "code",
      "execution_count": null,
      "metadata": {
        "colab": {
          "base_uri": "https://localhost:8080/"
        },
        "id": "RSpg6rA6SsNz",
        "outputId": "734ca8ef-ad4a-4f69-ad26-d84d4e47d320"
      },
      "outputs": [
        {
          "output_type": "stream",
          "name": "stdout",
          "text": [
            "Audi\n",
            "BMW\n",
            "Subaru\n",
            "Toyota\n"
          ]
        }
      ],
      "source": [
        "cars = ['audi', 'bmw', 'subaru', 'toyota']\n",
        "for car in cars:\n",
        "  if car == 'bmw':\n",
        "    print(car.upper())\n",
        "  else:\n",
        "    print(car.title())"
      ]
    },
    {
      "cell_type": "code",
      "source": [
        "car = 'bmw'\n",
        "car == 'bmw'"
      ],
      "metadata": {
        "colab": {
          "base_uri": "https://localhost:8080/"
        },
        "id": "emP91DYSy90m",
        "outputId": "35f7dfc9-e332-4fc1-8c76-6166bf86cd53"
      },
      "execution_count": null,
      "outputs": [
        {
          "output_type": "execute_result",
          "data": {
            "text/plain": [
              "True"
            ]
          },
          "metadata": {},
          "execution_count": 12
        }
      ]
    },
    {
      "cell_type": "code",
      "source": [
        "car = 'audi'\n",
        "car == 'bmw'"
      ],
      "metadata": {
        "colab": {
          "base_uri": "https://localhost:8080/"
        },
        "id": "2hI6ckMpzIus",
        "outputId": "40402a98-76e1-4f8f-d557-0366653c9692"
      },
      "execution_count": null,
      "outputs": [
        {
          "output_type": "execute_result",
          "data": {
            "text/plain": [
              "False"
            ]
          },
          "metadata": {},
          "execution_count": 11
        }
      ]
    },
    {
      "cell_type": "code",
      "source": [
        "car = 'Audi'\n",
        "car.lower() == 'audi'\n",
        "car"
      ],
      "metadata": {
        "colab": {
          "base_uri": "https://localhost:8080/",
          "height": 35
        },
        "id": "Z91rv7qwz2PZ",
        "outputId": "e44afe03-641d-46f8-aa23-f8378ba794af"
      },
      "execution_count": null,
      "outputs": [
        {
          "output_type": "execute_result",
          "data": {
            "text/plain": [
              "'Audi'"
            ],
            "application/vnd.google.colaboratory.intrinsic+json": {
              "type": "string"
            }
          },
          "metadata": {},
          "execution_count": 14
        }
      ]
    },
    {
      "cell_type": "code",
      "source": [
        "requested_topping = 'mushrooms'\n",
        "if requested_topping != 'anchovies':\n",
        "  print(\"Hold the anchovies!\")"
      ],
      "metadata": {
        "colab": {
          "base_uri": "https://localhost:8080/"
        },
        "id": "rCLPeKOfz-Xl",
        "outputId": "b56b678d-6e29-48b6-d80e-751f724c24b3"
      },
      "execution_count": null,
      "outputs": [
        {
          "output_type": "stream",
          "name": "stdout",
          "text": [
            "Hold the anchovies!\n"
          ]
        }
      ]
    },
    {
      "cell_type": "code",
      "source": [
        "age = 18\n",
        "age == 18"
      ],
      "metadata": {
        "colab": {
          "base_uri": "https://localhost:8080/"
        },
        "id": "fcSZsY-80Yf1",
        "outputId": "6d9138b8-5ec0-46e0-9e8d-37ccb2f42237"
      },
      "execution_count": null,
      "outputs": [
        {
          "output_type": "execute_result",
          "data": {
            "text/plain": [
              "True"
            ]
          },
          "metadata": {},
          "execution_count": 16
        }
      ]
    },
    {
      "cell_type": "code",
      "source": [
        "answer = 17\n",
        "if answer !=42:\n",
        "  print(\"that is not the correct answer. please try again!\")"
      ],
      "metadata": {
        "colab": {
          "base_uri": "https://localhost:8080/"
        },
        "id": "uNq1o4Hc0gLu",
        "outputId": "9ab456d8-5bcf-4568-ecc2-b46ab6266fa8"
      },
      "execution_count": null,
      "outputs": [
        {
          "output_type": "stream",
          "name": "stdout",
          "text": [
            "that is not the correct answer. please try again!\n"
          ]
        }
      ]
    },
    {
      "cell_type": "code",
      "source": [
        "age = 19\n",
        "age < 21\n",
        "age <= 21\n",
        "age > 21\n",
        "age >= 21"
      ],
      "metadata": {
        "colab": {
          "base_uri": "https://localhost:8080/"
        },
        "id": "iCmd0HIi0oUr",
        "outputId": "bae917c3-c167-49bf-a9a4-08f4c5daef28"
      },
      "execution_count": null,
      "outputs": [
        {
          "output_type": "execute_result",
          "data": {
            "text/plain": [
              "False"
            ]
          },
          "metadata": {},
          "execution_count": 21
        }
      ]
    },
    {
      "cell_type": "code",
      "source": [
        "age_0 = 22\n",
        "age_1 = 18\n",
        "age_0 >= 21 and age_1 >= 21\n",
        "age_1 = 22\n",
        "age_0 >=21 and age_1>=21"
      ],
      "metadata": {
        "colab": {
          "base_uri": "https://localhost:8080/"
        },
        "id": "BxE_2b-H0rzQ",
        "outputId": "a23e022b-b97b-413c-a5f9-fde606bff72f"
      },
      "execution_count": null,
      "outputs": [
        {
          "output_type": "execute_result",
          "data": {
            "text/plain": [
              "True"
            ]
          },
          "metadata": {},
          "execution_count": 23
        }
      ]
    },
    {
      "cell_type": "code",
      "source": [
        "requested_topping = ['mushrooms', 'onion', 'pineapple']\n",
        "'mushrooms' in requested_topping\n",
        "'peppersoni' in requested_topping"
      ],
      "metadata": {
        "colab": {
          "base_uri": "https://localhost:8080/"
        },
        "id": "7uuMv55E0-qn",
        "outputId": "b2f610f8-e587-4fb4-dd12-1e9e939b8ea6"
      },
      "execution_count": null,
      "outputs": [
        {
          "output_type": "execute_result",
          "data": {
            "text/plain": [
              "False"
            ]
          },
          "metadata": {},
          "execution_count": 25
        }
      ]
    },
    {
      "cell_type": "code",
      "source": [
        "banned_users = ['andrew', 'carolina', 'david']\n",
        "user = 'marie'\n",
        "if user not in banned_users:\n",
        "  print(f\"{user.title()}, you can post a response if you wish.\")"
      ],
      "metadata": {
        "colab": {
          "base_uri": "https://localhost:8080/"
        },
        "id": "D1ewBvZl1TXG",
        "outputId": "dc80db7e-915b-4068-bfc8-446ce85c1c94"
      },
      "execution_count": null,
      "outputs": [
        {
          "output_type": "stream",
          "name": "stdout",
          "text": [
            "Marie, you can post a response if you wish.\n"
          ]
        }
      ]
    },
    {
      "cell_type": "code",
      "source": [
        "age = 17\n",
        "if age >=18:\n",
        "  print(\"you are old enough to vote!\")\n",
        "  print(\"have you registered to vote yet?\")\n",
        "else:\n",
        "  print (\"sorry you are too young to vote\")\n",
        "  print(\"please register to vote when you are 18\")"
      ],
      "metadata": {
        "colab": {
          "base_uri": "https://localhost:8080/"
        },
        "id": "E_q3f-Cr1nbr",
        "outputId": "39412a86-6239-49cf-c08b-200090010fe7"
      },
      "execution_count": null,
      "outputs": [
        {
          "output_type": "stream",
          "name": "stdout",
          "text": [
            "sorry you are too young to vote\n",
            "please register to vote when you are 18\n"
          ]
        }
      ]
    },
    {
      "cell_type": "code",
      "source": [
        "age = 12\n",
        "if age < 4:\n",
        "  print(\"your admission cost is $0\")\n",
        "elif age <18:\n",
        "    print(\"your admission cost is $25\")\n",
        "else:\n",
        "  print(\"your admission cost is $40\")"
      ],
      "metadata": {
        "colab": {
          "base_uri": "https://localhost:8080/"
        },
        "id": "aidqLru02LIv",
        "outputId": "6d99da45-aa6f-4621-8c2c-1c47c483bd2c"
      },
      "execution_count": null,
      "outputs": [
        {
          "output_type": "stream",
          "name": "stdout",
          "text": [
            "your admission cost is $25\n"
          ]
        }
      ]
    },
    {
      "cell_type": "code",
      "source": [
        "age = 12\n",
        "if age < 4:\n",
        "  price = 0\n",
        "elif age <18:\n",
        "   price = 25\n",
        "elif age <65:\n",
        "  price = 40\n",
        "else:\n",
        "  price = 40\n",
        "\n",
        "print(f\"your admission cost is ${price}.\")"
      ],
      "metadata": {
        "colab": {
          "base_uri": "https://localhost:8080/"
        },
        "id": "LqzCJV3N2vXf",
        "outputId": "3ae7023b-9099-4d2b-fe29-013c71b6c4b3"
      },
      "execution_count": null,
      "outputs": [
        {
          "output_type": "stream",
          "name": "stdout",
          "text": [
            "your admission cost is $25.\n"
          ]
        }
      ]
    },
    {
      "cell_type": "code",
      "source": [
        "requested_toppings = ['mushrooms', 'extra cheese']\n",
        "\n",
        "if 'mushrooms' in requested_toppings:\n",
        "  print ('Adding mushrooms.')\n",
        "elif 'pepperoni' in requested_toppings:\n",
        "  print(\"adding pepperoni.\")\n",
        "elif 'extra cheese' in requested_toppings:\n",
        "  print('adding extra cheese')\n",
        "\n",
        "print(\"\\nFinished making your pizza!\")"
      ],
      "metadata": {
        "colab": {
          "base_uri": "https://localhost:8080/"
        },
        "id": "i8D6PyT33WAd",
        "outputId": "09206c0b-045b-47c6-ee9b-be57a76c3401"
      },
      "execution_count": null,
      "outputs": [
        {
          "output_type": "stream",
          "name": "stdout",
          "text": [
            "Adding mushrooms.\n",
            "\n",
            "Finished making your pizza!\n"
          ]
        }
      ]
    },
    {
      "cell_type": "code",
      "source": [
        "requested_toppings = ['mushrooms', 'green peppers', 'extra cheese']\n",
        "for requested_toppings in requested_toppings:\n",
        "  if requested_toppings == 'green peppers':\n",
        "    print(\"sorry we are out of green peppers right now\")\n",
        "  print(f\"Adding {requested_toppings}.\")\n",
        "\n",
        "print(\"\\nFinished making your pizza!\")"
      ],
      "metadata": {
        "colab": {
          "base_uri": "https://localhost:8080/"
        },
        "id": "PgRfiW1v3wmh",
        "outputId": "acfbc278-be4f-4c78-ae0f-e198bcc7e59e"
      },
      "execution_count": null,
      "outputs": [
        {
          "output_type": "stream",
          "name": "stdout",
          "text": [
            "Adding mushrooms.\n",
            "sorry we are out of green peppers right now\n",
            "Adding green peppers.\n",
            "Adding extra cheese.\n",
            "\n",
            "Finished making your pizza!\n"
          ]
        }
      ]
    },
    {
      "cell_type": "code",
      "source": [
        "avaliable_toppings = ['mushrooms', 'olives', 'green peppers', 'pepperoni', 'pineapple', 'extra cheese']\n",
        "requested_toppings = ['mushrooms', ' frech fries', 'extra cheese']\n",
        "\n",
        "for requested_topping in requested_toppings:\n",
        "  if requested_topping in avaliable_toppings:\n",
        "    print(f\"Adding {requested_topping}.\")\n",
        "  else:\n",
        "    print(f\"sorry we don't have {requested_topping}.\")\n",
        "\n",
        "print('\\Finished making pizza!')"
      ],
      "metadata": {
        "colab": {
          "base_uri": "https://localhost:8080/"
        },
        "id": "axjL_Fo26z19",
        "outputId": "1facb33e-3554-497a-b017-11b7b78ae835"
      },
      "execution_count": null,
      "outputs": [
        {
          "output_type": "stream",
          "name": "stdout",
          "text": [
            "Adding mushrooms.\n",
            "sorry we don't have  frech fries.\n",
            "Adding extra cheese.\n",
            "\\Finished making pizza!\n"
          ]
        }
      ]
    },
    {
      "cell_type": "code",
      "source": [
        "name = 'Lily'\n",
        "print(\"Is name == 'Lily'? I predict true\")\n",
        "print(name == 'Lily')\n",
        "\n",
        "name = 'Emma'\n",
        "print(\"Is name == 'Emma'? I predict true\")\n",
        "print(name == 'Emma')\n",
        "\n",
        "name = 'Olivia'\n",
        "print(\"Is name == 'Olivai'? I predict true\")\n",
        "print(name == 'Olivia')\n",
        "\n",
        "name = 'Tahsa'\n",
        "print(\"Is name == 'Tasha'? I predict true\")\n",
        "print(name == 'Tasha')\n",
        "\n",
        "name = 'Marcy'\n",
        "print(\"Is name == 'Marcy'? I predict true\")\n",
        "print(name == 'Marcy')\n",
        "\n",
        "name = 'Brighton'\n",
        "print(\"Is name == 'Brighton'? I predict False\")\n",
        "print(name == 'Lily')\n",
        "\n",
        "name = 'Emma'\n",
        "print(\"Is name == 'Juniper'? I predict False\")\n",
        "print(name == 'Juniper')\n",
        "\n",
        "name = 'Fiona'\n",
        "print(\"Is name == 'Fiona'? I predict False\")\n",
        "print(name == 'Marcy')\n",
        "\n",
        "name = 'Shadow'\n",
        "print(\"Is name == 'Gidget'? I predict False\")\n",
        "print(name == 'Gidget')\n",
        "\n",
        "name = 'Blu'\n",
        "print(\"Is name == 'Penny'? I predict False\")\n",
        "print(name == 'Penny')"
      ],
      "metadata": {
        "colab": {
          "base_uri": "https://localhost:8080/"
        },
        "id": "V93gHjKq8OZa",
        "outputId": "1d4d6fbd-6b94-45e2-b11e-a55170b1d6c3"
      },
      "execution_count": null,
      "outputs": [
        {
          "output_type": "stream",
          "name": "stdout",
          "text": [
            "Is name == 'Lily'? I predict true\n",
            "True\n",
            "Is name == 'Emma'? I predict true\n",
            "True\n",
            "Is name == 'Olivai'? I predict true\n",
            "True\n",
            "Is name == 'Tasha'? I predict true\n",
            "False\n",
            "Is name == 'Marcy'? I predict true\n",
            "True\n",
            "Is name == 'Brighton'? I predict False\n",
            "False\n",
            "Is name == 'Juniper'? I predict False\n",
            "False\n",
            "Is name == 'Fiona'? I predict False\n",
            "False\n",
            "Is name == 'Gidget'? I predict False\n",
            "False\n",
            "Is name == 'Penny'? I predict False\n",
            "False\n"
          ]
        }
      ]
    },
    {
      "cell_type": "code",
      "source": [
        "test = \"even\"\n",
        "print(test==\"even\")\n",
        "print(test != \"even\")"
      ],
      "metadata": {
        "colab": {
          "base_uri": "https://localhost:8080/"
        },
        "id": "4nMsJy69tNQD",
        "outputId": "6eae1a14-fbc9-4470-fa48-8fe5a1e675b1"
      },
      "execution_count": null,
      "outputs": [
        {
          "output_type": "stream",
          "name": "stdout",
          "text": [
            "True\n",
            "False\n"
          ]
        }
      ]
    },
    {
      "cell_type": "code",
      "source": [
        "test = \"even\"\n",
        "print (test.lower() == \"even\")"
      ],
      "metadata": {
        "colab": {
          "base_uri": "https://localhost:8080/"
        },
        "id": "9myHof1Gwb_h",
        "outputId": "0d7bce37-b942-46af-a2b4-924803768aad"
      },
      "execution_count": null,
      "outputs": [
        {
          "output_type": "stream",
          "name": "stdout",
          "text": [
            "True\n"
          ]
        }
      ]
    },
    {
      "cell_type": "code",
      "source": [
        "number = 5\n",
        "print(number > 7)\n",
        "print(number <10)\n",
        "print(number <= 5)\n",
        "print(number >= 3)"
      ],
      "metadata": {
        "colab": {
          "base_uri": "https://localhost:8080/"
        },
        "id": "L3QTuoD6wqWa",
        "outputId": "edd11403-3845-4aa1-bc39-f9f3311dd054"
      },
      "execution_count": null,
      "outputs": [
        {
          "output_type": "stream",
          "name": "stdout",
          "text": [
            "False\n",
            "True\n",
            "True\n",
            "True\n"
          ]
        }
      ]
    },
    {
      "cell_type": "code",
      "source": [
        "print(\"I am not doing the rest of this section because it is repeititive of the work I did in the examples section\")"
      ],
      "metadata": {
        "colab": {
          "base_uri": "https://localhost:8080/"
        },
        "id": "OOQWnilFw-Lt",
        "outputId": "c2135b6b-de52-488d-c929-0fc016f27b41"
      },
      "execution_count": null,
      "outputs": [
        {
          "output_type": "stream",
          "name": "stdout",
          "text": [
            "I am not doing the rest of this section because it is repeititive of the work I did in the examples section\n"
          ]
        }
      ]
    },
    {
      "cell_type": "code",
      "source": [
        "alien_color = ['green', 'yellow', 'red']\n",
        "if 'green' in alien_color:\n",
        "  print(\"you have earned 5 points\")"
      ],
      "metadata": {
        "colab": {
          "base_uri": "https://localhost:8080/"
        },
        "id": "UEJIBizByTJf",
        "outputId": "c1f2f010-9135-44aa-ad7e-07ff0ba05534"
      },
      "execution_count": null,
      "outputs": [
        {
          "output_type": "stream",
          "name": "stdout",
          "text": [
            "you have earned 5 points\n"
          ]
        }
      ]
    },
    {
      "cell_type": "code",
      "source": [
        "alien_color = ['green', 'yellow', 'red']\n",
        "if 'green' in alien_color:\n",
        "  print(\"you have earned 5 points\")\n",
        "else:\n",
        "  print(\"you have earned 10 points\")"
      ],
      "metadata": {
        "colab": {
          "base_uri": "https://localhost:8080/"
        },
        "id": "IQYfd181zvQB",
        "outputId": "499a52a9-5119-4cd6-e922-d9302b061e47"
      },
      "execution_count": null,
      "outputs": [
        {
          "output_type": "stream",
          "name": "stdout",
          "text": [
            "you have earned 5 points\n"
          ]
        }
      ]
    },
    {
      "cell_type": "code",
      "source": [
        "alien_color = ['green', 'yellow', 'red']\n",
        "alien_color = 'yellow'\n",
        "if 'green' in alien_color:\n",
        "  print(\"you have earned 5 points\")\n",
        "else:\n",
        "  print(\"you have earned 10 points\")"
      ],
      "metadata": {
        "colab": {
          "base_uri": "https://localhost:8080/"
        },
        "id": "FYV7ObVz0GYz",
        "outputId": "94f33eef-458c-4127-9ca8-de9faf477149"
      },
      "execution_count": null,
      "outputs": [
        {
          "output_type": "stream",
          "name": "stdout",
          "text": [
            "you have earned 10 points\n"
          ]
        }
      ]
    },
    {
      "cell_type": "code",
      "source": [
        "alien_color = ['green', 'yellow', 'red']\n",
        "alien_color = 'red'\n",
        "if 'green' in alien_color:\n",
        "  print(\"you have earned 5 points\")\n",
        "elif 'yellow' in alien_color:\n",
        "  print(\"you have earned 10 points\")\n",
        "else:\n",
        "  print(\"you have earned 15 points\")"
      ],
      "metadata": {
        "colab": {
          "base_uri": "https://localhost:8080/"
        },
        "id": "lUyhVLkg0UKj",
        "outputId": "be4a234d-e926-4e16-92f5-cd2e08b92fa7"
      },
      "execution_count": null,
      "outputs": [
        {
          "output_type": "stream",
          "name": "stdout",
          "text": [
            "you have earned 10 points\n"
          ]
        }
      ]
    },
    {
      "cell_type": "code",
      "source": [
        "alien_color = ['green', 'yellow', 'red']\n",
        "alien_color = 'yellow'\n",
        "if 'green' in alien_color:\n",
        "  print(\"you have earned 5 points\")\n",
        "elif 'yellow' in alien_color:\n",
        "  print(\"you have earned 10 points\")\n",
        "else:\n",
        "  print(\"you have earned 15 points\")"
      ],
      "metadata": {
        "colab": {
          "base_uri": "https://localhost:8080/"
        },
        "id": "4x7JexE_00Ci",
        "outputId": "bffa3908-739b-4a34-8bd0-c5eb023b3027"
      },
      "execution_count": null,
      "outputs": [
        {
          "output_type": "stream",
          "name": "stdout",
          "text": [
            "you have earned 10 points\n"
          ]
        }
      ]
    },
    {
      "cell_type": "code",
      "source": [
        "alien_color = ['green', 'yellow', 'red']\n",
        "alien_color = 'green'\n",
        "if 'green' in alien_color:\n",
        "  print(\"you have earned 5 points\")\n",
        "elif 'yellow' in alien_color:\n",
        "  print(\"you have earned 10 points\")\n",
        "else:\n",
        "  print(\"you have earned 15 points\")"
      ],
      "metadata": {
        "colab": {
          "base_uri": "https://localhost:8080/"
        },
        "id": "U2oo6ctz02wc",
        "outputId": "e55f9802-336f-43e0-f301-cfc6259f3b7e"
      },
      "execution_count": null,
      "outputs": [
        {
          "output_type": "stream",
          "name": "stdout",
          "text": [
            "you have earned 5 points\n"
          ]
        }
      ]
    },
    {
      "cell_type": "code",
      "source": [
        "age=18\n",
        "if age > 2:\n",
        "  print(\"the person is a baby\")\n",
        "elif age == 2:\n",
        "  print(\"the person is a toddler\")\n",
        "elif age <4:\n",
        "  print(\"the person is a kid\")\n",
        "elif age <13:\n",
        "  print(\"the person is a teenager\")\n",
        "elif age <20:\n",
        "  print(\"the person is an adult\")\n",
        "elif age <65:\n",
        "  print(\"the person is an elder\")"
      ],
      "metadata": {
        "colab": {
          "base_uri": "https://localhost:8080/"
        },
        "id": "yDsWqLyE090C",
        "outputId": "9b2acd78-3d45-4357-de03-5f6095e21041"
      },
      "execution_count": null,
      "outputs": [
        {
          "output_type": "stream",
          "name": "stdout",
          "text": [
            "the person is a baby\n"
          ]
        }
      ]
    },
    {
      "cell_type": "markdown",
      "source": [],
      "metadata": {
        "id": "0-m-SqJ5yE5E"
      }
    },
    {
      "cell_type": "code",
      "source": [
        "favorite_fruits = ['watermelon', 'peach', 'strawberry']\n",
        "for favorite_fruits in favorite_fruits:\n",
        "  print(f\"my favorite fruite is {favorite_fruits}\")\n"
      ],
      "metadata": {
        "colab": {
          "base_uri": "https://localhost:8080/"
        },
        "id": "K_zCNucb2CtY",
        "outputId": "987e35c2-b6df-4b88-b263-b1f49cb88e79"
      },
      "execution_count": null,
      "outputs": [
        {
          "output_type": "stream",
          "name": "stdout",
          "text": [
            "my favorite fruite is watermelon\n",
            "my favorite fruite is peach\n",
            "my favorite fruite is strawberry\n"
          ]
        }
      ]
    },
    {
      "cell_type": "code",
      "source": [
        "favorite_fruits = ['watermelon', 'peach', 'strawberry']\n",
        "for favorite_fruits in favorite_fruits:\n",
        "  if favorite_fruits in 'watermelon':\n",
        "    print(\"I really like watermelon\")\n",
        "  elif favorite_fruits in 'peach':\n",
        "    print(\"I really like peach\")\n",
        "  else:\n",
        "    print(\"I really like strawberries\")\n"
      ],
      "metadata": {
        "colab": {
          "base_uri": "https://localhost:8080/"
        },
        "id": "z6ERO8qA2rIS",
        "outputId": "275b8b8f-4743-4002-86e2-627222f3cae1"
      },
      "execution_count": null,
      "outputs": [
        {
          "output_type": "stream",
          "name": "stdout",
          "text": [
            "I really like watermelon\n",
            "I really like peach\n",
            "I really like strawberries\n"
          ]
        }
      ]
    },
    {
      "cell_type": "code",
      "source": [
        "username=['admin', 'secretary', 'janitor', 'staff', 'manager']\n",
        "if username== 'admin':\n",
        "    print(\"Hello admin, would you like to see a status report?\")\n",
        "elif username == \"employee\":\n",
        "    print(\"hello employee\")\n",
        "elif username == \"secretary\":\n",
        "    print(\"hello sectreary\")\n",
        "elif username == \"janitor\":\n",
        "    print(\"hello janitor\")\n",
        "elif username == \"staff\":\n",
        "    print(\"hello staff\")\n",
        "elif username == \"manager\":\n",
        "    print(\"hello manager\")"
      ],
      "metadata": {
        "id": "m6gaA6lk3QKD"
      },
      "execution_count": null,
      "outputs": []
    },
    {
      "cell_type": "code",
      "source": [
        "username=[]\n",
        "if username== 'admin':\n",
        "  print(\"Hello admin, would you like to see a status report?\")\n",
        "elif username == \"employee\":\n",
        "      print(\"hello employee\")\n",
        "elif username == \"secretary\":\n",
        "    print(\"hello sectreary\")\n",
        "elif username == \"janitor\":\n",
        "    print(\"hello janitor\")\n",
        "elif username == \"staff\":\n",
        "    print(\"hello staff\")\n",
        "elif username == \"manager\":\n",
        "    print(\"hello manager\")\n",
        "else:\n",
        "    print(\"we need to find some users!\")"
      ],
      "metadata": {
        "colab": {
          "base_uri": "https://localhost:8080/"
        },
        "id": "SeVnSTB346pm",
        "outputId": "1458db11-c02a-44db-f87b-58044b771384"
      },
      "execution_count": null,
      "outputs": [
        {
          "output_type": "stream",
          "name": "stdout",
          "text": [
            "we need to find some users!\n"
          ]
        }
      ]
    },
    {
      "cell_type": "code",
      "source": [
        "#I am skipping 5-10 becuase it is repeititive of the tasks I have already done. We have made a lot of lists already and worked on if and else statements\n"
      ],
      "metadata": {
        "id": "lJxzCi8z5u7d"
      },
      "execution_count": null,
      "outputs": []
    },
    {
      "cell_type": "code",
      "source": [
        "numbers = (list(range(1,10)))\n",
        "for numbers in numbers:\n",
        "  if numbers == 1:\n",
        "    print(\"1st\")\n",
        "  if numbers == 2:\n",
        "    print(\"2nd\")\n",
        "  if numbers == 3:\n",
        "   print(\"3rd\")\n",
        "  else:\n",
        "    print (str(numbers)+\"th\")"
      ],
      "metadata": {
        "colab": {
          "base_uri": "https://localhost:8080/"
        },
        "id": "PGjOCBfO7HF1",
        "outputId": "9d898826-81c8-47a6-d7a5-b5847bfabaad"
      },
      "execution_count": null,
      "outputs": [
        {
          "output_type": "stream",
          "name": "stdout",
          "text": [
            "1st\n",
            "1th\n",
            "2nd\n",
            "2th\n",
            "3rd\n",
            "4th\n",
            "5th\n",
            "6th\n",
            "7th\n",
            "8th\n",
            "9th\n"
          ]
        }
      ]
    },
    {
      "cell_type": "code",
      "source": [
        "#some ideas that I have had since the start of this chapter is that coding adn lists can help with a lot more than I imagined\n",
        "#from things like groceries to even tracking staff, it can organize and find solutions easily!\n",
        "#a game that I think would be interesting to write would be something like hangman, just because it would be challenging yet the concept of the game would be familiar"
      ],
      "metadata": {
        "id": "GMQmWuQR7P3A"
      },
      "execution_count": null,
      "outputs": []
    },
    {
      "cell_type": "markdown",
      "source": [],
      "metadata": {
        "id": "tpFv_5Az-HRp"
      }
    },
    {
      "cell_type": "markdown",
      "source": [],
      "metadata": {
        "id": "v2-yGdN2-G4p"
      }
    },
    {
      "cell_type": "code",
      "source": [
        "factorial(n) =(list(range(1,n)))\n",
        "product = 1\n",
        "\n",
        "for x in my_list:\n",
        "  product *=x\n",
        "\n",
        "\n",
        "\n"
      ],
      "metadata": {
        "colab": {
          "base_uri": "https://localhost:8080/",
          "height": 161
        },
        "id": "mqS5TPtG-OJx",
        "outputId": "349d2984-5e37-4d7b-847a-61df491cb63c"
      },
      "execution_count": null,
      "outputs": [
        {
          "output_type": "error",
          "ename": "SyntaxError",
          "evalue": "ignored",
          "traceback": [
            "\u001b[0;36m  File \u001b[0;32m\"<ipython-input-68-0aa02dbef736>\"\u001b[0;36m, line \u001b[0;32m1\u001b[0m\n\u001b[0;31m    factorial(n) =(list(range(1,n)))\u001b[0m\n\u001b[0m    ^\u001b[0m\n\u001b[0;31mSyntaxError\u001b[0m\u001b[0;31m:\u001b[0m cannot assign to function call here. Maybe you meant '==' instead of '='?\n"
          ]
        }
      ]
    },
    {
      "cell_type": "code",
      "source": [],
      "metadata": {
        "id": "dzbJWUQ2-4JT"
      },
      "execution_count": null,
      "outputs": []
    }
  ]
}