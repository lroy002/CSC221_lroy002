{
  "nbformat": 4,
  "nbformat_minor": 0,
  "metadata": {
    "colab": {
      "provenance": [],
      "authorship_tag": "ABX9TyP2VkMY/KHgDRCFVbW8KQxU",
      "include_colab_link": true
    },
    "kernelspec": {
      "name": "python3",
      "display_name": "Python 3"
    },
    "language_info": {
      "name": "python"
    }
  },
  "cells": [
    {
      "cell_type": "markdown",
      "metadata": {
        "id": "view-in-github",
        "colab_type": "text"
      },
      "source": [
        "<a href=\"https://colab.research.google.com/github/lroy002/CSC221_lroy002/blob/main/Assigment3tryit.ipynb\" target=\"_parent\"><img src=\"https://colab.research.google.com/assets/colab-badge.svg\" alt=\"Open In Colab\"/></a>"
      ]
    },
    {
      "cell_type": "code",
      "execution_count": null,
      "metadata": {
        "colab": {
          "base_uri": "https://localhost:8080/"
        },
        "id": "5L8D17wUUpCS",
        "outputId": "17bb15ab-658b-4949-9cfc-e6ecd033c78c"
      },
      "outputs": [
        {
          "output_type": "stream",
          "name": "stdout",
          "text": [
            "This is my Assigment three try it section!\n"
          ]
        }
      ],
      "source": [
        "message = \"This is my Assigment three try it section!\"\n",
        "print(message)"
      ]
    },
    {
      "cell_type": "code",
      "source": [
        "message = \"This is my Assignment three try it section!\"\n",
        "print(message)\n",
        "message = \"This is my Assigment three try it section 2-2!\"\n",
        "print(message)"
      ],
      "metadata": {
        "colab": {
          "base_uri": "https://localhost:8080/"
        },
        "id": "h7YzpVZacYFJ",
        "outputId": "fa50b60c-bfec-4c51-f2ed-ed6c85446cf2"
      },
      "execution_count": null,
      "outputs": [
        {
          "output_type": "stream",
          "name": "stdout",
          "text": [
            "This is my Assignment three try it section!\n",
            "This is my Assigment three try it section 2-2!\n"
          ]
        }
      ]
    },
    {
      "cell_type": "code",
      "source": [
        "name = \"Lily\"\n",
        "message = f\"Hello{name.title()}, would you like to learn some python todcay?\"\n"
      ],
      "metadata": {
        "id": "scjMQV1idmWA"
      },
      "execution_count": null,
      "outputs": []
    },
    {
      "cell_type": "code",
      "source": [
        "name = \"lily\"\n",
        "print(name.lower()) #these edit the text to be in upper or loser case, each one doing something slightly different. This line makes the test in all lower case\n",
        "print(name.upper()) #this line makes the text all uppercase\n",
        "print(name.title()) #this line makes the first letter of the word in uppercase"
      ],
      "metadata": {
        "colab": {
          "base_uri": "https://localhost:8080/"
        },
        "id": "gL2e_qVtfLTM",
        "outputId": "49e03b6f-d0d5-4357-aab0-1513fcb1eaae"
      },
      "execution_count": null,
      "outputs": [
        {
          "output_type": "stream",
          "name": "stdout",
          "text": [
            "lily\n",
            "LILY\n",
            "Lily\n"
          ]
        }
      ]
    },
    {
      "cell_type": "code",
      "source": [
        "print('Taylor Swift once said, \"How can a person know everthing at eighteen')\n",
        "print('but nothing at twenty-two?\"')"
      ],
      "metadata": {
        "colab": {
          "base_uri": "https://localhost:8080/"
        },
        "id": "2KxrlDwsfqh2",
        "outputId": "48610451-94f8-4a58-9051-72a8c7f173c0"
      },
      "execution_count": null,
      "outputs": [
        {
          "output_type": "stream",
          "name": "stdout",
          "text": [
            "Taylor Swift once said, \"How can a person know everthing at eighteen\n",
            "but nothing at twenty-two?\"\n"
          ]
        }
      ]
    },
    {
      "cell_type": "code",
      "source": [
        "famous_person = 'Taylor Swift'\n",
        "message = f'{famous_person} once said, \"How can a person know everthing at eighteen, but nothing at twenty-two?\"'\n",
        "print(message)"
      ],
      "metadata": {
        "colab": {
          "base_uri": "https://localhost:8080/"
        },
        "id": "b9tbnFQsN8n3",
        "outputId": "3d6eb8c5-3a3b-44d3-cb0e-d2cdce292cad"
      },
      "execution_count": null,
      "outputs": [
        {
          "output_type": "stream",
          "name": "stdout",
          "text": [
            "Taylor Swift once said, \"How can a person know everthing at eighteen, but nothing at twenty-two?\"\n"
          ]
        }
      ]
    },
    {
      "cell_type": "code",
      "source": [
        "name = \"\\tLily Roy\\n\"\n",
        "\n",
        "print(\"Unmodified:\")\n",
        "print (name)\n",
        "\n",
        "print: (\"\\nUsing lstrip():\")\n",
        "print (name.lstrip())\n",
        "\n",
        "print: (\"\\nUsing rstrip():\")\n",
        "print (name.rstrip())\n",
        "\n",
        "print: (\"\\nUsing strip():\")\n",
        "print(name.strip())"
      ],
      "metadata": {
        "colab": {
          "base_uri": "https://localhost:8080/"
        },
        "id": "CdN3C3PUOhMf",
        "outputId": "fd477e72-5915-4046-ac9e-f3960d7ed4db"
      },
      "execution_count": null,
      "outputs": [
        {
          "output_type": "stream",
          "name": "stdout",
          "text": [
            "Unmodified:\n",
            "\tLily Roy\n",
            "\n",
            "Lily Roy\n",
            "\n",
            "\tLily Roy\n",
            "Lily Roy\n"
          ]
        }
      ]
    },
    {
      "cell_type": "code",
      "source": [
        "filename = 'python_notes.txt'\n",
        "simple_filename = filename.removesuffix('.txt')\n",
        "print (simple_filename)"
      ],
      "metadata": {
        "colab": {
          "base_uri": "https://localhost:8080/"
        },
        "id": "D8B6X1A_PVK1",
        "outputId": "3539db5b-cd37-4603-8dae-5b24ee5c52ce"
      },
      "execution_count": null,
      "outputs": [
        {
          "output_type": "stream",
          "name": "stdout",
          "text": [
            "python_notes\n"
          ]
        }
      ]
    },
    {
      "cell_type": "code",
      "source": [
        "print (4 + 4)"
      ],
      "metadata": {
        "colab": {
          "base_uri": "https://localhost:8080/"
        },
        "id": "g2JVDeBsRplY",
        "outputId": "7f6da0e3-9002-4c68-cf6b-01d6ced0c7cf"
      },
      "execution_count": null,
      "outputs": [
        {
          "output_type": "stream",
          "name": "stdout",
          "text": [
            "8\n"
          ]
        }
      ]
    },
    {
      "cell_type": "code",
      "source": [
        "print (10-2)"
      ],
      "metadata": {
        "colab": {
          "base_uri": "https://localhost:8080/"
        },
        "id": "tokOkaSBR1Ex",
        "outputId": "cd4f9944-f0a2-43ad-e329-c897846a3ee2"
      },
      "execution_count": null,
      "outputs": [
        {
          "output_type": "stream",
          "name": "stdout",
          "text": [
            "8\n"
          ]
        }
      ]
    },
    {
      "cell_type": "code",
      "source": [
        "print (4 * 2)"
      ],
      "metadata": {
        "colab": {
          "base_uri": "https://localhost:8080/"
        },
        "id": "xNy5itQsR34h",
        "outputId": "210ac8f7-a78f-4cd4-abbe-756f7f77880f"
      },
      "execution_count": null,
      "outputs": [
        {
          "output_type": "stream",
          "name": "stdout",
          "text": [
            "8\n"
          ]
        }
      ]
    },
    {
      "cell_type": "code",
      "source": [
        "print (16 / 2)\n"
      ],
      "metadata": {
        "colab": {
          "base_uri": "https://localhost:8080/"
        },
        "id": "6vcCC8cKR6lA",
        "outputId": "7af2ebdb-8617-4893-96db-4344807f34a7"
      },
      "execution_count": null,
      "outputs": [
        {
          "output_type": "stream",
          "name": "stdout",
          "text": [
            "8.0\n"
          ]
        }
      ]
    },
    {
      "cell_type": "code",
      "source": [
        "favorite_number = 23 #this creates a file name to later reference in the code to add the, in this case, number to the line.\n",
        "message = f\"My all time favorite number is {favorite_number}\"\n",
        "print (message)"
      ],
      "metadata": {
        "colab": {
          "base_uri": "https://localhost:8080/"
        },
        "id": "Yz1loPWeR9Wo",
        "outputId": "a972148e-ea51-46d3-d674-f81b55da947b"
      },
      "execution_count": null,
      "outputs": [
        {
          "output_type": "stream",
          "name": "stdout",
          "text": [
            "My all time favorite number is 23\n"
          ]
        }
      ]
    },
    {
      "cell_type": "code",
      "source": [],
      "metadata": {
        "id": "BNDkOH8PTR9y"
      },
      "execution_count": null,
      "outputs": []
    }
  ]
}