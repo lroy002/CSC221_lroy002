{
  "nbformat": 4,
  "nbformat_minor": 0,
  "metadata": {
    "colab": {
      "provenance": [],
      "authorship_tag": "ABX9TyNbpA/cJEqv4/+9fPyytjv6",
      "include_colab_link": true
    },
    "kernelspec": {
      "name": "python3",
      "display_name": "Python 3"
    },
    "language_info": {
      "name": "python"
    }
  },
  "cells": [
    {
      "cell_type": "markdown",
      "metadata": {
        "id": "view-in-github",
        "colab_type": "text"
      },
      "source": [
        "<a href=\"https://colab.research.google.com/github/lroy002/CSC221_lroy002/blob/main/Assignment8.ipynb\" target=\"_parent\"><img src=\"https://colab.research.google.com/assets/colab-badge.svg\" alt=\"Open In Colab\"/></a>"
      ]
    },
    {
      "cell_type": "code",
      "execution_count": 1,
      "metadata": {
        "colab": {
          "base_uri": "https://localhost:8080/"
        },
        "id": "U1u3hqqrbtv2",
        "outputId": "79a5516b-64d3-4c47-8ca1-4728f2b50672"
      },
      "outputs": [
        {
          "output_type": "stream",
          "name": "stdout",
          "text": [
            "tell me something, and I will repeat it back to you: Hello Everyone\n",
            "Hello Everyone\n"
          ]
        }
      ],
      "source": [
        "message = input(\"tell me something, and I will repeat it back to you: \")\n",
        "print(message)"
      ]
    },
    {
      "cell_type": "code",
      "source": [
        "name = input(\"please enter your name: \")\n",
        "print(f\"\\n Hello, {name}!\")"
      ],
      "metadata": {
        "colab": {
          "base_uri": "https://localhost:8080/"
        },
        "id": "LotWFIMQcAYI",
        "outputId": "bf88d5b7-a102-4a33-f0c8-056f89860c73"
      },
      "execution_count": 3,
      "outputs": [
        {
          "output_type": "stream",
          "name": "stdout",
          "text": [
            "please enter your name: Lily\n",
            "\n",
            "Hello,, Lily!\n"
          ]
        }
      ]
    },
    {
      "cell_type": "code",
      "source": [
        "prompt = \"if you share your name, we can personalize the message you see.\"\n",
        "prompt += '\\nWhat is your first name?'\n",
        "\n",
        "name = input(prompt)\n",
        "print(f\" Hello, {name}!\")"
      ],
      "metadata": {
        "colab": {
          "base_uri": "https://localhost:8080/"
        },
        "id": "_U0iIo7wcOa6",
        "outputId": "0b60140e-3e49-4835-b8cc-090253981599"
      },
      "execution_count": 6,
      "outputs": [
        {
          "output_type": "stream",
          "name": "stdout",
          "text": [
            "if you share your name, we can personalize the message you see.\n",
            "What is your first name?lil\n",
            " Hello, lil!\n"
          ]
        }
      ]
    },
    {
      "cell_type": "code",
      "source": [
        "age = input(\"how old are you?\")\n",
        "age\n"
      ],
      "metadata": {
        "colab": {
          "base_uri": "https://localhost:8080/",
          "height": 53
        },
        "id": "ggI3FxU2dM2N",
        "outputId": "5fe1e63e-1c89-4c19-d848-660118ff23e3"
      },
      "execution_count": 8,
      "outputs": [
        {
          "name": "stdout",
          "output_type": "stream",
          "text": [
            "how old are you?21\n"
          ]
        },
        {
          "output_type": "execute_result",
          "data": {
            "text/plain": [
              "'21'"
            ],
            "application/vnd.google.colaboratory.intrinsic+json": {
              "type": "string"
            }
          },
          "metadata": {},
          "execution_count": 8
        }
      ]
    },
    {
      "cell_type": "code",
      "source": [
        "age = input(\"how old are you \")\n",
        "\n",
        "age = int(age)\n",
        "age >=18"
      ],
      "metadata": {
        "colab": {
          "base_uri": "https://localhost:8080/"
        },
        "id": "g49scJnSdezf",
        "outputId": "4fc54e74-6550-44d2-f439-cc388ddfc7be"
      },
      "execution_count": 10,
      "outputs": [
        {
          "name": "stdout",
          "output_type": "stream",
          "text": [
            "how old are you 21\n"
          ]
        },
        {
          "output_type": "execute_result",
          "data": {
            "text/plain": [
              "True"
            ]
          },
          "metadata": {},
          "execution_count": 10
        }
      ]
    },
    {
      "cell_type": "code",
      "source": [
        "height = input(\"how tall are you, in inches\")\n",
        "height = int(height)\n",
        "\n",
        "if height >= 48:\n",
        "  print(\"\\n You're tall enough to ride!\")\n",
        "\n",
        "else:\n",
        "  print(\"\\nYou'll be able to ride when you are a little older.\")"
      ],
      "metadata": {
        "colab": {
          "base_uri": "https://localhost:8080/"
        },
        "id": "eSUSXXUIdwnM",
        "outputId": "d8012bf7-4ead-4de7-8ea3-67b0b53f9d5c"
      },
      "execution_count": 12,
      "outputs": [
        {
          "output_type": "stream",
          "name": "stdout",
          "text": [
            "how tall are you, in inches50\n",
            "\n",
            " You're tall enough to ride!\n"
          ]
        }
      ]
    },
    {
      "cell_type": "code",
      "source": [
        "4%3"
      ],
      "metadata": {
        "colab": {
          "base_uri": "https://localhost:8080/"
        },
        "id": "UlwX1cc9pIBT",
        "outputId": "dcb7f974-466c-4264-ae42-55a047c9e17e"
      },
      "execution_count": 13,
      "outputs": [
        {
          "output_type": "execute_result",
          "data": {
            "text/plain": [
              "1"
            ]
          },
          "metadata": {},
          "execution_count": 13
        }
      ]
    },
    {
      "cell_type": "code",
      "source": [
        "5%3"
      ],
      "metadata": {
        "colab": {
          "base_uri": "https://localhost:8080/"
        },
        "id": "w8kejeKapPCP",
        "outputId": "2ce0e2b7-5254-4c1e-cf4f-3b595073cf04"
      },
      "execution_count": 14,
      "outputs": [
        {
          "output_type": "execute_result",
          "data": {
            "text/plain": [
              "2"
            ]
          },
          "metadata": {},
          "execution_count": 14
        }
      ]
    },
    {
      "cell_type": "code",
      "source": [
        "6%3"
      ],
      "metadata": {
        "colab": {
          "base_uri": "https://localhost:8080/"
        },
        "id": "FseWZjNmpQYq",
        "outputId": "12cc4443-7691-4790-a317-279e95dfae82"
      },
      "execution_count": 15,
      "outputs": [
        {
          "output_type": "execute_result",
          "data": {
            "text/plain": [
              "0"
            ]
          },
          "metadata": {},
          "execution_count": 15
        }
      ]
    },
    {
      "cell_type": "code",
      "source": [
        "7%3"
      ],
      "metadata": {
        "colab": {
          "base_uri": "https://localhost:8080/"
        },
        "id": "zECQhbf6pRz0",
        "outputId": "43572a1f-28df-45ef-a519-62970275ebd8"
      },
      "execution_count": 16,
      "outputs": [
        {
          "output_type": "execute_result",
          "data": {
            "text/plain": [
              "1"
            ]
          },
          "metadata": {},
          "execution_count": 16
        }
      ]
    },
    {
      "cell_type": "code",
      "source": [
        "number = input(\"Enter a number, and I'll tell you if it's odd or even:\")\n",
        "number = int(number)\n",
        "\n",
        "if number % 2 == 0:\n",
        "  print(f\"\\nThe number {number} is even\")\n",
        "else:\n",
        "  print(f\"\\nThe numeber {number} is odd\")"
      ],
      "metadata": {
        "colab": {
          "base_uri": "https://localhost:8080/"
        },
        "id": "Ngta4gp-pTIJ",
        "outputId": "61888827-eb31-48ce-e102-38383a98711e"
      },
      "execution_count": 17,
      "outputs": [
        {
          "output_type": "stream",
          "name": "stdout",
          "text": [
            "Enter a number, and I'll tell you if it's odd or even:23\n",
            "\n",
            "The numeber 23 is odd\n"
          ]
        }
      ]
    },
    {
      "cell_type": "code",
      "source": [
        "prompt = \"\\nTell me something, and I will repeat it back to you:\"\n",
        "prompt += \"\\nEnter 'quit' to end the program.\"\n",
        "\n",
        "message = \"\"\n",
        "while message != 'quit':\n",
        "  message = input(prompt)\n",
        "  print(message)"
      ],
      "metadata": {
        "colab": {
          "base_uri": "https://localhost:8080/"
        },
        "id": "AXtxC9f6pw-s",
        "outputId": "a37db2c0-dd4f-4208-f08f-2872286d1fb3"
      },
      "execution_count": 20,
      "outputs": [
        {
          "output_type": "stream",
          "name": "stdout",
          "text": [
            "\n",
            "Tell me something, and I will repeat it back to you:\n",
            "Enter 'quit' to end the program.quit\n",
            "quit\n"
          ]
        }
      ]
    },
    {
      "cell_type": "code",
      "source": [
        "prompt = \"\\nTell me something, and I will repeat it back to you:\"\n",
        "prompt += \"\\nEnter 'quit' to end the program.\"\n",
        "\n",
        "message = \"\"\n",
        "while message != 'quit':\n",
        "  message = input(prompt)\n",
        "\n",
        "  if message != 'quit':\n",
        "    print(message)"
      ],
      "metadata": {
        "colab": {
          "base_uri": "https://localhost:8080/"
        },
        "id": "aIRBUHnTDJ3L",
        "outputId": "3c2dd6a5-6893-4c21-ea42-adfd7ee64236"
      },
      "execution_count": 21,
      "outputs": [
        {
          "name": "stdout",
          "output_type": "stream",
          "text": [
            "\n",
            "Tell me something, and I will repeat it back to you:\n",
            "Enter 'quit' to end the program.hi\n",
            "hi\n",
            "\n",
            "Tell me something, and I will repeat it back to you:\n",
            "Enter 'quit' to end the program.quit\n"
          ]
        }
      ]
    },
    {
      "cell_type": "code",
      "source": [
        "prompt = \"\\nTell me something, and I will repeat it back to you:\"\n",
        "prompt += \"\\nEnter 'quit' to end the program.\"\n",
        "\n",
        "active = True\n",
        "while active:\n",
        "  message = input(prompt)\n",
        "\n",
        "  if message == 'quit':\n",
        "    active = False\n",
        "  else:\n",
        "    print(message)\n",
        "\n"
      ],
      "metadata": {
        "colab": {
          "base_uri": "https://localhost:8080/"
        },
        "id": "4Um6Qnt2DZlM",
        "outputId": "00558449-b06d-4803-b7b3-baff54f3a3ab"
      },
      "execution_count": 22,
      "outputs": [
        {
          "name": "stdout",
          "output_type": "stream",
          "text": [
            "\n",
            "Tell me something, and I will repeat it back to you:\n",
            "Enter 'quit' to end the program.hi\n",
            "hi\n",
            "\n",
            "Tell me something, and I will repeat it back to you:\n",
            "Enter 'quit' to end the program.quit\n"
          ]
        }
      ]
    },
    {
      "cell_type": "code",
      "source": [
        "prompt = \"\\nPlease enter the number of a city you have visited:\"\n",
        "prompt += \"\\n(Enter 'quit' when you are finsihed.)\"\n",
        "\n",
        "while True:\n",
        "  city = input(prompt)\n",
        "\n",
        "  if city == 'quit':\n",
        "    break\n",
        "  else:\n",
        "    print(f\"I'd love to go to {city.title()}!\")"
      ],
      "metadata": {
        "colab": {
          "base_uri": "https://localhost:8080/"
        },
        "id": "uxYBvF7ODxkV",
        "outputId": "0fab47d5-5927-49b4-ffb9-b1242fd21a7e"
      },
      "execution_count": 24,
      "outputs": [
        {
          "name": "stdout",
          "output_type": "stream",
          "text": [
            "\n",
            "Please enter the number of a city you have visited:\n",
            "(Enter 'quit' when you are finsihed.)lg\n",
            "I'd love to go to Lg!\n",
            "\n",
            "Please enter the number of a city you have visited:\n",
            "(Enter 'quit' when you are finsihed.)quit\n"
          ]
        }
      ]
    },
    {
      "cell_type": "code",
      "source": [
        "current_number = 0\n",
        "while current_number < 10:\n",
        "  current_number += 1\n",
        "  if current_number % 2 == 0:\n",
        "    continue\n",
        "\n",
        "  print(current_number)"
      ],
      "metadata": {
        "colab": {
          "base_uri": "https://localhost:8080/"
        },
        "id": "VZTpXXVsEZrZ",
        "outputId": "53576ccb-1ef6-41f0-c929-8119330c9457"
      },
      "execution_count": 25,
      "outputs": [
        {
          "output_type": "stream",
          "name": "stdout",
          "text": [
            "1\n",
            "3\n",
            "5\n",
            "7\n",
            "9\n"
          ]
        }
      ]
    },
    {
      "cell_type": "code",
      "source": [
        "x =1\n",
        "while x <= 5:\n",
        "  print(x)\n",
        "  x+= 1"
      ],
      "metadata": {
        "colab": {
          "base_uri": "https://localhost:8080/"
        },
        "id": "IEHuR7p5E5xo",
        "outputId": "5bb18b2e-3c80-4c2d-bff0-c1148c40561b"
      },
      "execution_count": 26,
      "outputs": [
        {
          "output_type": "stream",
          "name": "stdout",
          "text": [
            "1\n",
            "2\n",
            "3\n",
            "4\n",
            "5\n"
          ]
        }
      ]
    },
    {
      "cell_type": "code",
      "source": [],
      "metadata": {
        "id": "Gr4DubaEFCBK"
      },
      "execution_count": 28,
      "outputs": []
    },
    {
      "cell_type": "code",
      "source": [
        "unconfirmed_users = ['alice', 'brian', 'candace']\n",
        "confirmed_users = []\n",
        "\n",
        "while confirmed_users:\n",
        "  current_user = unconfirmed_users.pop()\n",
        "\n",
        "  print(f\"Verifying user {current_user.title()}\")\n",
        "  confirmed_users.append(current_user)\n",
        "\n",
        "print(\"\\nThe following users have been confimred:\")\n",
        "for confirmed_user in confirmed_users:\n",
        "  print(confirmed_user.title())\n"
      ],
      "metadata": {
        "colab": {
          "base_uri": "https://localhost:8080/"
        },
        "id": "tHZBX87aF2JH",
        "outputId": "db513be1-a936-4d81-822c-3a3a27509f35"
      },
      "execution_count": 30,
      "outputs": [
        {
          "output_type": "stream",
          "name": "stdout",
          "text": [
            "\n",
            "The following users have been confimred:\n"
          ]
        }
      ]
    },
    {
      "cell_type": "code",
      "source": [
        "pets = ['dog', 'cat', 'dog', 'goldfish', 'cat', 'rabbit', 'cat']\n",
        "print(pets)\n",
        "\n",
        "while 'cat' in pets:\n",
        "  pets.remove('cat')\n",
        "\n",
        "print([pets])"
      ],
      "metadata": {
        "colab": {
          "base_uri": "https://localhost:8080/"
        },
        "id": "Pq8EgbCqIJqt",
        "outputId": "b7aa42f4-ea76-4910-f106-62471e76411f"
      },
      "execution_count": 32,
      "outputs": [
        {
          "output_type": "stream",
          "name": "stdout",
          "text": [
            "['dog', 'cat', 'dog', 'goldfish', 'cat', 'rabbit', 'cat']\n",
            "[['dog', 'dog', 'goldfish', 'rabbit']]\n"
          ]
        }
      ]
    },
    {
      "cell_type": "code",
      "source": [
        "responses = {}\n",
        "polling_active = True\n",
        "while polling_active:\n",
        "  name = input(\"\\nWhat is your name?\")\n",
        "  response = input(\"which mountain would you like to climb someday?\")\n",
        "\n",
        "  responses[name] = response\n",
        "\n",
        "  repeat = input(\"would you like to let another person repsond? (yes/no)\")\n",
        "  if repeat == 'no':\n",
        "    polling_active = False\n",
        "\n",
        "  print(\"\\n --- Poll Results ---\")\n",
        "  for name, response in responses.items():\n",
        "    print(f\"{name} would like to climb {response}.\")"
      ],
      "metadata": {
        "colab": {
          "base_uri": "https://localhost:8080/"
        },
        "id": "u5AsCUNdIjpX",
        "outputId": "be95d1c2-7b65-44cb-e1c4-fa03fede703a"
      },
      "execution_count": 34,
      "outputs": [
        {
          "output_type": "stream",
          "name": "stdout",
          "text": [
            "\n",
            "What is your name?lily\n",
            "which mountain would you like to climb someday?por\n",
            "would you like to let another person repsond? (yes/no)no\n",
            "\n",
            " --- Poll Results ---\n",
            "lily would like to climb por.\n"
          ]
        }
      ]
    },
    {
      "cell_type": "code",
      "source": [
        "prompt = \"\\nPlease enter the type of car you are looking for:\"\n",
        "prompt += \"\\n(Enter 'quit' when you are finsihed.)\"\n",
        "\n",
        "while True:\n",
        "  car = input(prompt)\n",
        "\n",
        "  if car == 'quit':\n",
        "    break\n",
        "  else:\n",
        "    print(f\"Let me see if I can find you a {car.title()}!\")"
      ],
      "metadata": {
        "colab": {
          "base_uri": "https://localhost:8080/"
        },
        "id": "DvtaPjO1Kylq",
        "outputId": "2facbf1e-6d37-474e-fdda-89b4b0b96db4"
      },
      "execution_count": 39,
      "outputs": [
        {
          "name": "stdout",
          "output_type": "stream",
          "text": [
            "\n",
            "Please enter the type of car you are looking for:\n",
            "(Enter 'quit' when you are finsihed.)l\n",
            "Let me see if I can find you a L!\n",
            "\n",
            "Please enter the type of car you are looking for:\n",
            "(Enter 'quit' when you are finsihed.)quit\n"
          ]
        }
      ]
    },
    {
      "cell_type": "code",
      "source": [
        "number = input(\"Enter a number here!:\")\n",
        "number = int(number)\n",
        "\n",
        "if number%  10 == 0:\n",
        "  print(str(number) + \" is a multiple of 10!\")\n",
        "\n",
        "else:\n",
        "  print(str(number) + \" is not a multiple of 10.\")"
      ],
      "metadata": {
        "colab": {
          "base_uri": "https://localhost:8080/"
        },
        "id": "NQR7mG06PMMl",
        "outputId": "7c6cd5b5-b8ac-4261-d4a9-04d747ca7b22"
      },
      "execution_count": 43,
      "outputs": [
        {
          "output_type": "stream",
          "name": "stdout",
          "text": [
            "Enter a number here!:9\n",
            "9 is not a multiple of 10.\n"
          ]
        }
      ]
    },
    {
      "cell_type": "code",
      "source": [
        "prompt = \"\\nPlease enter your age here:\"\n",
        "\n",
        "while True:\n",
        "  age = input(prompt)\n",
        "\n",
        "  age = int(age)\n",
        "\n",
        "  if age < 3:\n",
        "    print(\"There is no chareg for your ticket!\")\n",
        "  elif age < 13:\n",
        "    print(\"There is a $10 charge for your ticket!\")\n",
        "  else:\n",
        "    print(\"There is a $15 charge for your ticket!\")"
      ],
      "metadata": {
        "colab": {
          "base_uri": "https://localhost:8080/",
          "height": 613
        },
        "id": "00hm4idBTPAe",
        "outputId": "78512524-b7b9-4a00-e030-7973ae911ffc"
      },
      "execution_count": 48,
      "outputs": [
        {
          "output_type": "stream",
          "name": "stdout",
          "text": [
            "\n",
            "Please enter your age here:9\n",
            "There is a $10 charge for your ticket!\n",
            "\n",
            "Please enter your age here:25\n",
            "There is a $15 charge for your ticket!\n"
          ]
        },
        {
          "output_type": "error",
          "ename": "KeyboardInterrupt",
          "evalue": "ignored",
          "traceback": [
            "\u001b[0;31m---------------------------------------------------------------------------\u001b[0m",
            "\u001b[0;31mKeyboardInterrupt\u001b[0m                         Traceback (most recent call last)",
            "\u001b[0;32m<ipython-input-48-a11bfb982916>\u001b[0m in \u001b[0;36m<cell line: 3>\u001b[0;34m()\u001b[0m\n\u001b[1;32m      2\u001b[0m \u001b[0;34m\u001b[0m\u001b[0m\n\u001b[1;32m      3\u001b[0m \u001b[0;32mwhile\u001b[0m \u001b[0;32mTrue\u001b[0m\u001b[0;34m:\u001b[0m\u001b[0;34m\u001b[0m\u001b[0;34m\u001b[0m\u001b[0m\n\u001b[0;32m----> 4\u001b[0;31m   \u001b[0mage\u001b[0m \u001b[0;34m=\u001b[0m \u001b[0minput\u001b[0m\u001b[0;34m(\u001b[0m\u001b[0mprompt\u001b[0m\u001b[0;34m)\u001b[0m\u001b[0;34m\u001b[0m\u001b[0;34m\u001b[0m\u001b[0m\n\u001b[0m\u001b[1;32m      5\u001b[0m \u001b[0;34m\u001b[0m\u001b[0m\n\u001b[1;32m      6\u001b[0m   \u001b[0mage\u001b[0m \u001b[0;34m=\u001b[0m \u001b[0mint\u001b[0m\u001b[0;34m(\u001b[0m\u001b[0mage\u001b[0m\u001b[0;34m)\u001b[0m\u001b[0;34m\u001b[0m\u001b[0;34m\u001b[0m\u001b[0m\n",
            "\u001b[0;32m/usr/local/lib/python3.10/dist-packages/ipykernel/kernelbase.py\u001b[0m in \u001b[0;36mraw_input\u001b[0;34m(self, prompt)\u001b[0m\n\u001b[1;32m    849\u001b[0m                 \u001b[0;34m\"raw_input was called, but this frontend does not support input requests.\"\u001b[0m\u001b[0;34m\u001b[0m\u001b[0;34m\u001b[0m\u001b[0m\n\u001b[1;32m    850\u001b[0m             )\n\u001b[0;32m--> 851\u001b[0;31m         return self._input_request(str(prompt),\n\u001b[0m\u001b[1;32m    852\u001b[0m             \u001b[0mself\u001b[0m\u001b[0;34m.\u001b[0m\u001b[0m_parent_ident\u001b[0m\u001b[0;34m,\u001b[0m\u001b[0;34m\u001b[0m\u001b[0;34m\u001b[0m\u001b[0m\n\u001b[1;32m    853\u001b[0m             \u001b[0mself\u001b[0m\u001b[0;34m.\u001b[0m\u001b[0m_parent_header\u001b[0m\u001b[0;34m,\u001b[0m\u001b[0;34m\u001b[0m\u001b[0;34m\u001b[0m\u001b[0m\n",
            "\u001b[0;32m/usr/local/lib/python3.10/dist-packages/ipykernel/kernelbase.py\u001b[0m in \u001b[0;36m_input_request\u001b[0;34m(self, prompt, ident, parent, password)\u001b[0m\n\u001b[1;32m    893\u001b[0m             \u001b[0;32mexcept\u001b[0m \u001b[0mKeyboardInterrupt\u001b[0m\u001b[0;34m:\u001b[0m\u001b[0;34m\u001b[0m\u001b[0;34m\u001b[0m\u001b[0m\n\u001b[1;32m    894\u001b[0m                 \u001b[0;31m# re-raise KeyboardInterrupt, to truncate traceback\u001b[0m\u001b[0;34m\u001b[0m\u001b[0;34m\u001b[0m\u001b[0m\n\u001b[0;32m--> 895\u001b[0;31m                 \u001b[0;32mraise\u001b[0m \u001b[0mKeyboardInterrupt\u001b[0m\u001b[0;34m(\u001b[0m\u001b[0;34m\"Interrupted by user\"\u001b[0m\u001b[0;34m)\u001b[0m \u001b[0;32mfrom\u001b[0m \u001b[0;32mNone\u001b[0m\u001b[0;34m\u001b[0m\u001b[0;34m\u001b[0m\u001b[0m\n\u001b[0m\u001b[1;32m    896\u001b[0m             \u001b[0;32mexcept\u001b[0m \u001b[0mException\u001b[0m \u001b[0;32mas\u001b[0m \u001b[0me\u001b[0m\u001b[0;34m:\u001b[0m\u001b[0;34m\u001b[0m\u001b[0;34m\u001b[0m\u001b[0m\n\u001b[1;32m    897\u001b[0m                 \u001b[0mself\u001b[0m\u001b[0;34m.\u001b[0m\u001b[0mlog\u001b[0m\u001b[0;34m.\u001b[0m\u001b[0mwarning\u001b[0m\u001b[0;34m(\u001b[0m\u001b[0;34m\"Invalid Message:\"\u001b[0m\u001b[0;34m,\u001b[0m \u001b[0mexc_info\u001b[0m\u001b[0;34m=\u001b[0m\u001b[0;32mTrue\u001b[0m\u001b[0;34m)\u001b[0m\u001b[0;34m\u001b[0m\u001b[0;34m\u001b[0m\u001b[0m\n",
            "\u001b[0;31mKeyboardInterrupt\u001b[0m: Interrupted by user"
          ]
        }
      ]
    },
    {
      "cell_type": "code",
      "source": [
        "prompt = \"\\nPlease enter your age here:\"\n",
        "prompt += \"\\n(Enter 'quit' when you are finsihed.)\"\n",
        "\n",
        "active = True\n",
        "while True:\n",
        "  age = input(prompt)\n",
        "  if age == 'quit':\n",
        "    break\n",
        "  age = int(age)\n",
        "\n",
        "  if age < 3:\n",
        "    print(\"There is no chareg for your ticket!\")\n",
        "  elif age < 13:\n",
        "    print(\"There is a $10 charge for your ticket!\")\n",
        "  else:\n",
        "    print(\"There is a $15 charge for your ticket!\")"
      ],
      "metadata": {
        "colab": {
          "base_uri": "https://localhost:8080/"
        },
        "id": "CU_9gVFdU4f3",
        "outputId": "e55781fa-3ae6-437e-f5a7-4ef481084ac0"
      },
      "execution_count": 49,
      "outputs": [
        {
          "name": "stdout",
          "output_type": "stream",
          "text": [
            "\n",
            "Please enter your age here:\n",
            "(Enter 'quit' when you are finsihed.)9\n",
            "There is a $10 charge for your ticket!\n",
            "\n",
            "Please enter your age here:\n",
            "(Enter 'quit' when you are finsihed.)7\n",
            "There is a $10 charge for your ticket!\n",
            "\n",
            "Please enter your age here:\n",
            "(Enter 'quit' when you are finsihed.)55\n",
            "There is a $15 charge for your ticket!\n",
            "\n",
            "Please enter your age here:\n",
            "(Enter 'quit' when you are finsihed.)quit\n"
          ]
        }
      ]
    },
    {
      "cell_type": "code",
      "source": [
        "sandwich_orders = ['veggie wrap', 'buffalo chicken wrap', 'BLT', 'turkey club']\n",
        "finsihed_sandwiches = []\n",
        "\n",
        "while sandwich_orders:\n",
        "  processing_sandwich = sandwich_orders.pop()\n",
        "  print(\"I am making your \" + processing_sandwich + \"!\")\n",
        "  finsihed_sandwiches.append(processing_sandwich)\n",
        "\n",
        "print(\"\\n\")\n",
        "for sandwich in finsihed_sandwiches:\n",
        "  print(\"I am finsihed making your\" + sandwich)\n"
      ],
      "metadata": {
        "colab": {
          "base_uri": "https://localhost:8080/"
        },
        "id": "KptPSUJuYf_v",
        "outputId": "bc55bf2a-2a2c-4685-c2f6-37c47ff1d7fa"
      },
      "execution_count": 57,
      "outputs": [
        {
          "output_type": "stream",
          "name": "stdout",
          "text": [
            "I am making your turkey club!\n",
            "I am making your BLT!\n",
            "I am making your buffalo chicken wrap!\n",
            "I am making your veggie wrap!\n",
            "\n",
            "\n",
            "I am finsihed making yourturkey club\n",
            "I am finsihed making yourBLT\n",
            "I am finsihed making yourbuffalo chicken wrap\n",
            "I am finsihed making yourveggie wrap\n"
          ]
        }
      ]
    },
    {
      "cell_type": "code",
      "source": [
        "\n",
        "prompt = \"\\nTell me a number:\"\n",
        "prompt = \"\\nPick addition, subtraction, or multiplication (+, -, *)\"\n",
        "prompt += \"\\nEnter 'quit' to end the program.\"\n",
        "\n",
        "#while current_number 0:\n",
        "  #current_number += 1\n",
        "  #if current_number % 2 == 0:\n",
        "   ##print(current_number)"
      ],
      "metadata": {
        "id": "WgmeT57nb_xx"
      },
      "execution_count": 2,
      "outputs": []
    },
    {
      "cell_type": "code",
      "source": [
        "print(\"1 Addition\")\n",
        "print(\"2 Subtraction\")\n",
        "print(\"3 Multiplication\")\n",
        "print(\"4 Division\")\n",
        "\n",
        "choice = input(\"Enter your choice here: \")\n",
        "\n",
        "num1 = float(input(\"enter number 1: \"))\n",
        "num2 = float(input(\"enter number 2: \"))\n",
        "\n",
        "if choice == \"1\":\n",
        "  print(num1, \"+\", num2, \"=\", (num1+num2))\n",
        "elif choice == \"2\":\n",
        "  print(num1, \"-\", num2, \"=\", (num1-num2))\n",
        "elif choice == \"3\":\n",
        "  print(num1, \"*\", num2, \"=\", (num1*num2))\n",
        "elif choice == \"4\":\n",
        "  if num2 ==0.0:\n",
        "    print(\"divide by 0 Error\")\n",
        "  else:\n",
        "    print(num1, \"/\", num2, \"=\", (num1/num2))\n",
        "else:\n",
        "  print(\"invalic choice\")"
      ],
      "metadata": {
        "colab": {
          "base_uri": "https://localhost:8080/"
        },
        "id": "m-tswRyte7be",
        "outputId": "98d94a32-19f8-4794-8c8c-bd11044b87e3"
      },
      "execution_count": 6,
      "outputs": [
        {
          "output_type": "stream",
          "name": "stdout",
          "text": [
            "1 Addition\n",
            "2 Subtraction\n",
            "3 Multiplication\n",
            "4 Division\n",
            "Enter your choice here: 1\n",
            "enter number 1: 1\n",
            "enter number 2: 1\n",
            "1.0 + 1.0 = 2.0\n"
          ]
        }
      ]
    },
    {
      "cell_type": "code",
      "source": [
        "1"
      ],
      "metadata": {
        "id": "FNfMkQH0bioK"
      },
      "execution_count": 4,
      "outputs": []
    }
  ]
}