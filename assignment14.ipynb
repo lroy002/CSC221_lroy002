{
  "nbformat": 4,
  "nbformat_minor": 0,
  "metadata": {
    "colab": {
      "provenance": [],
      "authorship_tag": "ABX9TyOng95T2Nmh5PQm/c75lmex",
      "include_colab_link": true
    },
    "kernelspec": {
      "name": "python3",
      "display_name": "Python 3"
    },
    "language_info": {
      "name": "python"
    }
  },
  "cells": [
    {
      "cell_type": "markdown",
      "metadata": {
        "id": "view-in-github",
        "colab_type": "text"
      },
      "source": [
        "<a href=\"https://colab.research.google.com/github/lroy002/CSC221_lroy002/blob/main/assignment14.ipynb\" target=\"_parent\"><img src=\"https://colab.research.google.com/assets/colab-badge.svg\" alt=\"Open In Colab\"/></a>"
      ]
    },
    {
      "cell_type": "code",
      "execution_count": null,
      "metadata": {
        "colab": {
          "base_uri": "https://localhost:8080/"
        },
        "id": "R44P-aZrydxa",
        "outputId": "3b598faa-a4c7-4af6-da2b-4a39ec9af28e"
      },
      "outputs": [
        {
          "output_type": "stream",
          "name": "stdout",
          "text": [
            "Enter your a equation in the order 'number operator number': 7 * 7\n",
            "7.0 * 7.0 = 49.0\n"
          ]
        }
      ],
      "source": [
        "def calculate_expression(expression):\n",
        "    try:\n",
        "        args = expression.split(' ')\n",
        "\n",
        "        if len(args) != 3:\n",
        "            return \"Error: Input must be in the format 'number operator number'.\"\n",
        "\n",
        "        num1, operator, num2 = args\n",
        "\n",
        "        num1 = float(num1)\n",
        "        num2 = float(num2)\n",
        "\n",
        "        if operator == \"+\":\n",
        "            result = num1 + num2\n",
        "        elif operator == \"-\":\n",
        "            result = num1 - num2\n",
        "        elif operator == \"*\":\n",
        "            result = num1 * num2\n",
        "        elif operator == \"/\":\n",
        "\n",
        "            if num2 == 0.0:\n",
        "                return \"Error: Division by zero.\"\n",
        "            result = num1 / num2\n",
        "        else:\n",
        "\n",
        "            return \"Error: Invalid operator. Accepted opperators are +, -, *, /.\"\n",
        "\n",
        "\n",
        "        return f\"{num1} {operator} {num2} = {result}\"\n",
        "\n",
        "    except ValueError:\n",
        "        return \"Error: Invalid number input. Please enter valid numbers.\"\n",
        "\n",
        "    except Exception as e:\n",
        "        return f\"An unexpected error occurred: {str(e)}\"\n",
        "\n",
        "if __name__ == \"__main__\":\n",
        "    expression = input(\"Enter your a equation in the order 'number operator number': \")\n",
        "    print(calculate_expression(expression))\n"
      ]
    },
    {
      "cell_type": "code",
      "source": [],
      "metadata": {
        "id": "yIh8O2_o0zcy"
      },
      "execution_count": null,
      "outputs": []
    }
  ]
}